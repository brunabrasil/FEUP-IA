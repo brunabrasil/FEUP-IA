{
 "cells": [
  {
   "cell_type": "code",
   "execution_count": 1,
   "metadata": {},
   "outputs": [],
   "source": [
    "import numpy as np\n",
    "import pandas as pd\n",
    "import seaborn as sns\n",
    "import matplotlib.pyplot as plt\n",
    "from sklearn.neural_network import MLPClassifier"
   ]
  },
  {
   "cell_type": "code",
   "execution_count": 2,
   "metadata": {},
   "outputs": [
    {
     "name": "stdout",
     "output_type": "stream",
     "text": [
      "<class 'pandas.core.frame.DataFrame'>\n",
      "RangeIndex: 29210 entries, 0 to 29209\n",
      "Data columns (total 15 columns):\n",
      " #   Column                      Non-Null Count  Dtype  \n",
      "---  ------                      --------------  -----  \n",
      " 0   customer_age                29210 non-null  float64\n",
      " 1   job_type                    29210 non-null  int64  \n",
      " 2   marital                     29210 non-null  int64  \n",
      " 3   education                   29210 non-null  int64  \n",
      " 4   default                     29210 non-null  int64  \n",
      " 5   balance                     29210 non-null  float64\n",
      " 6   housing_loan                29210 non-null  int64  \n",
      " 7   personal_loan               29210 non-null  int64  \n",
      " 8   month                       29210 non-null  int64  \n",
      " 9   last_contact_duration       29210 non-null  float64\n",
      " 10  num_contacts_in_campaign    29210 non-null  float64\n",
      " 11  num_contacts_prev_campaign  29210 non-null  int64  \n",
      " 12  prev_campaign_outcome       29210 non-null  int64  \n",
      " 13  term_deposit_subscribed     29210 non-null  int64  \n",
      " 14  mid_month                   29210 non-null  int64  \n",
      "dtypes: float64(4), int64(11)\n",
      "memory usage: 3.3 MB\n"
     ]
    }
   ],
   "source": [
    "train_data = pd.read_csv('train-clean.csv',delimiter=',')\n",
    "train_data.info()"
   ]
  },
  {
   "cell_type": "code",
   "execution_count": 3,
   "metadata": {},
   "outputs": [],
   "source": [
    "input_names = list(train_data.columns)\n",
    "input_names.remove('term_deposit_subscribed')\n",
    "\n",
    "all_inputs = train_data[input_names]\n",
    "all_labels = train_data['term_deposit_subscribed']"
   ]
  },
  {
   "cell_type": "code",
   "execution_count": 4,
   "metadata": {},
   "outputs": [],
   "source": [
    "from sklearn.model_selection import train_test_split\n",
    "\n",
    "(training_inputs,\n",
    " testing_inputs,\n",
    " training_classes,\n",
    " testing_classes) = train_test_split(all_inputs, all_labels, test_size=0.25, random_state=1)"
   ]
  },
  {
   "cell_type": "code",
   "execution_count": 5,
   "metadata": {},
   "outputs": [
    {
     "data": {
      "text/plain": [
       "KNeighborsClassifier()"
      ]
     },
     "execution_count": 5,
     "metadata": {},
     "output_type": "execute_result"
    }
   ],
   "source": [
    "from sklearn.neighbors import KNeighborsClassifier\n",
    "\n",
    "knn= KNeighborsClassifier()\n",
    "knn.fit(training_inputs, training_classes)"
   ]
  },
  {
   "cell_type": "code",
   "execution_count": 6,
   "metadata": {},
   "outputs": [
    {
     "data": {
      "text/plain": [
       "0.8940161577433932"
      ]
     },
     "execution_count": 6,
     "metadata": {},
     "output_type": "execute_result"
    }
   ],
   "source": [
    "knn.score(testing_inputs, testing_classes)"
   ]
  }
 ],
 "metadata": {
  "kernelspec": {
   "display_name": "base",
   "language": "python",
   "name": "python3"
  },
  "language_info": {
   "codemirror_mode": {
    "name": "ipython",
    "version": 3
   },
   "file_extension": ".py",
   "mimetype": "text/x-python",
   "name": "python",
   "nbconvert_exporter": "python",
   "pygments_lexer": "ipython3",
   "version": "3.8.3"
  },
  "orig_nbformat": 4
 },
 "nbformat": 4,
 "nbformat_minor": 2
}
