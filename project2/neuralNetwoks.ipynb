{
 "cells": [
  {
   "cell_type": "code",
   "execution_count": 17,
   "metadata": {
    "ExecuteTime": {
     "end_time": "2023-05-08T18:11:41.657363Z",
     "start_time": "2023-05-08T18:11:41.653014Z"
    }
   },
   "outputs": [],
   "source": [
    "import numpy as np\n",
    "import pandas as pd\n",
    "import seaborn as sns\n",
    "import matplotlib.pyplot as plt\n",
    "from sklearn.neural_network import MLPClassifier\n"
   ]
  },
  {
   "cell_type": "code",
   "execution_count": 18,
   "metadata": {
    "ExecuteTime": {
     "end_time": "2023-05-08T18:11:41.694606Z",
     "start_time": "2023-05-08T18:11:41.656720Z"
    }
   },
   "outputs": [
    {
     "data": {
      "text/plain": "customer_age                  float64\njob_type                        int64\nmarital                         int64\neducation                       int64\ndefault                         int64\nbalance                       float64\nhousing_loan                    int64\npersonal_loan                   int64\nmonth                           int64\nlast_contact_duration         float64\nnum_contacts_in_campaign      float64\nnum_contacts_prev_campaign      int64\nprev_campaign_outcome           int64\nterm_deposit_subscribed         int64\nmid_month                       int64\ndtype: object"
     },
     "execution_count": 18,
     "metadata": {},
     "output_type": "execute_result"
    }
   ],
   "source": [
    "\n",
    "train_data = pd.read_csv('train-clean.csv',delimiter=\",\")\n",
    "# GETTING THE NULL VALUES\n",
    "train_data.dtypes"
   ]
  },
  {
   "cell_type": "code",
   "execution_count": 19,
   "metadata": {
    "ExecuteTime": {
     "end_time": "2023-05-08T18:11:41.703658Z",
     "start_time": "2023-05-08T18:11:41.699148Z"
    }
   },
   "outputs": [],
   "source": [
    "input_names = list(train_data.columns)\n",
    "input_names.remove('term_deposit_subscribed')\n",
    "\n",
    "all_inputs = train_data[input_names].values\n",
    "all_labels = train_data['term_deposit_subscribed'].values"
   ]
  },
  {
   "cell_type": "code",
   "execution_count": 20,
   "metadata": {
    "ExecuteTime": {
     "end_time": "2023-05-08T18:11:41.724526Z",
     "start_time": "2023-05-08T18:11:41.711285Z"
    }
   },
   "outputs": [],
   "source": [
    "from sklearn.preprocessing import StandardScaler, OneHotEncoder\n",
    "\n",
    "\"\"\" categorical_features = ['job_type', 'marital', 'education', 'default', 'housing_loan', 'personal_loan', 'month', 'prev_campaign_outcome']\n",
    "encoder = OneHotEncoder(handle_unknown='ignore')\n",
    "all_inputs_encoded = pd.DataFrame(encoder.fit_transform(all_inputs[categorical_features]).toarray())\n",
    "all_inputs_encoded.columns = encoder.get_feature_names(categorical_features)\n",
    "all_inputs_encoded.index = all_inputs.index\n",
    "all_inputs_encoded = pd.concat([all_inputs.drop(categorical_features, axis=1), all_inputs_encoded], axis=1) \"\"\"\n",
    "\n",
    "all_inputs_df = pd.DataFrame(all_inputs, columns=input_names)\n",
    "categorical_features = ['job_type', 'marital', 'education', 'default', 'housing_loan', 'personal_loan', 'month', 'prev_campaign_outcome']\n",
    "encoder = OneHotEncoder(handle_unknown='ignore')\n",
    "categorical_feature_indices = [all_inputs_df.columns.get_loc(col) for col in categorical_features]\n",
    "all_inputs_encoded = pd.DataFrame(encoder.fit_transform(all_inputs_df.iloc[:, categorical_feature_indices]).toarray())\n",
    "all_inputs_encoded.columns = encoder.get_feature_names(categorical_features)\n",
    "all_inputs_encoded.index = all_inputs_df.index\n",
    "all_inputs_encoded = pd.concat([all_inputs_df.drop(categorical_features, axis=1), all_inputs_encoded], axis=1)\n",
    "\n",
    "\n",
    "\n",
    "\n"
   ]
  },
  {
   "cell_type": "code",
   "execution_count": 21,
   "metadata": {
    "ExecuteTime": {
     "end_time": "2023-05-08T18:11:41.740687Z",
     "start_time": "2023-05-08T18:11:41.717591Z"
    }
   },
   "outputs": [
    {
     "data": {
      "text/plain": "array([[-0.69280058, -0.09357388, -0.26627764, ...,  4.88086651,\n        -2.68253946, -1.0196852 ],\n       [ 1.18836903, -1.01337176, -0.26627764, ..., -0.38389216,\n         0.4245467 , -1.0196852 ],\n       [ 1.37648599, -0.40017317, -0.26627764, ..., -0.38389216,\n         0.4245467 ,  0.98069482],\n       ...,\n       [-0.69280058, -0.09357388, -0.26627764, ...,  1.72201131,\n        -2.68253946, -1.0196852 ],\n       [-2.10367779,  1.1328233 ,  1.3736842 , ...,  0.66905958,\n        -2.68253946,  0.98069482],\n       [-0.22250818, -0.09357388, -0.26627764, ..., -0.38389216,\n         0.4245467 ,  0.98069482]])"
     },
     "execution_count": 21,
     "metadata": {},
     "output_type": "execute_result"
    }
   ],
   "source": [
    "from sklearn.model_selection import train_test_split\n",
    "\n",
    "(training_inputs,\n",
    " testing_inputs,\n",
    " training_classes,\n",
    " testing_classes) = train_test_split(all_inputs_encoded.values, all_labels, test_size=0.25, random_state=1)\n",
    "# Split the encoded dataset into training and testing sets\n",
    "#(training_inputs, \n",
    "# testing_inputs,\n",
    "# training_classes,\n",
    "# testing_classes) = train_test_split(all_inputs_encoded.values, all_labels.values, test_size=0.25, random_state=1)\n",
    "\n"
   ]
  },
  {
   "cell_type": "code",
   "execution_count": 22,
   "metadata": {
    "ExecuteTime": {
     "end_time": "2023-05-08T18:12:12.537196Z",
     "start_time": "2023-05-08T18:11:41.738649Z"
    }
   },
   "outputs": [
    {
     "data": {
      "text/plain": "0.9135971518554019"
     },
     "execution_count": 22,
     "metadata": {},
     "output_type": "execute_result"
    }
   ],
   "source": [
    "from sklearn.preprocessing import StandardScaler  \n",
    "\n",
    "scaler = StandardScaler()\n",
    "scaler.fit(training_inputs)\n",
    "training_inputs = scaler.transform(training_inputs)\n",
    "testing_inputs = scaler.transform(testing_inputs)  \n",
    "\n",
    "#scaler = StandardScaler()\n",
    "#training_inputs[:, :-32] = scaler.fit_transform(training_inputs[:, :-32])\n",
    "#testing_inputs[:, :-32] = scaler.transform(testing_inputs[:, :-32])\n",
    "\n",
    "training_inputs"
   ]
  },
  {
   "cell_type": "code",
   "execution_count": 23,
   "metadata": {
    "ExecuteTime": {
     "end_time": "2023-05-08T18:12:12.597527Z",
     "start_time": "2023-05-08T18:12:12.539065Z"
    }
   },
   "outputs": [
    {
     "name": "stdout",
     "output_type": "stream",
     "text": [
      "              precision    recall  f1-score   support\n",
      "\n",
      "           0       0.94      0.97      0.95      6602\n",
      "           1       0.57      0.41      0.48       701\n",
      "\n",
      "    accuracy                           0.91      7303\n",
      "   macro avg       0.75      0.69      0.72      7303\n",
      "weighted avg       0.90      0.91      0.91      7303\n",
      "\n"
     ]
    }
   ],
   "source": [
    "# Create the classifier\n",
    "clf = MLPClassifier(max_iter=700)\n",
    "\n",
    "# Train the classifier on the training set\n",
    "clf.fit(training_inputs, training_classes)\n",
    "\n",
    "# Validate the classifier on the testing set using classification accuracy\n",
    "clf.score(testing_inputs, testing_classes)"
   ]
  },
  {
   "cell_type": "code",
   "execution_count": null,
   "metadata": {
    "is_executing": true
   },
   "outputs": [],
   "source": [
    "from sklearn.metrics import classification_report, confusion_matrix\n",
    "\n",
    "predictions = clf.predict(testing_inputs)\n",
    "print(classification_report(testing_classes, predictions))"
   ]
  },
  {
   "cell_type": "code",
   "execution_count": 25,
   "metadata": {
    "ExecuteTime": {
     "end_time": "2023-05-08T18:13:16.281823Z",
     "start_time": "2023-05-08T18:12:44.957637Z"
    }
   },
   "outputs": [
    {
     "data": {
      "text/plain": "Text(0.5, 1.0, 'Average score: 0.9000342348510785')"
     },
     "execution_count": 25,
     "metadata": {},
     "output_type": "execute_result"
    },
    {
     "data": {
      "text/plain": "<Figure size 640x480 with 1 Axes>",
      "image/png": "[encoded data removed]"
     },
     "metadata": {},
     "output_type": "display_data"
    }
   ],
   "source": [
    "improved_clf = MLPClassifier(activation='logistic', alpha=0.001, hidden_layer_sizes=50, max_iter=700)\n",
    "\n",
    "# Train the classifier on the training set\n",
    "improved_clf.fit(training_inputs, training_classes)\n",
    "new_predictions = improved_clf.predict(testing_inputs)\n",
    "print(classification_report(testing_classes, new_predictions))"
   ]
  },
  {
   "cell_type": "code",
   "execution_count": 26,
   "metadata": {},
   "outputs": [
    {
     "name": "stdout",
     "output_type": "stream",
     "text": [
      "[CV 1/10] END activation=tanh, alpha=0.0001, hidden_layer_sizes=100, max_iter=700, solver=adam;, score=0.904 total time=  10.7s\n",
      "[CV 2/10] END activation=tanh, alpha=0.0001, hidden_layer_sizes=100, max_iter=700, solver=adam;, score=0.901 total time=   7.6s\n",
      "[CV 3/10] END activation=tanh, alpha=0.0001, hidden_layer_sizes=100, max_iter=700, solver=adam;, score=0.904 total time=   7.9s\n",
      "[CV 4/10] END activation=tanh, alpha=0.0001, hidden_layer_sizes=100, max_iter=700, solver=adam;, score=0.903 total time=   9.6s\n",
      "[CV 5/10] END activation=tanh, alpha=0.0001, hidden_layer_sizes=100, max_iter=700, solver=adam;, score=0.902 total time=   8.4s\n",
      "[CV 6/10] END activation=tanh, alpha=0.0001, hidden_layer_sizes=100, max_iter=700, solver=adam;, score=0.901 total time=   6.8s\n",
      "[CV 7/10] END activation=tanh, alpha=0.0001, hidden_layer_sizes=100, max_iter=700, solver=adam;, score=0.896 total time=   9.7s\n",
      "[CV 8/10] END activation=tanh, alpha=0.0001, hidden_layer_sizes=100, max_iter=700, solver=adam;, score=0.897 total time=  11.5s\n",
      "[CV 9/10] END activation=tanh, alpha=0.0001, hidden_layer_sizes=100, max_iter=700, solver=adam;, score=0.896 total time=   8.1s\n",
      "[CV 10/10] END activation=tanh, alpha=0.0001, hidden_layer_sizes=100, max_iter=700, solver=adam;, score=0.906 total time=   5.2s\n",
      "[CV 1/10] END activation=tanh, alpha=0.001, hidden_layer_sizes=10, max_iter=700, solver=adam;, score=0.902 total time=   5.6s\n",
      "[CV 2/10] END activation=tanh, alpha=0.001, hidden_layer_sizes=10, max_iter=700, solver=adam;, score=0.901 total time=   3.7s\n",
      "[CV 3/10] END activation=tanh, alpha=0.001, hidden_layer_sizes=10, max_iter=700, solver=adam;, score=0.901 total time=   5.4s\n",
      "[CV 4/10] END activation=tanh, alpha=0.001, hidden_layer_sizes=10, max_iter=700, solver=adam;, score=0.901 total time=   4.4s\n",
      "[CV 5/10] END activation=tanh, alpha=0.001, hidden_layer_sizes=10, max_iter=700, solver=adam;, score=0.901 total time=   3.7s\n",
      "[CV 6/10] END activation=tanh, alpha=0.001, hidden_layer_sizes=10, max_iter=700, solver=adam;, score=0.902 total time=   4.6s\n",
      "[CV 7/10] END activation=tanh, alpha=0.001, hidden_layer_sizes=10, max_iter=700, solver=adam;, score=0.901 total time=   3.6s\n",
      "[CV 8/10] END activation=tanh, alpha=0.001, hidden_layer_sizes=10, max_iter=700, solver=adam;, score=0.901 total time=   5.8s\n",
      "[CV 9/10] END activation=tanh, alpha=0.001, hidden_layer_sizes=10, max_iter=700, solver=adam;, score=0.902 total time=   6.5s\n",
      "[CV 10/10] END activation=tanh, alpha=0.001, hidden_layer_sizes=10, max_iter=700, solver=adam;, score=0.901 total time=   4.5s\n",
      "[CV 1/10] END activation=tanh, alpha=0.001, hidden_layer_sizes=50, max_iter=700, solver=adam;, score=0.903 total time=   4.6s\n",
      "[CV 2/10] END activation=tanh, alpha=0.001, hidden_layer_sizes=50, max_iter=700, solver=adam;, score=0.902 total time=   7.1s\n",
      "[CV 3/10] END activation=tanh, alpha=0.001, hidden_layer_sizes=50, max_iter=700, solver=adam;, score=0.903 total time=   3.4s\n",
      "[CV 4/10] END activation=tanh, alpha=0.001, hidden_layer_sizes=50, max_iter=700, solver=adam;, score=0.902 total time=   4.3s\n",
      "[CV 5/10] END activation=tanh, alpha=0.001, hidden_layer_sizes=50, max_iter=700, solver=adam;, score=0.901 total time=   6.1s\n",
      "[CV 6/10] END activation=tanh, alpha=0.001, hidden_layer_sizes=50, max_iter=700, solver=adam;, score=0.903 total time=   6.3s\n",
      "[CV 7/10] END activation=tanh, alpha=0.001, hidden_layer_sizes=50, max_iter=700, solver=adam;, score=0.901 total time=   9.4s\n",
      "[CV 8/10] END activation=tanh, alpha=0.001, hidden_layer_sizes=50, max_iter=700, solver=adam;, score=0.885 total time=   6.0s\n",
      "[CV 9/10] END activation=tanh, alpha=0.001, hidden_layer_sizes=50, max_iter=700, solver=adam;, score=0.904 total time=   3.2s\n",
      "[CV 10/10] END activation=tanh, alpha=0.001, hidden_layer_sizes=50, max_iter=700, solver=adam;, score=0.904 total time=   8.9s\n",
      "[CV 1/10] END activation=tanh, alpha=0.001, hidden_layer_sizes=100, max_iter=700, solver=adam;, score=0.900 total time=   7.2s\n",
      "[CV 2/10] END activation=tanh, alpha=0.001, hidden_layer_sizes=100, max_iter=700, solver=adam;, score=0.893 total time=   7.7s\n",
      "[CV 3/10] END activation=tanh, alpha=0.001, hidden_layer_sizes=100, max_iter=700, solver=adam;, score=0.903 total time=   7.8s\n",
      "[CV 4/10] END activation=tanh, alpha=0.001, hidden_layer_sizes=100, max_iter=700, solver=adam;, score=0.905 total time=  12.3s\n",
      "[CV 5/10] END activation=tanh, alpha=0.001, hidden_layer_sizes=100, max_iter=700, solver=adam;, score=0.902 total time=   6.2s\n"
     ]
    },
    {
     "name": "stderr",
     "output_type": "stream",
     "text": [
      "/Users/sofiagoncalves/Desktop/Projeto 1 IA/venv/lib/python3.8/site-packages/sklearn/neural_network/_multilayer_perceptron.py:693: UserWarning: Training interrupted by user.\n",
      "  warnings.warn(\"Training interrupted by user.\")\n"
     ]
    },
    {
     "name": "stdout",
     "output_type": "stream",
     "text": [
      "[CV 6/10] END activation=tanh, alpha=0.001, hidden_layer_sizes=100, max_iter=700, solver=adam;, score=0.900 total time=   9.3s\n",
      "[CV 7/10] END activation=tanh, alpha=0.001, hidden_layer_sizes=100, max_iter=700, solver=adam;, score=0.898 total time=   8.0s\n",
      "[CV 8/10] END activation=tanh, alpha=0.001, hidden_layer_sizes=100, max_iter=700, solver=adam;, score=0.894 total time=   9.0s\n",
      "[CV 9/10] END activation=tanh, alpha=0.001, hidden_layer_sizes=100, max_iter=700, solver=adam;, score=0.902 total time=   8.7s\n",
      "[CV 10/10] END activation=tanh, alpha=0.001, hidden_layer_sizes=100, max_iter=700, solver=adam;, score=0.899 total time=   6.9s\n",
      "[CV 1/10] END activation=tanh, alpha=0.01, hidden_layer_sizes=10, max_iter=700, solver=adam;, score=0.903 total time=   6.6s\n",
      "[CV 2/10] END activation=tanh, alpha=0.01, hidden_layer_sizes=10, max_iter=700, solver=adam;, score=0.901 total time=   3.3s\n",
      "[CV 3/10] END activation=tanh, alpha=0.01, hidden_layer_sizes=10, max_iter=700, solver=adam;, score=0.901 total time=   4.8s\n",
      "[CV 4/10] END activation=tanh, alpha=0.01, hidden_layer_sizes=10, max_iter=700, solver=adam;, score=0.901 total time=   4.6s\n",
      "[CV 5/10] END activation=tanh, alpha=0.01, hidden_layer_sizes=10, max_iter=700, solver=adam;, score=0.901 total time=   4.6s\n",
      "[CV 6/10] END activation=tanh, alpha=0.01, hidden_layer_sizes=10, max_iter=700, solver=adam;, score=0.901 total time=   4.1s\n",
      "[CV 7/10] END activation=tanh, alpha=0.01, hidden_layer_sizes=10, max_iter=700, solver=adam;, score=0.901 total time=   3.9s\n",
      "[CV 8/10] END activation=tanh, alpha=0.01, hidden_layer_sizes=10, max_iter=700, solver=adam;, score=0.901 total time=   3.8s\n",
      "[CV 9/10] END activation=tanh, alpha=0.01, hidden_layer_sizes=10, max_iter=700, solver=adam;, score=0.901 total time=   2.2s\n",
      "[CV 10/10] END activation=tanh, alpha=0.01, hidden_layer_sizes=10, max_iter=700, solver=adam;, score=0.901 total time=   4.6s\n",
      "[CV 1/10] END activation=tanh, alpha=0.01, hidden_layer_sizes=50, max_iter=700, solver=adam;, score=0.898 total time=   3.1s\n",
      "[CV 2/10] END activation=tanh, alpha=0.01, hidden_layer_sizes=50, max_iter=700, solver=adam;, score=0.899 total time=   4.9s\n",
      "[CV 3/10] END activation=tanh, alpha=0.01, hidden_layer_sizes=50, max_iter=700, solver=adam;, score=0.892 total time=   4.0s\n",
      "[CV 4/10] END activation=tanh, alpha=0.01, hidden_layer_sizes=50, max_iter=700, solver=adam;, score=0.904 total time=   4.7s\n",
      "[CV 5/10] END activation=tanh, alpha=0.01, hidden_layer_sizes=50, max_iter=700, solver=adam;, score=0.900 total time=   5.5s\n",
      "[CV 6/10] END activation=tanh, alpha=0.01, hidden_layer_sizes=50, max_iter=700, solver=adam;, score=0.896 total time=   4.0s\n",
      "[CV 7/10] END activation=tanh, alpha=0.01, hidden_layer_sizes=50, max_iter=700, solver=adam;, score=0.902 total time=   4.8s\n",
      "[CV 8/10] END activation=tanh, alpha=0.01, hidden_layer_sizes=50, max_iter=700, solver=adam;, score=0.899 total time=   6.4s\n",
      "[CV 9/10] END activation=tanh, alpha=0.01, hidden_layer_sizes=50, max_iter=700, solver=adam;, score=0.905 total time=   6.5s\n",
      "[CV 10/10] END activation=tanh, alpha=0.01, hidden_layer_sizes=50, max_iter=700, solver=adam;, score=0.903 total time=   4.3s\n",
      "[CV 1/10] END activation=tanh, alpha=0.01, hidden_layer_sizes=100, max_iter=700, solver=adam;, score=0.902 total time=   7.6s\n",
      "[CV 2/10] END activation=tanh, alpha=0.01, hidden_layer_sizes=100, max_iter=700, solver=adam;, score=0.900 total time=   7.3s\n",
      "[CV 3/10] END activation=tanh, alpha=0.01, hidden_layer_sizes=100, max_iter=700, solver=adam;, score=0.897 total time=   7.3s\n",
      "[CV 4/10] END activation=tanh, alpha=0.01, hidden_layer_sizes=100, max_iter=700, solver=adam;, score=0.899 total time=   7.8s\n",
      "[CV 5/10] END activation=tanh, alpha=0.01, hidden_layer_sizes=100, max_iter=700, solver=adam;, score=0.903 total time=  10.8s\n",
      "[CV 6/10] END activation=tanh, alpha=0.01, hidden_layer_sizes=100, max_iter=700, solver=adam;, score=0.901 total time=   5.5s\n",
      "[CV 7/10] END activation=tanh, alpha=0.01, hidden_layer_sizes=100, max_iter=700, solver=adam;, score=0.897 total time=   8.3s\n",
      "[CV 8/10] END activation=tanh, alpha=0.01, hidden_layer_sizes=100, max_iter=700, solver=adam;, score=0.898 total time=   6.7s\n",
      "[CV 9/10] END activation=tanh, alpha=0.01, hidden_layer_sizes=100, max_iter=700, solver=adam;, score=0.902 total time=   6.3s\n",
      "[CV 10/10] END activation=tanh, alpha=0.01, hidden_layer_sizes=100, max_iter=700, solver=adam;, score=0.902 total time=   5.9s\n",
      "[CV 1/10] END activation=logistic, alpha=0.0001, hidden_layer_sizes=10, max_iter=700, solver=adam;, score=0.901 total time=   2.8s\n",
      "[CV 2/10] END activation=logistic, alpha=0.0001, hidden_layer_sizes=10, max_iter=700, solver=adam;, score=0.901 total time=   2.5s\n",
      "[CV 3/10] END activation=logistic, alpha=0.0001, hidden_layer_sizes=10, max_iter=700, solver=adam;, score=0.901 total time=   3.1s\n",
      "[CV 4/10] END activation=logistic, alpha=0.0001, hidden_layer_sizes=10, max_iter=700, solver=adam;, score=0.903 total time=   2.9s\n",
      "[CV 5/10] END activation=logistic, alpha=0.0001, hidden_layer_sizes=10, max_iter=700, solver=adam;, score=0.901 total time=   3.8s\n",
      "[CV 6/10] END activation=logistic, alpha=0.0001, hidden_layer_sizes=10, max_iter=700, solver=adam;, score=0.898 total time=   3.2s\n",
      "[CV 7/10] END activation=logistic, alpha=0.0001, hidden_layer_sizes=10, max_iter=700, solver=adam;, score=0.898 total time=   2.7s\n",
      "[CV 8/10] END activation=logistic, alpha=0.0001, hidden_layer_sizes=10, max_iter=700, solver=adam;, score=0.896 total time=   3.0s\n",
      "[CV 9/10] END activation=logistic, alpha=0.0001, hidden_layer_sizes=10, max_iter=700, solver=adam;, score=0.901 total time=   2.6s\n",
      "[CV 10/10] END activation=logistic, alpha=0.0001, hidden_layer_sizes=10, max_iter=700, solver=adam;, score=0.901 total time=   2.6s\n",
      "[CV 1/10] END activation=logistic, alpha=0.0001, hidden_layer_sizes=50, max_iter=700, solver=adam;, score=0.904 total time=   3.8s\n",
      "[CV 2/10] END activation=logistic, alpha=0.0001, hidden_layer_sizes=50, max_iter=700, solver=adam;, score=0.902 total time=   4.6s\n",
      "[CV 3/10] END activation=logistic, alpha=0.0001, hidden_layer_sizes=50, max_iter=700, solver=adam;, score=0.903 total time=   5.7s\n",
      "[CV 4/10] END activation=logistic, alpha=0.0001, hidden_layer_sizes=50, max_iter=700, solver=adam;, score=0.904 total time=   4.7s\n",
      "[CV 5/10] END activation=logistic, alpha=0.0001, hidden_layer_sizes=50, max_iter=700, solver=adam;, score=0.906 total time=   6.9s\n",
      "[CV 6/10] END activation=logistic, alpha=0.0001, hidden_layer_sizes=50, max_iter=700, solver=adam;, score=0.903 total time=   7.6s\n",
      "[CV 7/10] END activation=logistic, alpha=0.0001, hidden_layer_sizes=50, max_iter=700, solver=adam;, score=0.902 total time=   4.4s\n",
      "[CV 8/10] END activation=logistic, alpha=0.0001, hidden_layer_sizes=50, max_iter=700, solver=adam;, score=0.896 total time=   9.7s\n",
      "[CV 9/10] END activation=logistic, alpha=0.0001, hidden_layer_sizes=50, max_iter=700, solver=adam;, score=0.903 total time=   4.8s\n",
      "[CV 10/10] END activation=logistic, alpha=0.0001, hidden_layer_sizes=50, max_iter=700, solver=adam;, score=0.907 total time=   6.3s\n",
      "[CV 1/10] END activation=logistic, alpha=0.0001, hidden_layer_sizes=100, max_iter=700, solver=adam;, score=0.909 total time=   6.7s\n",
      "[CV 2/10] END activation=logistic, alpha=0.0001, hidden_layer_sizes=100, max_iter=700, solver=adam;, score=0.902 total time=   5.2s\n",
      "[CV 3/10] END activation=logistic, alpha=0.0001, hidden_layer_sizes=100, max_iter=700, solver=adam;, score=0.902 total time=   8.1s\n",
      "[CV 4/10] END activation=logistic, alpha=0.0001, hidden_layer_sizes=100, max_iter=700, solver=adam;, score=0.905 total time=   5.3s\n",
      "[CV 5/10] END activation=logistic, alpha=0.0001, hidden_layer_sizes=100, max_iter=700, solver=adam;, score=0.905 total time=   9.1s\n",
      "[CV 6/10] END activation=logistic, alpha=0.0001, hidden_layer_sizes=100, max_iter=700, solver=adam;, score=0.904 total time=   5.8s\n",
      "[CV 7/10] END activation=logistic, alpha=0.0001, hidden_layer_sizes=100, max_iter=700, solver=adam;, score=0.901 total time=   5.9s\n",
      "[CV 8/10] END activation=logistic, alpha=0.0001, hidden_layer_sizes=100, max_iter=700, solver=adam;, score=0.898 total time=   5.7s\n",
      "[CV 9/10] END activation=logistic, alpha=0.0001, hidden_layer_sizes=100, max_iter=700, solver=adam;, score=0.905 total time=   6.3s\n",
      "[CV 10/10] END activation=logistic, alpha=0.0001, hidden_layer_sizes=100, max_iter=700, solver=adam;, score=0.906 total time=   4.0s\n",
      "[CV 1/10] END activation=logistic, alpha=0.001, hidden_layer_sizes=10, max_iter=700, solver=adam;, score=0.902 total time=   3.9s\n",
      "[CV 2/10] END activation=logistic, alpha=0.001, hidden_layer_sizes=10, max_iter=700, solver=adam;, score=0.902 total time=   4.0s\n",
      "[CV 3/10] END activation=logistic, alpha=0.001, hidden_layer_sizes=10, max_iter=700, solver=adam;, score=0.903 total time=   4.4s\n",
      "[CV 4/10] END activation=logistic, alpha=0.001, hidden_layer_sizes=10, max_iter=700, solver=adam;, score=0.901 total time=   3.0s\n",
      "[CV 5/10] END activation=logistic, alpha=0.001, hidden_layer_sizes=10, max_iter=700, solver=adam;, score=0.901 total time=   3.0s\n",
      "[CV 6/10] END activation=logistic, alpha=0.001, hidden_layer_sizes=10, max_iter=700, solver=adam;, score=0.903 total time=   3.9s\n",
      "[CV 7/10] END activation=logistic, alpha=0.001, hidden_layer_sizes=10, max_iter=700, solver=adam;, score=0.902 total time=   4.8s\n",
      "[CV 8/10] END activation=logistic, alpha=0.001, hidden_layer_sizes=10, max_iter=700, solver=adam;, score=0.890 total time=   3.3s\n",
      "[CV 9/10] END activation=logistic, alpha=0.001, hidden_layer_sizes=10, max_iter=700, solver=adam;, score=0.901 total time=   2.5s\n",
      "[CV 10/10] END activation=logistic, alpha=0.001, hidden_layer_sizes=10, max_iter=700, solver=adam;, score=0.903 total time=   4.4s\n",
      "[CV 1/10] END activation=logistic, alpha=0.001, hidden_layer_sizes=50, max_iter=700, solver=adam;, score=0.903 total time=   6.4s\n",
      "[CV 2/10] END activation=logistic, alpha=0.001, hidden_layer_sizes=50, max_iter=700, solver=adam;, score=0.904 total time=   4.6s\n",
      "[CV 3/10] END activation=logistic, alpha=0.001, hidden_layer_sizes=50, max_iter=700, solver=adam;, score=0.904 total time=   3.2s\n",
      "[CV 4/10] END activation=logistic, alpha=0.001, hidden_layer_sizes=50, max_iter=700, solver=adam;, score=0.903 total time=   4.5s\n",
      "[CV 5/10] END activation=logistic, alpha=0.001, hidden_layer_sizes=50, max_iter=700, solver=adam;, score=0.909 total time=   3.1s\n",
      "[CV 6/10] END activation=logistic, alpha=0.001, hidden_layer_sizes=50, max_iter=700, solver=adam;, score=0.903 total time=   5.5s\n",
      "[CV 7/10] END activation=logistic, alpha=0.001, hidden_layer_sizes=50, max_iter=700, solver=adam;, score=0.901 total time=   5.8s\n",
      "[CV 8/10] END activation=logistic, alpha=0.001, hidden_layer_sizes=50, max_iter=700, solver=adam;, score=0.900 total time=   8.8s\n",
      "[CV 9/10] END activation=logistic, alpha=0.001, hidden_layer_sizes=50, max_iter=700, solver=adam;, score=0.904 total time=   4.5s\n",
      "[CV 10/10] END activation=logistic, alpha=0.001, hidden_layer_sizes=50, max_iter=700, solver=adam;, score=0.906 total time=   7.3s\n",
      "[CV 1/10] END activation=logistic, alpha=0.001, hidden_layer_sizes=100, max_iter=700, solver=adam;, score=0.903 total time=   6.6s\n",
      "[CV 2/10] END activation=logistic, alpha=0.001, hidden_layer_sizes=100, max_iter=700, solver=adam;, score=0.905 total time=   9.8s\n",
      "[CV 3/10] END activation=logistic, alpha=0.001, hidden_layer_sizes=100, max_iter=700, solver=adam;, score=0.902 total time=  13.7s\n",
      "[CV 4/10] END activation=logistic, alpha=0.001, hidden_layer_sizes=100, max_iter=700, solver=adam;, score=0.906 total time=   9.1s\n",
      "[CV 5/10] END activation=logistic, alpha=0.001, hidden_layer_sizes=100, max_iter=700, solver=adam;, score=0.908 total time=   4.9s\n",
      "[CV 6/10] END activation=logistic, alpha=0.001, hidden_layer_sizes=100, max_iter=700, solver=adam;, score=0.901 total time=  16.7s\n",
      "[CV 7/10] END activation=logistic, alpha=0.001, hidden_layer_sizes=100, max_iter=700, solver=adam;, score=0.899 total time=  14.3s\n",
      "[CV 8/10] END activation=logistic, alpha=0.001, hidden_layer_sizes=100, max_iter=700, solver=adam;, score=0.899 total time=   8.7s\n",
      "[CV 9/10] END activation=logistic, alpha=0.001, hidden_layer_sizes=100, max_iter=700, solver=adam;, score=0.905 total time=   6.8s\n",
      "[CV 10/10] END activation=logistic, alpha=0.001, hidden_layer_sizes=100, max_iter=700, solver=adam;, score=0.905 total time=   7.6s\n",
      "[CV 1/10] END activation=logistic, alpha=0.01, hidden_layer_sizes=10, max_iter=700, solver=adam;, score=0.906 total time=   6.2s\n",
      "[CV 2/10] END activation=logistic, alpha=0.01, hidden_layer_sizes=10, max_iter=700, solver=adam;, score=0.902 total time=   8.2s\n",
      "[CV 3/10] END activation=logistic, alpha=0.01, hidden_layer_sizes=10, max_iter=700, solver=adam;, score=0.901 total time=   4.4s\n",
      "[CV 4/10] END activation=logistic, alpha=0.01, hidden_layer_sizes=10, max_iter=700, solver=adam;, score=0.903 total time=   4.8s\n",
      "[CV 5/10] END activation=logistic, alpha=0.01, hidden_layer_sizes=10, max_iter=700, solver=adam;, score=0.901 total time=   3.2s\n",
      "[CV 6/10] END activation=logistic, alpha=0.01, hidden_layer_sizes=10, max_iter=700, solver=adam;, score=0.901 total time=   4.0s\n",
      "[CV 7/10] END activation=logistic, alpha=0.01, hidden_layer_sizes=10, max_iter=700, solver=adam;, score=0.901 total time=   4.2s\n",
      "[CV 8/10] END activation=logistic, alpha=0.01, hidden_layer_sizes=10, max_iter=700, solver=adam;, score=0.896 total time=   4.5s\n",
      "[CV 9/10] END activation=logistic, alpha=0.01, hidden_layer_sizes=10, max_iter=700, solver=adam;, score=0.901 total time=   3.3s\n",
      "[CV 10/10] END activation=logistic, alpha=0.01, hidden_layer_sizes=10, max_iter=700, solver=adam;, score=0.901 total time=   2.7s\n",
      "[CV 1/10] END activation=logistic, alpha=0.01, hidden_layer_sizes=50, max_iter=700, solver=adam;, score=0.909 total time=   4.7s\n",
      "[CV 2/10] END activation=logistic, alpha=0.01, hidden_layer_sizes=50, max_iter=700, solver=adam;, score=0.904 total time=   3.0s\n",
      "[CV 3/10] END activation=logistic, alpha=0.01, hidden_layer_sizes=50, max_iter=700, solver=adam;, score=0.903 total time=   6.4s\n",
      "[CV 4/10] END activation=logistic, alpha=0.01, hidden_layer_sizes=50, max_iter=700, solver=adam;, score=0.901 total time=   9.5s\n",
      "[CV 5/10] END activation=logistic, alpha=0.01, hidden_layer_sizes=50, max_iter=700, solver=adam;, score=0.905 total time=   7.0s\n",
      "[CV 6/10] END activation=logistic, alpha=0.01, hidden_layer_sizes=50, max_iter=700, solver=adam;, score=0.901 total time=   6.1s\n",
      "[CV 7/10] END activation=logistic, alpha=0.01, hidden_layer_sizes=50, max_iter=700, solver=adam;, score=0.896 total time=   6.4s\n",
      "[CV 8/10] END activation=logistic, alpha=0.01, hidden_layer_sizes=50, max_iter=700, solver=adam;, score=0.895 total time=   5.2s\n",
      "[CV 9/10] END activation=logistic, alpha=0.01, hidden_layer_sizes=50, max_iter=700, solver=adam;, score=0.902 total time=   6.9s\n",
      "[CV 10/10] END activation=logistic, alpha=0.01, hidden_layer_sizes=50, max_iter=700, solver=adam;, score=0.909 total time=   6.3s\n",
      "[CV 1/10] END activation=logistic, alpha=0.01, hidden_layer_sizes=100, max_iter=700, solver=adam;, score=0.905 total time=   8.7s\n",
      "[CV 2/10] END activation=logistic, alpha=0.01, hidden_layer_sizes=100, max_iter=700, solver=adam;, score=0.906 total time=   9.5s\n",
      "[CV 3/10] END activation=logistic, alpha=0.01, hidden_layer_sizes=100, max_iter=700, solver=adam;, score=0.909 total time=  12.1s\n",
      "[CV 4/10] END activation=logistic, alpha=0.01, hidden_layer_sizes=100, max_iter=700, solver=adam;, score=0.901 total time=  10.6s\n",
      "[CV 5/10] END activation=logistic, alpha=0.01, hidden_layer_sizes=100, max_iter=700, solver=adam;, score=0.903 total time=   7.5s\n",
      "[CV 6/10] END activation=logistic, alpha=0.01, hidden_layer_sizes=100, max_iter=700, solver=adam;, score=0.902 total time=   7.8s\n",
      "[CV 7/10] END activation=logistic, alpha=0.01, hidden_layer_sizes=100, max_iter=700, solver=adam;, score=0.901 total time=   6.6s\n",
      "[CV 8/10] END activation=logistic, alpha=0.01, hidden_layer_sizes=100, max_iter=700, solver=adam;, score=0.904 total time=  11.0s\n",
      "[CV 9/10] END activation=logistic, alpha=0.01, hidden_layer_sizes=100, max_iter=700, solver=adam;, score=0.903 total time=  11.4s\n",
      "[CV 10/10] END activation=logistic, alpha=0.01, hidden_layer_sizes=100, max_iter=700, solver=adam;, score=0.900 total time=   9.1s\n",
      "Best score: 0.9038000684697021\n",
      "Best parameters: {'activation': 'logistic', 'alpha': 0.0001, 'hidden_layer_sizes': 100, 'max_iter': 700, 'solver': 'adam'}\n",
      "Best estimator: MLPClassifier(activation='logistic', hidden_layer_sizes=100, max_iter=700)\n",
      "Fitting 10 folds for each of 54 candidates, totalling 540 fits\n"
     ]
    },
    {
     "name": "stderr",
     "output_type": "stream",
     "text": [
      "/Users/sofiagoncalves/Desktop/Projeto 1 IA/venv/lib/python3.8/site-packages/sklearn/neural_network/_multilayer_perceptron.py:541: ConvergenceWarning: lbfgs failed to converge (status=1):\n",
      "STOP: TOTAL NO. of ITERATIONS REACHED LIMIT.\n",
      "\n",
      "Increase the number of iterations (max_iter) or scale the data as shown in:\n",
      "    https://scikit-learn.org/stable/modules/preprocessing.html\n",
      "  self.n_iter_ = _check_optimize_result(\"lbfgs\", opt_res, self.max_iter)\n"
     ]
    },
    {
     "name": "stdout",
     "output_type": "stream",
     "text": [
      "[CV 1/10] END activation=tanh, alpha=0.0001, hidden_layer_sizes=10, max_iter=700, solver=lbfgs;, score=0.901 total time=  11.7s\n"
     ]
    },
    {
     "name": "stderr",
     "output_type": "stream",
     "text": [
      "/Users/sofiagoncalves/Desktop/Projeto 1 IA/venv/lib/python3.8/site-packages/sklearn/neural_network/_multilayer_perceptron.py:541: ConvergenceWarning: lbfgs failed to converge (status=1):\n",
      "STOP: TOTAL NO. of ITERATIONS REACHED LIMIT.\n",
      "\n",
      "Increase the number of iterations (max_iter) or scale the data as shown in:\n",
      "    https://scikit-learn.org/stable/modules/preprocessing.html\n",
      "  self.n_iter_ = _check_optimize_result(\"lbfgs\", opt_res, self.max_iter)\n"
     ]
    },
    {
     "name": "stdout",
     "output_type": "stream",
     "text": [
      "[CV 2/10] END activation=tanh, alpha=0.0001, hidden_layer_sizes=10, max_iter=700, solver=lbfgs;, score=0.904 total time=   9.3s\n"
     ]
    },
    {
     "name": "stderr",
     "output_type": "stream",
     "text": [
      "/Users/sofiagoncalves/Desktop/Projeto 1 IA/venv/lib/python3.8/site-packages/sklearn/neural_network/_multilayer_perceptron.py:541: ConvergenceWarning: lbfgs failed to converge (status=1):\n",
      "STOP: TOTAL NO. of ITERATIONS REACHED LIMIT.\n",
      "\n",
      "Increase the number of iterations (max_iter) or scale the data as shown in:\n",
      "    https://scikit-learn.org/stable/modules/preprocessing.html\n",
      "  self.n_iter_ = _check_optimize_result(\"lbfgs\", opt_res, self.max_iter)\n"
     ]
    },
    {
     "name": "stdout",
     "output_type": "stream",
     "text": [
      "[CV 3/10] END activation=tanh, alpha=0.0001, hidden_layer_sizes=10, max_iter=700, solver=lbfgs;, score=0.907 total time=   8.6s\n"
     ]
    },
    {
     "name": "stderr",
     "output_type": "stream",
     "text": [
      "/Users/sofiagoncalves/Desktop/Projeto 1 IA/venv/lib/python3.8/site-packages/sklearn/neural_network/_multilayer_perceptron.py:541: ConvergenceWarning: lbfgs failed to converge (status=1):\n",
      "STOP: TOTAL NO. of ITERATIONS REACHED LIMIT.\n",
      "\n",
      "Increase the number of iterations (max_iter) or scale the data as shown in:\n",
      "    https://scikit-learn.org/stable/modules/preprocessing.html\n",
      "  self.n_iter_ = _check_optimize_result(\"lbfgs\", opt_res, self.max_iter)\n"
     ]
    },
    {
     "name": "stdout",
     "output_type": "stream",
     "text": [
      "[CV 4/10] END activation=tanh, alpha=0.0001, hidden_layer_sizes=10, max_iter=700, solver=lbfgs;, score=0.901 total time=   7.7s\n"
     ]
    },
    {
     "name": "stderr",
     "output_type": "stream",
     "text": [
      "/Users/sofiagoncalves/Desktop/Projeto 1 IA/venv/lib/python3.8/site-packages/sklearn/neural_network/_multilayer_perceptron.py:541: ConvergenceWarning: lbfgs failed to converge (status=1):\n",
      "STOP: TOTAL NO. of ITERATIONS REACHED LIMIT.\n",
      "\n",
      "Increase the number of iterations (max_iter) or scale the data as shown in:\n",
      "    https://scikit-learn.org/stable/modules/preprocessing.html\n",
      "  self.n_iter_ = _check_optimize_result(\"lbfgs\", opt_res, self.max_iter)\n"
     ]
    },
    {
     "name": "stdout",
     "output_type": "stream",
     "text": [
      "[CV 5/10] END activation=tanh, alpha=0.0001, hidden_layer_sizes=10, max_iter=700, solver=lbfgs;, score=0.901 total time=   8.3s\n"
     ]
    },
    {
     "name": "stderr",
     "output_type": "stream",
     "text": [
      "/Users/sofiagoncalves/Desktop/Projeto 1 IA/venv/lib/python3.8/site-packages/sklearn/neural_network/_multilayer_perceptron.py:541: ConvergenceWarning: lbfgs failed to converge (status=1):\n",
      "STOP: TOTAL NO. of ITERATIONS REACHED LIMIT.\n",
      "\n",
      "Increase the number of iterations (max_iter) or scale the data as shown in:\n",
      "    https://scikit-learn.org/stable/modules/preprocessing.html\n",
      "  self.n_iter_ = _check_optimize_result(\"lbfgs\", opt_res, self.max_iter)\n"
     ]
    },
    {
     "name": "stdout",
     "output_type": "stream",
     "text": [
      "[CV 6/10] END activation=tanh, alpha=0.0001, hidden_layer_sizes=10, max_iter=700, solver=lbfgs;, score=0.901 total time=   9.0s\n"
     ]
    },
    {
     "name": "stderr",
     "output_type": "stream",
     "text": [
      "/Users/sofiagoncalves/Desktop/Projeto 1 IA/venv/lib/python3.8/site-packages/sklearn/neural_network/_multilayer_perceptron.py:541: ConvergenceWarning: lbfgs failed to converge (status=1):\n",
      "STOP: TOTAL NO. of ITERATIONS REACHED LIMIT.\n",
      "\n",
      "Increase the number of iterations (max_iter) or scale the data as shown in:\n",
      "    https://scikit-learn.org/stable/modules/preprocessing.html\n",
      "  self.n_iter_ = _check_optimize_result(\"lbfgs\", opt_res, self.max_iter)\n"
     ]
    },
    {
     "name": "stdout",
     "output_type": "stream",
     "text": [
      "[CV 7/10] END activation=tanh, alpha=0.0001, hidden_layer_sizes=10, max_iter=700, solver=lbfgs;, score=0.901 total time=   8.9s\n"
     ]
    },
    {
     "name": "stderr",
     "output_type": "stream",
     "text": [
      "/Users/sofiagoncalves/Desktop/Projeto 1 IA/venv/lib/python3.8/site-packages/sklearn/neural_network/_multilayer_perceptron.py:541: ConvergenceWarning: lbfgs failed to converge (status=1):\n",
      "STOP: TOTAL NO. of ITERATIONS REACHED LIMIT.\n",
      "\n",
      "Increase the number of iterations (max_iter) or scale the data as shown in:\n",
      "    https://scikit-learn.org/stable/modules/preprocessing.html\n",
      "  self.n_iter_ = _check_optimize_result(\"lbfgs\", opt_res, self.max_iter)\n"
     ]
    },
    {
     "name": "stdout",
     "output_type": "stream",
     "text": [
      "[CV 8/10] END activation=tanh, alpha=0.0001, hidden_layer_sizes=10, max_iter=700, solver=lbfgs;, score=0.891 total time=  10.5s\n"
     ]
    },
    {
     "name": "stderr",
     "output_type": "stream",
     "text": [
      "/Users/sofiagoncalves/Desktop/Projeto 1 IA/venv/lib/python3.8/site-packages/sklearn/neural_network/_multilayer_perceptron.py:541: ConvergenceWarning: lbfgs failed to converge (status=1):\n",
      "STOP: TOTAL NO. of ITERATIONS REACHED LIMIT.\n",
      "\n",
      "Increase the number of iterations (max_iter) or scale the data as shown in:\n",
      "    https://scikit-learn.org/stable/modules/preprocessing.html\n",
      "  self.n_iter_ = _check_optimize_result(\"lbfgs\", opt_res, self.max_iter)\n"
     ]
    },
    {
     "name": "stdout",
     "output_type": "stream",
     "text": [
      "[CV 9/10] END activation=tanh, alpha=0.0001, hidden_layer_sizes=10, max_iter=700, solver=lbfgs;, score=0.901 total time=  10.1s\n"
     ]
    },
    {
     "name": "stderr",
     "output_type": "stream",
     "text": [
      "/Users/sofiagoncalves/Desktop/Projeto 1 IA/venv/lib/python3.8/site-packages/sklearn/neural_network/_multilayer_perceptron.py:541: ConvergenceWarning: lbfgs failed to converge (status=1):\n",
      "STOP: TOTAL NO. of ITERATIONS REACHED LIMIT.\n",
      "\n",
      "Increase the number of iterations (max_iter) or scale the data as shown in:\n",
      "    https://scikit-learn.org/stable/modules/preprocessing.html\n",
      "  self.n_iter_ = _check_optimize_result(\"lbfgs\", opt_res, self.max_iter)\n"
     ]
    },
    {
     "name": "stdout",
     "output_type": "stream",
     "text": [
      "[CV 10/10] END activation=tanh, alpha=0.0001, hidden_layer_sizes=10, max_iter=700, solver=lbfgs;, score=0.905 total time=  10.0s\n",
      "[CV 1/10] END activation=tanh, alpha=0.0001, hidden_layer_sizes=10, max_iter=700, solver=sgd;, score=0.901 total time=   2.2s\n",
      "[CV 2/10] END activation=tanh, alpha=0.0001, hidden_layer_sizes=10, max_iter=700, solver=sgd;, score=0.901 total time=   2.8s\n",
      "[CV 3/10] END activation=tanh, alpha=0.0001, hidden_layer_sizes=10, max_iter=700, solver=sgd;, score=0.901 total time=   3.8s\n",
      "[CV 4/10] END activation=tanh, alpha=0.0001, hidden_layer_sizes=10, max_iter=700, solver=sgd;, score=0.901 total time=   1.7s\n",
      "[CV 5/10] END activation=tanh, alpha=0.0001, hidden_layer_sizes=10, max_iter=700, solver=sgd;, score=0.901 total time=   3.7s\n",
      "[CV 6/10] END activation=tanh, alpha=0.0001, hidden_layer_sizes=10, max_iter=700, solver=sgd;, score=0.901 total time=   2.3s\n",
      "[CV 7/10] END activation=tanh, alpha=0.0001, hidden_layer_sizes=10, max_iter=700, solver=sgd;, score=0.901 total time=   2.7s\n",
      "[CV 8/10] END activation=tanh, alpha=0.0001, hidden_layer_sizes=10, max_iter=700, solver=sgd;, score=0.901 total time=   2.3s\n",
      "[CV 9/10] END activation=tanh, alpha=0.0001, hidden_layer_sizes=10, max_iter=700, solver=sgd;, score=0.901 total time=   2.9s\n",
      "[CV 10/10] END activation=tanh, alpha=0.0001, hidden_layer_sizes=10, max_iter=700, solver=sgd;, score=0.901 total time=   3.0s\n",
      "[CV 1/10] END activation=tanh, alpha=0.0001, hidden_layer_sizes=10, max_iter=700, solver=adam;, score=0.900 total time=   4.9s\n",
      "[CV 2/10] END activation=tanh, alpha=0.0001, hidden_layer_sizes=10, max_iter=700, solver=adam;, score=0.901 total time=   3.0s\n",
      "[CV 3/10] END activation=tanh, alpha=0.0001, hidden_layer_sizes=10, max_iter=700, solver=adam;, score=0.901 total time=   3.1s\n",
      "[CV 4/10] END activation=tanh, alpha=0.0001, hidden_layer_sizes=10, max_iter=700, solver=adam;, score=0.901 total time=   4.3s\n",
      "[CV 5/10] END activation=tanh, alpha=0.0001, hidden_layer_sizes=10, max_iter=700, solver=adam;, score=0.901 total time=   4.1s\n",
      "[CV 6/10] END activation=tanh, alpha=0.0001, hidden_layer_sizes=10, max_iter=700, solver=adam;, score=0.901 total time=   3.7s\n",
      "[CV 7/10] END activation=tanh, alpha=0.0001, hidden_layer_sizes=10, max_iter=700, solver=adam;, score=0.901 total time=   4.1s\n",
      "[CV 8/10] END activation=tanh, alpha=0.0001, hidden_layer_sizes=10, max_iter=700, solver=adam;, score=0.901 total time=   3.6s\n",
      "[CV 9/10] END activation=tanh, alpha=0.0001, hidden_layer_sizes=10, max_iter=700, solver=adam;, score=0.901 total time=   5.1s\n",
      "[CV 10/10] END activation=tanh, alpha=0.0001, hidden_layer_sizes=10, max_iter=700, solver=adam;, score=0.901 total time=   2.3s\n"
     ]
    },
    {
     "name": "stderr",
     "output_type": "stream",
     "text": [
      "/Users/sofiagoncalves/Desktop/Projeto 1 IA/venv/lib/python3.8/site-packages/sklearn/neural_network/_multilayer_perceptron.py:541: ConvergenceWarning: lbfgs failed to converge (status=1):\n",
      "STOP: TOTAL NO. of ITERATIONS REACHED LIMIT.\n",
      "\n",
      "Increase the number of iterations (max_iter) or scale the data as shown in:\n",
      "    https://scikit-learn.org/stable/modules/preprocessing.html\n",
      "  self.n_iter_ = _check_optimize_result(\"lbfgs\", opt_res, self.max_iter)\n"
     ]
    },
    {
     "name": "stdout",
     "output_type": "stream",
     "text": [
      "[CV 1/10] END activation=tanh, alpha=0.0001, hidden_layer_sizes=50, max_iter=700, solver=lbfgs;, score=0.902 total time=  44.1s\n"
     ]
    },
    {
     "name": "stderr",
     "output_type": "stream",
     "text": [
      "/Users/sofiagoncalves/Desktop/Projeto 1 IA/venv/lib/python3.8/site-packages/sklearn/neural_network/_multilayer_perceptron.py:541: ConvergenceWarning: lbfgs failed to converge (status=1):\n",
      "STOP: TOTAL NO. of ITERATIONS REACHED LIMIT.\n",
      "\n",
      "Increase the number of iterations (max_iter) or scale the data as shown in:\n",
      "    https://scikit-learn.org/stable/modules/preprocessing.html\n",
      "  self.n_iter_ = _check_optimize_result(\"lbfgs\", opt_res, self.max_iter)\n"
     ]
    },
    {
     "name": "stdout",
     "output_type": "stream",
     "text": [
      "[CV 2/10] END activation=tanh, alpha=0.0001, hidden_layer_sizes=50, max_iter=700, solver=lbfgs;, score=0.901 total time=  46.1s\n"
     ]
    },
    {
     "name": "stderr",
     "output_type": "stream",
     "text": [
      "/Users/sofiagoncalves/Desktop/Projeto 1 IA/venv/lib/python3.8/site-packages/sklearn/neural_network/_multilayer_perceptron.py:541: ConvergenceWarning: lbfgs failed to converge (status=1):\n",
      "STOP: TOTAL NO. of ITERATIONS REACHED LIMIT.\n",
      "\n",
      "Increase the number of iterations (max_iter) or scale the data as shown in:\n",
      "    https://scikit-learn.org/stable/modules/preprocessing.html\n",
      "  self.n_iter_ = _check_optimize_result(\"lbfgs\", opt_res, self.max_iter)\n"
     ]
    },
    {
     "name": "stdout",
     "output_type": "stream",
     "text": [
      "[CV 3/10] END activation=tanh, alpha=0.0001, hidden_layer_sizes=50, max_iter=700, solver=lbfgs;, score=0.902 total time=  46.5s\n"
     ]
    },
    {
     "name": "stderr",
     "output_type": "stream",
     "text": [
      "/Users/sofiagoncalves/Desktop/Projeto 1 IA/venv/lib/python3.8/site-packages/sklearn/neural_network/_multilayer_perceptron.py:541: ConvergenceWarning: lbfgs failed to converge (status=1):\n",
      "STOP: TOTAL NO. of ITERATIONS REACHED LIMIT.\n",
      "\n",
      "Increase the number of iterations (max_iter) or scale the data as shown in:\n",
      "    https://scikit-learn.org/stable/modules/preprocessing.html\n",
      "  self.n_iter_ = _check_optimize_result(\"lbfgs\", opt_res, self.max_iter)\n"
     ]
    },
    {
     "name": "stdout",
     "output_type": "stream",
     "text": [
      "[CV 4/10] END activation=tanh, alpha=0.0001, hidden_layer_sizes=50, max_iter=700, solver=lbfgs;, score=0.903 total time=  50.5s\n"
     ]
    },
    {
     "name": "stderr",
     "output_type": "stream",
     "text": [
      "/Users/sofiagoncalves/Desktop/Projeto 1 IA/venv/lib/python3.8/site-packages/sklearn/neural_network/_multilayer_perceptron.py:541: ConvergenceWarning: lbfgs failed to converge (status=1):\n",
      "STOP: TOTAL NO. of ITERATIONS REACHED LIMIT.\n",
      "\n",
      "Increase the number of iterations (max_iter) or scale the data as shown in:\n",
      "    https://scikit-learn.org/stable/modules/preprocessing.html\n",
      "  self.n_iter_ = _check_optimize_result(\"lbfgs\", opt_res, self.max_iter)\n"
     ]
    },
    {
     "name": "stdout",
     "output_type": "stream",
     "text": [
      "[CV 5/10] END activation=tanh, alpha=0.0001, hidden_layer_sizes=50, max_iter=700, solver=lbfgs;, score=0.904 total time=  53.4s\n"
     ]
    },
    {
     "name": "stderr",
     "output_type": "stream",
     "text": [
      "/Users/sofiagoncalves/Desktop/Projeto 1 IA/venv/lib/python3.8/site-packages/sklearn/neural_network/_multilayer_perceptron.py:541: ConvergenceWarning: lbfgs failed to converge (status=1):\n",
      "STOP: TOTAL NO. of ITERATIONS REACHED LIMIT.\n",
      "\n",
      "Increase the number of iterations (max_iter) or scale the data as shown in:\n",
      "    https://scikit-learn.org/stable/modules/preprocessing.html\n",
      "  self.n_iter_ = _check_optimize_result(\"lbfgs\", opt_res, self.max_iter)\n"
     ]
    },
    {
     "name": "stdout",
     "output_type": "stream",
     "text": [
      "[CV 6/10] END activation=tanh, alpha=0.0001, hidden_layer_sizes=50, max_iter=700, solver=lbfgs;, score=0.904 total time=  49.8s\n"
     ]
    },
    {
     "name": "stderr",
     "output_type": "stream",
     "text": [
      "/Users/sofiagoncalves/Desktop/Projeto 1 IA/venv/lib/python3.8/site-packages/sklearn/neural_network/_multilayer_perceptron.py:541: ConvergenceWarning: lbfgs failed to converge (status=1):\n",
      "STOP: TOTAL NO. of ITERATIONS REACHED LIMIT.\n",
      "\n",
      "Increase the number of iterations (max_iter) or scale the data as shown in:\n",
      "    https://scikit-learn.org/stable/modules/preprocessing.html\n",
      "  self.n_iter_ = _check_optimize_result(\"lbfgs\", opt_res, self.max_iter)\n"
     ]
    },
    {
     "name": "stdout",
     "output_type": "stream",
     "text": [
      "[CV 7/10] END activation=tanh, alpha=0.0001, hidden_layer_sizes=50, max_iter=700, solver=lbfgs;, score=0.898 total time=  49.9s\n"
     ]
    },
    {
     "name": "stderr",
     "output_type": "stream",
     "text": [
      "/Users/sofiagoncalves/Desktop/Projeto 1 IA/venv/lib/python3.8/site-packages/sklearn/neural_network/_multilayer_perceptron.py:541: ConvergenceWarning: lbfgs failed to converge (status=1):\n",
      "STOP: TOTAL NO. of ITERATIONS REACHED LIMIT.\n",
      "\n",
      "Increase the number of iterations (max_iter) or scale the data as shown in:\n",
      "    https://scikit-learn.org/stable/modules/preprocessing.html\n",
      "  self.n_iter_ = _check_optimize_result(\"lbfgs\", opt_res, self.max_iter)\n"
     ]
    },
    {
     "name": "stdout",
     "output_type": "stream",
     "text": [
      "[CV 8/10] END activation=tanh, alpha=0.0001, hidden_layer_sizes=50, max_iter=700, solver=lbfgs;, score=0.895 total time=  40.3s\n"
     ]
    },
    {
     "name": "stderr",
     "output_type": "stream",
     "text": [
      "/Users/sofiagoncalves/Desktop/Projeto 1 IA/venv/lib/python3.8/site-packages/sklearn/neural_network/_multilayer_perceptron.py:541: ConvergenceWarning: lbfgs failed to converge (status=1):\n",
      "STOP: TOTAL NO. of ITERATIONS REACHED LIMIT.\n",
      "\n",
      "Increase the number of iterations (max_iter) or scale the data as shown in:\n",
      "    https://scikit-learn.org/stable/modules/preprocessing.html\n",
      "  self.n_iter_ = _check_optimize_result(\"lbfgs\", opt_res, self.max_iter)\n"
     ]
    },
    {
     "name": "stdout",
     "output_type": "stream",
     "text": [
      "[CV 9/10] END activation=tanh, alpha=0.0001, hidden_layer_sizes=50, max_iter=700, solver=lbfgs;, score=0.904 total time=  49.5s\n"
     ]
    },
    {
     "name": "stderr",
     "output_type": "stream",
     "text": [
      "/Users/sofiagoncalves/Desktop/Projeto 1 IA/venv/lib/python3.8/site-packages/sklearn/neural_network/_multilayer_perceptron.py:541: ConvergenceWarning: lbfgs failed to converge (status=1):\n",
      "STOP: TOTAL NO. of ITERATIONS REACHED LIMIT.\n",
      "\n",
      "Increase the number of iterations (max_iter) or scale the data as shown in:\n",
      "    https://scikit-learn.org/stable/modules/preprocessing.html\n",
      "  self.n_iter_ = _check_optimize_result(\"lbfgs\", opt_res, self.max_iter)\n"
     ]
    },
    {
     "name": "stdout",
     "output_type": "stream",
     "text": [
      "[CV 10/10] END activation=tanh, alpha=0.0001, hidden_layer_sizes=50, max_iter=700, solver=lbfgs;, score=0.908 total time=  49.6s\n",
      "[CV 1/10] END activation=tanh, alpha=0.0001, hidden_layer_sizes=50, max_iter=700, solver=sgd;, score=0.901 total time=   3.9s\n",
      "[CV 2/10] END activation=tanh, alpha=0.0001, hidden_layer_sizes=50, max_iter=700, solver=sgd;, score=0.901 total time=   2.2s\n",
      "[CV 3/10] END activation=tanh, alpha=0.0001, hidden_layer_sizes=50, max_iter=700, solver=sgd;, score=0.901 total time=   4.4s\n",
      "[CV 4/10] END activation=tanh, alpha=0.0001, hidden_layer_sizes=50, max_iter=700, solver=sgd;, score=0.901 total time=   5.2s\n",
      "[CV 5/10] END activation=tanh, alpha=0.0001, hidden_layer_sizes=50, max_iter=700, solver=sgd;, score=0.901 total time=   4.0s\n",
      "[CV 6/10] END activation=tanh, alpha=0.0001, hidden_layer_sizes=50, max_iter=700, solver=sgd;, score=0.901 total time=   3.6s\n",
      "[CV 7/10] END activation=tanh, alpha=0.0001, hidden_layer_sizes=50, max_iter=700, solver=sgd;, score=0.901 total time=   5.9s\n",
      "[CV 8/10] END activation=tanh, alpha=0.0001, hidden_layer_sizes=50, max_iter=700, solver=sgd;, score=0.901 total time=   2.2s\n",
      "[CV 9/10] END activation=tanh, alpha=0.0001, hidden_layer_sizes=50, max_iter=700, solver=sgd;, score=0.901 total time=   2.0s\n",
      "[CV 10/10] END activation=tanh, alpha=0.0001, hidden_layer_sizes=50, max_iter=700, solver=sgd;, score=0.901 total time=   2.6s\n",
      "[CV 1/10] END activation=tanh, alpha=0.0001, hidden_layer_sizes=50, max_iter=700, solver=adam;, score=0.903 total time=   5.6s\n",
      "[CV 2/10] END activation=tanh, alpha=0.0001, hidden_layer_sizes=50, max_iter=700, solver=adam;, score=0.902 total time=   4.1s\n",
      "[CV 3/10] END activation=tanh, alpha=0.0001, hidden_layer_sizes=50, max_iter=700, solver=adam;, score=0.894 total time=   7.7s\n",
      "[CV 4/10] END activation=tanh, alpha=0.0001, hidden_layer_sizes=50, max_iter=700, solver=adam;, score=0.900 total time=   5.7s\n",
      "[CV 5/10] END activation=tanh, alpha=0.0001, hidden_layer_sizes=50, max_iter=700, solver=adam;, score=0.906 total time=   6.3s\n",
      "[CV 6/10] END activation=tanh, alpha=0.0001, hidden_layer_sizes=50, max_iter=700, solver=adam;, score=0.899 total time=   6.5s\n",
      "[CV 7/10] END activation=tanh, alpha=0.0001, hidden_layer_sizes=50, max_iter=700, solver=adam;, score=0.901 total time=   5.5s\n",
      "[CV 8/10] END activation=tanh, alpha=0.0001, hidden_layer_sizes=50, max_iter=700, solver=adam;, score=0.897 total time=   5.8s\n",
      "[CV 9/10] END activation=tanh, alpha=0.0001, hidden_layer_sizes=50, max_iter=700, solver=adam;, score=0.901 total time=   4.9s\n",
      "[CV 10/10] END activation=tanh, alpha=0.0001, hidden_layer_sizes=50, max_iter=700, solver=adam;, score=0.901 total time=   4.9s\n"
     ]
    },
    {
     "name": "stderr",
     "output_type": "stream",
     "text": [
      "/Users/sofiagoncalves/Desktop/Projeto 1 IA/venv/lib/python3.8/site-packages/sklearn/neural_network/_multilayer_perceptron.py:541: ConvergenceWarning: lbfgs failed to converge (status=1):\n",
      "STOP: TOTAL NO. of ITERATIONS REACHED LIMIT.\n",
      "\n",
      "Increase the number of iterations (max_iter) or scale the data as shown in:\n",
      "    https://scikit-learn.org/stable/modules/preprocessing.html\n",
      "  self.n_iter_ = _check_optimize_result(\"lbfgs\", opt_res, self.max_iter)\n"
     ]
    },
    {
     "name": "stdout",
     "output_type": "stream",
     "text": [
      "[CV 1/10] END activation=tanh, alpha=0.0001, hidden_layer_sizes=100, max_iter=700, solver=lbfgs;, score=0.908 total time= 1.2min\n"
     ]
    },
    {
     "name": "stderr",
     "output_type": "stream",
     "text": [
      "/Users/sofiagoncalves/Desktop/Projeto 1 IA/venv/lib/python3.8/site-packages/sklearn/neural_network/_multilayer_perceptron.py:541: ConvergenceWarning: lbfgs failed to converge (status=1):\n",
      "STOP: TOTAL NO. of ITERATIONS REACHED LIMIT.\n",
      "\n",
      "Increase the number of iterations (max_iter) or scale the data as shown in:\n",
      "    https://scikit-learn.org/stable/modules/preprocessing.html\n",
      "  self.n_iter_ = _check_optimize_result(\"lbfgs\", opt_res, self.max_iter)\n"
     ]
    },
    {
     "name": "stdout",
     "output_type": "stream",
     "text": [
      "[CV 2/10] END activation=tanh, alpha=0.0001, hidden_layer_sizes=100, max_iter=700, solver=lbfgs;, score=0.899 total time= 1.2min\n"
     ]
    },
    {
     "name": "stderr",
     "output_type": "stream",
     "text": [
      "/Users/sofiagoncalves/Desktop/Projeto 1 IA/venv/lib/python3.8/site-packages/sklearn/neural_network/_multilayer_perceptron.py:541: ConvergenceWarning: lbfgs failed to converge (status=1):\n",
      "STOP: TOTAL NO. of ITERATIONS REACHED LIMIT.\n",
      "\n",
      "Increase the number of iterations (max_iter) or scale the data as shown in:\n",
      "    https://scikit-learn.org/stable/modules/preprocessing.html\n",
      "  self.n_iter_ = _check_optimize_result(\"lbfgs\", opt_res, self.max_iter)\n"
     ]
    },
    {
     "name": "stdout",
     "output_type": "stream",
     "text": [
      "[CV 3/10] END activation=tanh, alpha=0.0001, hidden_layer_sizes=100, max_iter=700, solver=lbfgs;, score=0.904 total time= 1.2min\n"
     ]
    },
    {
     "name": "stderr",
     "output_type": "stream",
     "text": [
      "/Users/sofiagoncalves/Desktop/Projeto 1 IA/venv/lib/python3.8/site-packages/sklearn/neural_network/_multilayer_perceptron.py:541: ConvergenceWarning: lbfgs failed to converge (status=1):\n",
      "STOP: TOTAL NO. of ITERATIONS REACHED LIMIT.\n",
      "\n",
      "Increase the number of iterations (max_iter) or scale the data as shown in:\n",
      "    https://scikit-learn.org/stable/modules/preprocessing.html\n",
      "  self.n_iter_ = _check_optimize_result(\"lbfgs\", opt_res, self.max_iter)\n"
     ]
    },
    {
     "name": "stdout",
     "output_type": "stream",
     "text": [
      "[CV 4/10] END activation=tanh, alpha=0.0001, hidden_layer_sizes=100, max_iter=700, solver=lbfgs;, score=0.901 total time= 1.5min\n"
     ]
    },
    {
     "name": "stderr",
     "output_type": "stream",
     "text": [
      "/Users/sofiagoncalves/Desktop/Projeto 1 IA/venv/lib/python3.8/site-packages/sklearn/neural_network/_multilayer_perceptron.py:541: ConvergenceWarning: lbfgs failed to converge (status=1):\n",
      "STOP: TOTAL NO. of ITERATIONS REACHED LIMIT.\n",
      "\n",
      "Increase the number of iterations (max_iter) or scale the data as shown in:\n",
      "    https://scikit-learn.org/stable/modules/preprocessing.html\n",
      "  self.n_iter_ = _check_optimize_result(\"lbfgs\", opt_res, self.max_iter)\n"
     ]
    },
    {
     "name": "stdout",
     "output_type": "stream",
     "text": [
      "[CV 5/10] END activation=tanh, alpha=0.0001, hidden_layer_sizes=100, max_iter=700, solver=lbfgs;, score=0.904 total time= 1.9min\n"
     ]
    },
    {
     "name": "stderr",
     "output_type": "stream",
     "text": [
      "/Users/sofiagoncalves/Desktop/Projeto 1 IA/venv/lib/python3.8/site-packages/sklearn/neural_network/_multilayer_perceptron.py:541: ConvergenceWarning: lbfgs failed to converge (status=1):\n",
      "STOP: TOTAL NO. of ITERATIONS REACHED LIMIT.\n",
      "\n",
      "Increase the number of iterations (max_iter) or scale the data as shown in:\n",
      "    https://scikit-learn.org/stable/modules/preprocessing.html\n",
      "  self.n_iter_ = _check_optimize_result(\"lbfgs\", opt_res, self.max_iter)\n"
     ]
    },
    {
     "name": "stdout",
     "output_type": "stream",
     "text": [
      "[CV 6/10] END activation=tanh, alpha=0.0001, hidden_layer_sizes=100, max_iter=700, solver=lbfgs;, score=0.900 total time= 2.0min\n"
     ]
    },
    {
     "name": "stderr",
     "output_type": "stream",
     "text": [
      "/Users/sofiagoncalves/Desktop/Projeto 1 IA/venv/lib/python3.8/site-packages/sklearn/neural_network/_multilayer_perceptron.py:541: ConvergenceWarning: lbfgs failed to converge (status=1):\n",
      "STOP: TOTAL NO. of ITERATIONS REACHED LIMIT.\n",
      "\n",
      "Increase the number of iterations (max_iter) or scale the data as shown in:\n",
      "    https://scikit-learn.org/stable/modules/preprocessing.html\n",
      "  self.n_iter_ = _check_optimize_result(\"lbfgs\", opt_res, self.max_iter)\n"
     ]
    },
    {
     "name": "stdout",
     "output_type": "stream",
     "text": [
      "[CV 7/10] END activation=tanh, alpha=0.0001, hidden_layer_sizes=100, max_iter=700, solver=lbfgs;, score=0.901 total time= 1.5min\n"
     ]
    },
    {
     "name": "stderr",
     "output_type": "stream",
     "text": [
      "/Users/sofiagoncalves/Desktop/Projeto 1 IA/venv/lib/python3.8/site-packages/sklearn/neural_network/_multilayer_perceptron.py:541: ConvergenceWarning: lbfgs failed to converge (status=1):\n",
      "STOP: TOTAL NO. of ITERATIONS REACHED LIMIT.\n",
      "\n",
      "Increase the number of iterations (max_iter) or scale the data as shown in:\n",
      "    https://scikit-learn.org/stable/modules/preprocessing.html\n",
      "  self.n_iter_ = _check_optimize_result(\"lbfgs\", opt_res, self.max_iter)\n"
     ]
    },
    {
     "name": "stdout",
     "output_type": "stream",
     "text": [
      "[CV 8/10] END activation=tanh, alpha=0.0001, hidden_layer_sizes=100, max_iter=700, solver=lbfgs;, score=0.896 total time=  58.3s\n"
     ]
    },
    {
     "name": "stderr",
     "output_type": "stream",
     "text": [
      "/Users/sofiagoncalves/Desktop/Projeto 1 IA/venv/lib/python3.8/site-packages/sklearn/neural_network/_multilayer_perceptron.py:541: ConvergenceWarning: lbfgs failed to converge (status=1):\n",
      "STOP: TOTAL NO. of ITERATIONS REACHED LIMIT.\n",
      "\n",
      "Increase the number of iterations (max_iter) or scale the data as shown in:\n",
      "    https://scikit-learn.org/stable/modules/preprocessing.html\n",
      "  self.n_iter_ = _check_optimize_result(\"lbfgs\", opt_res, self.max_iter)\n"
     ]
    },
    {
     "name": "stdout",
     "output_type": "stream",
     "text": [
      "[CV 9/10] END activation=tanh, alpha=0.0001, hidden_layer_sizes=100, max_iter=700, solver=lbfgs;, score=0.902 total time=  59.7s\n"
     ]
    },
    {
     "name": "stderr",
     "output_type": "stream",
     "text": [
      "/Users/sofiagoncalves/Desktop/Projeto 1 IA/venv/lib/python3.8/site-packages/sklearn/neural_network/_multilayer_perceptron.py:541: ConvergenceWarning: lbfgs failed to converge (status=1):\n",
      "STOP: TOTAL NO. of ITERATIONS REACHED LIMIT.\n",
      "\n",
      "Increase the number of iterations (max_iter) or scale the data as shown in:\n",
      "    https://scikit-learn.org/stable/modules/preprocessing.html\n",
      "  self.n_iter_ = _check_optimize_result(\"lbfgs\", opt_res, self.max_iter)\n"
     ]
    },
    {
     "name": "stdout",
     "output_type": "stream",
     "text": [
      "[CV 10/10] END activation=tanh, alpha=0.0001, hidden_layer_sizes=100, max_iter=700, solver=lbfgs;, score=0.907 total time= 1.1min\n",
      "[CV 1/10] END activation=tanh, alpha=0.0001, hidden_layer_sizes=100, max_iter=700, solver=sgd;, score=0.900 total time=   3.0s\n",
      "[CV 2/10] END activation=tanh, alpha=0.0001, hidden_layer_sizes=100, max_iter=700, solver=sgd;, score=0.901 total time=   2.1s\n",
      "[CV 3/10] END activation=tanh, alpha=0.0001, hidden_layer_sizes=100, max_iter=700, solver=sgd;, score=0.901 total time=   2.0s\n",
      "[CV 4/10] END activation=tanh, alpha=0.0001, hidden_layer_sizes=100, max_iter=700, solver=sgd;, score=0.900 total time=   3.7s\n",
      "[CV 5/10] END activation=tanh, alpha=0.0001, hidden_layer_sizes=100, max_iter=700, solver=sgd;, score=0.902 total time=   1.8s\n",
      "[CV 6/10] END activation=tanh, alpha=0.0001, hidden_layer_sizes=100, max_iter=700, solver=sgd;, score=0.901 total time=   3.9s\n",
      "[CV 7/10] END activation=tanh, alpha=0.0001, hidden_layer_sizes=100, max_iter=700, solver=sgd;, score=0.900 total time=   3.5s\n",
      "[CV 8/10] END activation=tanh, alpha=0.0001, hidden_layer_sizes=100, max_iter=700, solver=sgd;, score=0.901 total time=   2.3s\n",
      "[CV 9/10] END activation=tanh, alpha=0.0001, hidden_layer_sizes=100, max_iter=700, solver=sgd;, score=0.901 total time=   3.5s\n",
      "[CV 10/10] END activation=tanh, alpha=0.0001, hidden_layer_sizes=100, max_iter=700, solver=sgd;, score=0.902 total time=   3.9s\n",
      "[CV 1/10] END activation=tanh, alpha=0.0001, hidden_layer_sizes=100, max_iter=700, solver=adam;, score=0.901 total time=   6.5s\n",
      "[CV 2/10] END activation=tanh, alpha=0.0001, hidden_layer_sizes=100, max_iter=700, solver=adam;, score=0.902 total time=   5.9s\n",
      "[CV 3/10] END activation=tanh, alpha=0.0001, hidden_layer_sizes=100, max_iter=700, solver=adam;, score=0.903 total time=   7.9s\n",
      "[CV 4/10] END activation=tanh, alpha=0.0001, hidden_layer_sizes=100, max_iter=700, solver=adam;, score=0.902 total time=30.0min\n",
      "[CV 5/10] END activation=tanh, alpha=0.0001, hidden_layer_sizes=100, max_iter=700, solver=adam;, score=0.905 total time=  13.9s\n",
      "[CV 6/10] END activation=tanh, alpha=0.0001, hidden_layer_sizes=100, max_iter=700, solver=adam;, score=0.902 total time=  14.0s\n",
      "[CV 7/10] END activation=tanh, alpha=0.0001, hidden_layer_sizes=100, max_iter=700, solver=adam;, score=0.898 total time=  15.4s\n",
      "[CV 8/10] END activation=tanh, alpha=0.0001, hidden_layer_sizes=100, max_iter=700, solver=adam;, score=0.901 total time= 5.1min\n",
      "[CV 9/10] END activation=tanh, alpha=0.0001, hidden_layer_sizes=100, max_iter=700, solver=adam;, score=0.904 total time=   3.8s\n",
      "[CV 10/10] END activation=tanh, alpha=0.0001, hidden_layer_sizes=100, max_iter=700, solver=adam;, score=0.902 total time=  12.6s\n"
     ]
    },
    {
     "name": "stderr",
     "output_type": "stream",
     "text": [
      "/Users/sofiagoncalves/Desktop/Projeto 1 IA/venv/lib/python3.8/site-packages/sklearn/neural_network/_multilayer_perceptron.py:541: ConvergenceWarning: lbfgs failed to converge (status=1):\n",
      "STOP: TOTAL NO. of ITERATIONS REACHED LIMIT.\n",
      "\n",
      "Increase the number of iterations (max_iter) or scale the data as shown in:\n",
      "    https://scikit-learn.org/stable/modules/preprocessing.html\n",
      "  self.n_iter_ = _check_optimize_result(\"lbfgs\", opt_res, self.max_iter)\n"
     ]
    },
    {
     "name": "stdout",
     "output_type": "stream",
     "text": [
      "[CV 1/10] END activation=tanh, alpha=0.001, hidden_layer_sizes=10, max_iter=700, solver=lbfgs;, score=0.900 total time=  18.7s\n"
     ]
    },
    {
     "name": "stderr",
     "output_type": "stream",
     "text": [
      "/Users/sofiagoncalves/Desktop/Projeto 1 IA/venv/lib/python3.8/site-packages/sklearn/neural_network/_multilayer_perceptron.py:541: ConvergenceWarning: lbfgs failed to converge (status=1):\n",
      "STOP: TOTAL NO. of ITERATIONS REACHED LIMIT.\n",
      "\n",
      "Increase the number of iterations (max_iter) or scale the data as shown in:\n",
      "    https://scikit-learn.org/stable/modules/preprocessing.html\n",
      "  self.n_iter_ = _check_optimize_result(\"lbfgs\", opt_res, self.max_iter)\n"
     ]
    },
    {
     "name": "stdout",
     "output_type": "stream",
     "text": [
      "[CV 2/10] END activation=tanh, alpha=0.001, hidden_layer_sizes=10, max_iter=700, solver=lbfgs;, score=0.903 total time= 5.2min\n"
     ]
    },
    {
     "name": "stderr",
     "output_type": "stream",
     "text": [
      "/Users/sofiagoncalves/Desktop/Projeto 1 IA/venv/lib/python3.8/site-packages/sklearn/neural_network/_multilayer_perceptron.py:541: ConvergenceWarning: lbfgs failed to converge (status=1):\n",
      "STOP: TOTAL NO. of ITERATIONS REACHED LIMIT.\n",
      "\n",
      "Increase the number of iterations (max_iter) or scale the data as shown in:\n",
      "    https://scikit-learn.org/stable/modules/preprocessing.html\n",
      "  self.n_iter_ = _check_optimize_result(\"lbfgs\", opt_res, self.max_iter)\n"
     ]
    },
    {
     "name": "stdout",
     "output_type": "stream",
     "text": [
      "[CV 3/10] END activation=tanh, alpha=0.001, hidden_layer_sizes=10, max_iter=700, solver=lbfgs;, score=0.901 total time=   6.5s\n"
     ]
    },
    {
     "name": "stderr",
     "output_type": "stream",
     "text": [
      "/Users/sofiagoncalves/Desktop/Projeto 1 IA/venv/lib/python3.8/site-packages/sklearn/neural_network/_multilayer_perceptron.py:541: ConvergenceWarning: lbfgs failed to converge (status=1):\n",
      "STOP: TOTAL NO. of ITERATIONS REACHED LIMIT.\n",
      "\n",
      "Increase the number of iterations (max_iter) or scale the data as shown in:\n",
      "    https://scikit-learn.org/stable/modules/preprocessing.html\n",
      "  self.n_iter_ = _check_optimize_result(\"lbfgs\", opt_res, self.max_iter)\n"
     ]
    },
    {
     "name": "stdout",
     "output_type": "stream",
     "text": [
      "[CV 4/10] END activation=tanh, alpha=0.001, hidden_layer_sizes=10, max_iter=700, solver=lbfgs;, score=0.900 total time=  18.2s\n"
     ]
    },
    {
     "name": "stderr",
     "output_type": "stream",
     "text": [
      "/Users/sofiagoncalves/Desktop/Projeto 1 IA/venv/lib/python3.8/site-packages/sklearn/neural_network/_multilayer_perceptron.py:541: ConvergenceWarning: lbfgs failed to converge (status=1):\n",
      "STOP: TOTAL NO. of ITERATIONS REACHED LIMIT.\n",
      "\n",
      "Increase the number of iterations (max_iter) or scale the data as shown in:\n",
      "    https://scikit-learn.org/stable/modules/preprocessing.html\n",
      "  self.n_iter_ = _check_optimize_result(\"lbfgs\", opt_res, self.max_iter)\n"
     ]
    },
    {
     "name": "stdout",
     "output_type": "stream",
     "text": [
      "[CV 5/10] END activation=tanh, alpha=0.001, hidden_layer_sizes=10, max_iter=700, solver=lbfgs;, score=0.904 total time=  16.2s\n"
     ]
    },
    {
     "name": "stderr",
     "output_type": "stream",
     "text": [
      "/Users/sofiagoncalves/Desktop/Projeto 1 IA/venv/lib/python3.8/site-packages/sklearn/neural_network/_multilayer_perceptron.py:541: ConvergenceWarning: lbfgs failed to converge (status=1):\n",
      "STOP: TOTAL NO. of ITERATIONS REACHED LIMIT.\n",
      "\n",
      "Increase the number of iterations (max_iter) or scale the data as shown in:\n",
      "    https://scikit-learn.org/stable/modules/preprocessing.html\n",
      "  self.n_iter_ = _check_optimize_result(\"lbfgs\", opt_res, self.max_iter)\n"
     ]
    },
    {
     "name": "stdout",
     "output_type": "stream",
     "text": [
      "[CV 6/10] END activation=tanh, alpha=0.001, hidden_layer_sizes=10, max_iter=700, solver=lbfgs;, score=0.902 total time= 5.1min\n"
     ]
    },
    {
     "name": "stderr",
     "output_type": "stream",
     "text": [
      "/Users/sofiagoncalves/Desktop/Projeto 1 IA/venv/lib/python3.8/site-packages/sklearn/neural_network/_multilayer_perceptron.py:541: ConvergenceWarning: lbfgs failed to converge (status=1):\n",
      "STOP: TOTAL NO. of ITERATIONS REACHED LIMIT.\n",
      "\n",
      "Increase the number of iterations (max_iter) or scale the data as shown in:\n",
      "    https://scikit-learn.org/stable/modules/preprocessing.html\n",
      "  self.n_iter_ = _check_optimize_result(\"lbfgs\", opt_res, self.max_iter)\n"
     ]
    },
    {
     "name": "stdout",
     "output_type": "stream",
     "text": [
      "[CV 7/10] END activation=tanh, alpha=0.001, hidden_layer_sizes=10, max_iter=700, solver=lbfgs;, score=0.901 total time=   8.4s\n"
     ]
    },
    {
     "name": "stderr",
     "output_type": "stream",
     "text": [
      "/Users/sofiagoncalves/Desktop/Projeto 1 IA/venv/lib/python3.8/site-packages/sklearn/neural_network/_multilayer_perceptron.py:541: ConvergenceWarning: lbfgs failed to converge (status=1):\n",
      "STOP: TOTAL NO. of ITERATIONS REACHED LIMIT.\n",
      "\n",
      "Increase the number of iterations (max_iter) or scale the data as shown in:\n",
      "    https://scikit-learn.org/stable/modules/preprocessing.html\n",
      "  self.n_iter_ = _check_optimize_result(\"lbfgs\", opt_res, self.max_iter)\n"
     ]
    },
    {
     "name": "stdout",
     "output_type": "stream",
     "text": [
      "[CV 8/10] END activation=tanh, alpha=0.001, hidden_layer_sizes=10, max_iter=700, solver=lbfgs;, score=0.901 total time=  16.2s\n"
     ]
    },
    {
     "name": "stderr",
     "output_type": "stream",
     "text": [
      "/Users/sofiagoncalves/Desktop/Projeto 1 IA/venv/lib/python3.8/site-packages/sklearn/neural_network/_multilayer_perceptron.py:541: ConvergenceWarning: lbfgs failed to converge (status=1):\n",
      "STOP: TOTAL NO. of ITERATIONS REACHED LIMIT.\n",
      "\n",
      "Increase the number of iterations (max_iter) or scale the data as shown in:\n",
      "    https://scikit-learn.org/stable/modules/preprocessing.html\n",
      "  self.n_iter_ = _check_optimize_result(\"lbfgs\", opt_res, self.max_iter)\n"
     ]
    },
    {
     "name": "stdout",
     "output_type": "stream",
     "text": [
      "[CV 9/10] END activation=tanh, alpha=0.001, hidden_layer_sizes=10, max_iter=700, solver=lbfgs;, score=0.901 total time=  19.0s\n"
     ]
    },
    {
     "name": "stderr",
     "output_type": "stream",
     "text": [
      "/Users/sofiagoncalves/Desktop/Projeto 1 IA/venv/lib/python3.8/site-packages/sklearn/neural_network/_multilayer_perceptron.py:541: ConvergenceWarning: lbfgs failed to converge (status=1):\n",
      "STOP: TOTAL NO. of ITERATIONS REACHED LIMIT.\n",
      "\n",
      "Increase the number of iterations (max_iter) or scale the data as shown in:\n",
      "    https://scikit-learn.org/stable/modules/preprocessing.html\n",
      "  self.n_iter_ = _check_optimize_result(\"lbfgs\", opt_res, self.max_iter)\n"
     ]
    },
    {
     "name": "stdout",
     "output_type": "stream",
     "text": [
      "[CV 10/10] END activation=tanh, alpha=0.001, hidden_layer_sizes=10, max_iter=700, solver=lbfgs;, score=0.901 total time= 5.1min\n",
      "[CV 1/10] END activation=tanh, alpha=0.001, hidden_layer_sizes=10, max_iter=700, solver=sgd;, score=0.901 total time=   1.4s\n",
      "[CV 2/10] END activation=tanh, alpha=0.001, hidden_layer_sizes=10, max_iter=700, solver=sgd;, score=0.901 total time=   1.3s\n",
      "[CV 3/10] END activation=tanh, alpha=0.001, hidden_layer_sizes=10, max_iter=700, solver=sgd;, score=0.901 total time=   1.8s\n",
      "[CV 4/10] END activation=tanh, alpha=0.001, hidden_layer_sizes=10, max_iter=700, solver=sgd;, score=0.901 total time=   3.6s\n",
      "[CV 5/10] END activation=tanh, alpha=0.001, hidden_layer_sizes=10, max_iter=700, solver=sgd;, score=0.901 total time=   2.0s\n",
      "[CV 6/10] END activation=tanh, alpha=0.001, hidden_layer_sizes=10, max_iter=700, solver=sgd;, score=0.901 total time=   7.4s\n",
      "[CV 7/10] END activation=tanh, alpha=0.001, hidden_layer_sizes=10, max_iter=700, solver=sgd;, score=0.901 total time=   5.4s\n",
      "[CV 8/10] END activation=tanh, alpha=0.001, hidden_layer_sizes=10, max_iter=700, solver=sgd;, score=0.901 total time=   5.6s\n",
      "[CV 9/10] END activation=tanh, alpha=0.001, hidden_layer_sizes=10, max_iter=700, solver=sgd;, score=0.901 total time=   6.1s\n",
      "[CV 10/10] END activation=tanh, alpha=0.001, hidden_layer_sizes=10, max_iter=700, solver=sgd;, score=0.901 total time=   4.8s\n",
      "[CV 1/10] END activation=tanh, alpha=0.001, hidden_layer_sizes=10, max_iter=700, solver=adam;, score=0.901 total time= 5.0min\n",
      "[CV 2/10] END activation=tanh, alpha=0.001, hidden_layer_sizes=10, max_iter=700, solver=adam;, score=0.901 total time=   6.7s\n",
      "[CV 3/10] END activation=tanh, alpha=0.001, hidden_layer_sizes=10, max_iter=700, solver=adam;, score=0.903 total time=   5.7s\n",
      "[CV 4/10] END activation=tanh, alpha=0.001, hidden_layer_sizes=10, max_iter=700, solver=adam;, score=0.901 total time=  20.3s\n",
      "[CV 5/10] END activation=tanh, alpha=0.001, hidden_layer_sizes=10, max_iter=700, solver=adam;, score=0.901 total time=   2.0s\n",
      "[CV 6/10] END activation=tanh, alpha=0.001, hidden_layer_sizes=10, max_iter=700, solver=adam;, score=0.901 total time=   3.7s\n",
      "[CV 7/10] END activation=tanh, alpha=0.001, hidden_layer_sizes=10, max_iter=700, solver=adam;, score=0.899 total time=   2.9s\n",
      "[CV 8/10] END activation=tanh, alpha=0.001, hidden_layer_sizes=10, max_iter=700, solver=adam;, score=0.901 total time=   5.0s\n",
      "[CV 9/10] END activation=tanh, alpha=0.001, hidden_layer_sizes=10, max_iter=700, solver=adam;, score=0.901 total time=   3.1s\n",
      "[CV 10/10] END activation=tanh, alpha=0.001, hidden_layer_sizes=10, max_iter=700, solver=adam;, score=0.900 total time=   4.2s\n"
     ]
    },
    {
     "name": "stderr",
     "output_type": "stream",
     "text": [
      "/Users/sofiagoncalves/Desktop/Projeto 1 IA/venv/lib/python3.8/site-packages/sklearn/neural_network/_multilayer_perceptron.py:541: ConvergenceWarning: lbfgs failed to converge (status=1):\n",
      "STOP: TOTAL NO. of ITERATIONS REACHED LIMIT.\n",
      "\n",
      "Increase the number of iterations (max_iter) or scale the data as shown in:\n",
      "    https://scikit-learn.org/stable/modules/preprocessing.html\n",
      "  self.n_iter_ = _check_optimize_result(\"lbfgs\", opt_res, self.max_iter)\n"
     ]
    },
    {
     "name": "stdout",
     "output_type": "stream",
     "text": [
      "[CV 1/10] END activation=tanh, alpha=0.001, hidden_layer_sizes=50, max_iter=700, solver=lbfgs;, score=0.903 total time=  31.4s\n"
     ]
    },
    {
     "name": "stderr",
     "output_type": "stream",
     "text": [
      "/Users/sofiagoncalves/Desktop/Projeto 1 IA/venv/lib/python3.8/site-packages/sklearn/neural_network/_multilayer_perceptron.py:541: ConvergenceWarning: lbfgs failed to converge (status=1):\n",
      "STOP: TOTAL NO. of ITERATIONS REACHED LIMIT.\n",
      "\n",
      "Increase the number of iterations (max_iter) or scale the data as shown in:\n",
      "    https://scikit-learn.org/stable/modules/preprocessing.html\n",
      "  self.n_iter_ = _check_optimize_result(\"lbfgs\", opt_res, self.max_iter)\n"
     ]
    },
    {
     "name": "stdout",
     "output_type": "stream",
     "text": [
      "[CV 2/10] END activation=tanh, alpha=0.001, hidden_layer_sizes=50, max_iter=700, solver=lbfgs;, score=0.902 total time=  29.9s\n"
     ]
    },
    {
     "name": "stderr",
     "output_type": "stream",
     "text": [
      "/Users/sofiagoncalves/Desktop/Projeto 1 IA/venv/lib/python3.8/site-packages/sklearn/neural_network/_multilayer_perceptron.py:541: ConvergenceWarning: lbfgs failed to converge (status=1):\n",
      "STOP: TOTAL NO. of ITERATIONS REACHED LIMIT.\n",
      "\n",
      "Increase the number of iterations (max_iter) or scale the data as shown in:\n",
      "    https://scikit-learn.org/stable/modules/preprocessing.html\n",
      "  self.n_iter_ = _check_optimize_result(\"lbfgs\", opt_res, self.max_iter)\n"
     ]
    },
    {
     "name": "stdout",
     "output_type": "stream",
     "text": [
      "[CV 3/10] END activation=tanh, alpha=0.001, hidden_layer_sizes=50, max_iter=700, solver=lbfgs;, score=0.902 total time=  29.0s\n"
     ]
    },
    {
     "name": "stderr",
     "output_type": "stream",
     "text": [
      "/Users/sofiagoncalves/Desktop/Projeto 1 IA/venv/lib/python3.8/site-packages/sklearn/neural_network/_multilayer_perceptron.py:541: ConvergenceWarning: lbfgs failed to converge (status=1):\n",
      "STOP: TOTAL NO. of ITERATIONS REACHED LIMIT.\n",
      "\n",
      "Increase the number of iterations (max_iter) or scale the data as shown in:\n",
      "    https://scikit-learn.org/stable/modules/preprocessing.html\n",
      "  self.n_iter_ = _check_optimize_result(\"lbfgs\", opt_res, self.max_iter)\n"
     ]
    },
    {
     "name": "stdout",
     "output_type": "stream",
     "text": [
      "[CV 4/10] END activation=tanh, alpha=0.001, hidden_layer_sizes=50, max_iter=700, solver=lbfgs;, score=0.903 total time=  28.3s\n"
     ]
    },
    {
     "name": "stderr",
     "output_type": "stream",
     "text": [
      "/Users/sofiagoncalves/Desktop/Projeto 1 IA/venv/lib/python3.8/site-packages/sklearn/neural_network/_multilayer_perceptron.py:541: ConvergenceWarning: lbfgs failed to converge (status=1):\n",
      "STOP: TOTAL NO. of ITERATIONS REACHED LIMIT.\n",
      "\n",
      "Increase the number of iterations (max_iter) or scale the data as shown in:\n",
      "    https://scikit-learn.org/stable/modules/preprocessing.html\n",
      "  self.n_iter_ = _check_optimize_result(\"lbfgs\", opt_res, self.max_iter)\n"
     ]
    },
    {
     "name": "stdout",
     "output_type": "stream",
     "text": [
      "[CV 5/10] END activation=tanh, alpha=0.001, hidden_layer_sizes=50, max_iter=700, solver=lbfgs;, score=0.905 total time=  30.9s\n"
     ]
    },
    {
     "name": "stderr",
     "output_type": "stream",
     "text": [
      "/Users/sofiagoncalves/Desktop/Projeto 1 IA/venv/lib/python3.8/site-packages/sklearn/neural_network/_multilayer_perceptron.py:541: ConvergenceWarning: lbfgs failed to converge (status=1):\n",
      "STOP: TOTAL NO. of ITERATIONS REACHED LIMIT.\n",
      "\n",
      "Increase the number of iterations (max_iter) or scale the data as shown in:\n",
      "    https://scikit-learn.org/stable/modules/preprocessing.html\n",
      "  self.n_iter_ = _check_optimize_result(\"lbfgs\", opt_res, self.max_iter)\n"
     ]
    },
    {
     "name": "stdout",
     "output_type": "stream",
     "text": [
      "[CV 6/10] END activation=tanh, alpha=0.001, hidden_layer_sizes=50, max_iter=700, solver=lbfgs;, score=0.899 total time=  30.5s\n"
     ]
    },
    {
     "name": "stderr",
     "output_type": "stream",
     "text": [
      "/Users/sofiagoncalves/Desktop/Projeto 1 IA/venv/lib/python3.8/site-packages/sklearn/neural_network/_multilayer_perceptron.py:541: ConvergenceWarning: lbfgs failed to converge (status=1):\n",
      "STOP: TOTAL NO. of ITERATIONS REACHED LIMIT.\n",
      "\n",
      "Increase the number of iterations (max_iter) or scale the data as shown in:\n",
      "    https://scikit-learn.org/stable/modules/preprocessing.html\n",
      "  self.n_iter_ = _check_optimize_result(\"lbfgs\", opt_res, self.max_iter)\n"
     ]
    },
    {
     "name": "stdout",
     "output_type": "stream",
     "text": [
      "[CV 7/10] END activation=tanh, alpha=0.001, hidden_layer_sizes=50, max_iter=700, solver=lbfgs;, score=0.898 total time=  28.6s\n"
     ]
    },
    {
     "name": "stderr",
     "output_type": "stream",
     "text": [
      "/Users/sofiagoncalves/Desktop/Projeto 1 IA/venv/lib/python3.8/site-packages/sklearn/neural_network/_multilayer_perceptron.py:541: ConvergenceWarning: lbfgs failed to converge (status=1):\n",
      "STOP: TOTAL NO. of ITERATIONS REACHED LIMIT.\n",
      "\n",
      "Increase the number of iterations (max_iter) or scale the data as shown in:\n",
      "    https://scikit-learn.org/stable/modules/preprocessing.html\n",
      "  self.n_iter_ = _check_optimize_result(\"lbfgs\", opt_res, self.max_iter)\n"
     ]
    },
    {
     "name": "stdout",
     "output_type": "stream",
     "text": [
      "[CV 8/10] END activation=tanh, alpha=0.001, hidden_layer_sizes=50, max_iter=700, solver=lbfgs;, score=0.897 total time=  28.8s\n"
     ]
    },
    {
     "name": "stderr",
     "output_type": "stream",
     "text": [
      "/Users/sofiagoncalves/Desktop/Projeto 1 IA/venv/lib/python3.8/site-packages/sklearn/neural_network/_multilayer_perceptron.py:541: ConvergenceWarning: lbfgs failed to converge (status=1):\n",
      "STOP: TOTAL NO. of ITERATIONS REACHED LIMIT.\n",
      "\n",
      "Increase the number of iterations (max_iter) or scale the data as shown in:\n",
      "    https://scikit-learn.org/stable/modules/preprocessing.html\n",
      "  self.n_iter_ = _check_optimize_result(\"lbfgs\", opt_res, self.max_iter)\n"
     ]
    },
    {
     "name": "stdout",
     "output_type": "stream",
     "text": [
      "[CV 9/10] END activation=tanh, alpha=0.001, hidden_layer_sizes=50, max_iter=700, solver=lbfgs;, score=0.902 total time=  31.4s\n"
     ]
    }
   ],
   "source": [
    "from sklearn.model_selection import cross_val_score\n",
    "\n",
    "cv_scores = cross_val_score(clf, all_inputs_encoded, all_labels, cv=10)\n",
    "plt.hist(cv_scores)\n",
    "plt.title('Average score: {}'.format(np.mean(cv_scores)))"
   ]
  },
  {
   "cell_type": "code",
   "execution_count": null,
   "metadata": {
    "is_executing": true
   },
   "outputs": [],
   "source": [
    "from sklearn.model_selection import GridSearchCV\n",
    "from sklearn.model_selection import StratifiedKFold\n",
    "\n",
    "parameter_grid = {\n",
    "    'solver': ['adam'],\n",
    "    'activation' : ['tanh', 'logistic'],\n",
    "    'alpha': [0.0001, 0.001, 0.01], \n",
    "    'hidden_layer_sizes': [10, 50, 100],\n",
    "    'max_iter' : [700]}\n",
    "\n",
    "\n",
    "\n",
    "\n",
    "grid_search = GridSearchCV(\n",
    "    MLPClassifier(), \n",
    "    param_grid=parameter_grid, \n",
    "    cv=10,\n",
    "    verbose=3)\n",
    "\n",
    "grid_search.fit(all_inputs_encoded, all_labels)\n",
    "print('Best score: {}'.format(grid_search.best_score_))\n",
    "print('Best parameters: {}'.format(grid_search.best_params_))\n",
    "print('Best estimator: {}'.format(grid_search.best_estimator_))"
   ]
  },
  {
   "cell_type": "code",
   "execution_count": null,
   "outputs": [],
   "source": [],
   "metadata": {
    "collapsed": false
   }
  }
 ],
 "metadata": {
  "kernelspec": {
   "display_name": "base",
   "language": "python",
   "name": "python3"
  },
  "language_info": {
   "codemirror_mode": {
    "name": "ipython",
    "version": 3
   },
   "file_extension": ".py",
   "mimetype": "text/x-python",
   "name": "python",
   "nbconvert_exporter": "python",
   "pygments_lexer": "ipython3",
   "version": "3.8.3"
  },
  "orig_nbformat": 4
 },
 "nbformat": 4,
 "nbformat_minor": 2
}
