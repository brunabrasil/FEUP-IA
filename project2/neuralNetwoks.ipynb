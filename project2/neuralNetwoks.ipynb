{
 "cells": [
  {
   "cell_type": "code",
   "execution_count": 1,
   "metadata": {
    "ExecuteTime": {
     "end_time": "2023-05-15T08:59:35.989306Z",
     "start_time": "2023-05-15T08:59:35.630003Z"
    }
   },
   "outputs": [],
   "source": [
    "import numpy as np\n",
    "import pandas as pd\n",
    "import seaborn as sns\n",
    "import matplotlib.pyplot as plt\n",
    "from sklearn.neural_network import MLPClassifier\n",
    "import time"
   ]
  },
  {
   "cell_type": "code",
   "execution_count": 2,
   "metadata": {
    "ExecuteTime": {
     "end_time": "2023-05-15T08:59:36.057903Z",
     "start_time": "2023-05-15T08:59:35.992569Z"
    }
   },
   "outputs": [
    {
     "data": {
      "text/plain": "customer_age                  float64\njob_type                        int64\nmarital                         int64\neducation                       int64\ndefault                         int64\nbalance                       float64\nhousing_loan                    int64\npersonal_loan                   int64\nmonth                           int64\nlast_contact_duration         float64\nnum_contacts_in_campaign      float64\nnum_contacts_prev_campaign      int64\nprev_campaign_outcome           int64\nterm_deposit_subscribed         int64\nmid_month                       int64\ndtype: object"
     },
     "execution_count": 2,
     "metadata": {},
     "output_type": "execute_result"
    }
   ],
   "source": [
    "\n",
    "train_data = pd.read_csv('train-clean.csv',delimiter=\",\")\n",
    "# GETTING THE NULL VALUES\n",
    "train_data.dtypes"
   ]
  },
  {
   "cell_type": "code",
   "execution_count": 3,
   "metadata": {
    "ExecuteTime": {
     "end_time": "2023-05-15T08:59:36.068371Z",
     "start_time": "2023-05-15T08:59:36.064392Z"
    }
   },
   "outputs": [],
   "source": [
    "input_names = list(train_data.columns)\n",
    "input_names.remove('term_deposit_subscribed')\n",
    "\n",
    "all_inputs = train_data[input_names].values\n",
    "all_labels = train_data['term_deposit_subscribed'].values"
   ]
  },
  {
   "cell_type": "code",
   "execution_count": 4,
   "metadata": {
    "ExecuteTime": {
     "end_time": "2023-05-15T08:59:36.085988Z",
     "start_time": "2023-05-15T08:59:36.072785Z"
    }
   },
   "outputs": [],
   "source": [
    "from sklearn.model_selection import train_test_split\n",
    "\n",
    "(training_inputs,\n",
    " testing_inputs,\n",
    " training_classes,\n",
    " testing_classes) = train_test_split(all_inputs, all_labels, test_size=0.25, random_state=1)\n",
    "# Split the encoded dataset into training and testing sets\n",
    "#(training_inputs, \n",
    "# testing_inputs,\n",
    "# training_classes,\n",
    "# testing_classes) = train_test_split(all_inputs_encoded.values, all_labels.values, test_size=0.25, random_state=1)\n",
    "\n"
   ]
  },
  {
   "cell_type": "code",
   "execution_count": 5,
   "metadata": {
    "ExecuteTime": {
     "end_time": "2023-05-15T08:59:36.105721Z",
     "start_time": "2023-05-15T08:59:36.088074Z"
    }
   },
   "outputs": [
    {
     "data": {
      "text/plain": "array([[-0.69280058, -0.09357388, -0.26627764, ...,  4.88086651,\n        -2.68253946, -1.0196852 ],\n       [ 1.18836903, -1.01337176, -0.26627764, ..., -0.38389216,\n         0.4245467 , -1.0196852 ],\n       [ 1.37648599, -0.40017317, -0.26627764, ..., -0.38389216,\n         0.4245467 ,  0.98069482],\n       ...,\n       [-0.69280058, -0.09357388, -0.26627764, ...,  1.72201131,\n        -2.68253946, -1.0196852 ],\n       [-2.10367779,  1.1328233 ,  1.3736842 , ...,  0.66905958,\n        -2.68253946,  0.98069482],\n       [-0.22250818, -0.09357388, -0.26627764, ..., -0.38389216,\n         0.4245467 ,  0.98069482]])"
     },
     "execution_count": 5,
     "metadata": {},
     "output_type": "execute_result"
    }
   ],
   "source": [
    "from sklearn.preprocessing import StandardScaler  \n",
    "\n",
    "scaler = StandardScaler()\n",
    "scaler.fit(training_inputs)\n",
    "training_inputs = scaler.transform(training_inputs)\n",
    "testing_inputs = scaler.transform(testing_inputs)  \n",
    "\n",
    "#scaler = StandardScaler()\n",
    "#training_inputs[:, :-32] = scaler.fit_transform(training_inputs[:, :-32])\n",
    "#testing_inputs[:, :-32] = scaler.transform(testing_inputs[:, :-32])\n",
    "\n",
    "training_inputs"
   ]
  },
  {
   "cell_type": "code",
   "execution_count": 6,
   "metadata": {
    "ExecuteTime": {
     "end_time": "2023-05-15T09:00:25.921254Z",
     "start_time": "2023-05-15T08:59:36.116151Z"
    }
   },
   "outputs": [
    {
     "name": "stdout",
     "output_type": "stream",
     "text": [
      "Training time: 49.78 seconds\n"
     ]
    },
    {
     "data": {
      "text/plain": "0.9135971518554019"
     },
     "execution_count": 6,
     "metadata": {},
     "output_type": "execute_result"
    }
   ],
   "source": [
    "# Create the classifier\n",
    "clf = MLPClassifier(max_iter=700)\n",
    "\n",
    "# Start the timer\n",
    "start_time = time.time()\n",
    "\n",
    "# Train the classifier on the training set\n",
    "clf.fit(training_inputs, training_classes)\n",
    "\n",
    "# End the timer and calculate the training time\n",
    "training_time = time.time() - start_time\n",
    "\n",
    "print(\"Training time: {:.2f} seconds\".format(training_time))\n",
    "\n",
    "# Validate the classifier on the testing set using classification accuracy\n",
    "clf.score(testing_inputs, testing_classes)"
   ]
  },
  {
   "cell_type": "code",
   "execution_count": 16,
   "metadata": {
    "ExecuteTime": {
     "end_time": "2023-05-15T09:48:54.082836Z",
     "start_time": "2023-05-15T09:48:52.878674Z"
    }
   },
   "outputs": [
    {
     "name": "stdout",
     "output_type": "stream",
     "text": [
      "              precision    recall  f1-score   support\n",
      "\n",
      "           0       0.94      0.97      0.95      6602\n",
      "           1       0.57      0.41      0.47       701\n",
      "\n",
      "    accuracy                           0.91      7303\n",
      "   macro avg       0.75      0.69      0.71      7303\n",
      "weighted avg       0.90      0.91      0.91      7303\n",
      "\n",
      "              precision    recall  f1-score   support\n",
      "\n",
      "           0       0.94      0.97      0.95      6602\n",
      "           1       0.57      0.41      0.47       701\n",
      "\n",
      "    accuracy                           0.91      7303\n",
      "   macro avg       0.75      0.69      0.71      7303\n",
      "weighted avg       0.90      0.91      0.91      7303\n",
      "\n"
     ]
    }
   ],
   "source": [
    "from sklearn.metrics import classification_report, confusion_matrix\n",
    "\n",
    "predictions = clf.predict(testing_inputs)\n",
    "print(classification_report(testing_classes, predictions))"
   ]
  },
  {
   "cell_type": "code",
   "execution_count": 18,
   "outputs": [
    {
     "data": {
      "text/plain": "<Figure size 640x480 with 1 Axes>",
      "image/png": "[encoded data removed]"
     },
     "metadata": {},
     "output_type": "display_data"
    }
   ],
   "source": [
    "x = np.array([0, 1])  # Values 0 and 1\n",
    "y1 = np.array([0.92, 0.38])  # Values for the first column\n",
    "y2 = np.array([0.97, 0.16])  # Values for the second column\n",
    "y3 = np.array([0.94, 0.23])  # Values for the third column\n",
    "\n",
    "plt.bar(x, y1, width=0.2, align='center', label='Precision')\n",
    "plt.bar(x + 0.2, y2, width=0.2, align='center', label='Recall')\n",
    "plt.bar(x + 0.4, y3, width=0.2, align='center', label='F1-score')\n",
    "\n",
    "plt.xticks(x, ['0', '1'])  # Set the x-tick labels\n",
    "plt.ylabel('Percentages')\n",
    "\n",
    "plt.legend()\n",
    "plt.title('Neural Networks')\n",
    "#Add text annotations on top of each bar\n",
    "for i, v in enumerate(y1):\n",
    "    plt.text(i - 0.1, v + 0.01, str(v), color='black', fontweight='bold')\n",
    "for i, v in enumerate(y2):\n",
    "    plt.text(i + 0.1, v + 0.01, str(v), color='black', fontweight='bold')\n",
    "for i, v in enumerate(y3):\n",
    "    plt.text(i + 0.3, v + 0.01, str(v), color='black', fontweight='bold')\n",
    "plt.show()  # Display the plot"
   ],
   "metadata": {
    "collapsed": false,
    "ExecuteTime": {
     "end_time": "2023-05-15T09:49:19.565676Z",
     "start_time": "2023-05-15T09:49:19.360304Z"
    }
   }
  },
  {
   "cell_type": "code",
   "execution_count": 8,
   "outputs": [],
   "source": [
    "from sklearn.metrics import confusion_matrix\n",
    "cm=confusion_matrix(testing_classes, predictions)"
   ],
   "metadata": {
    "collapsed": false,
    "ExecuteTime": {
     "end_time": "2023-05-15T09:00:26.033563Z",
     "start_time": "2023-05-15T09:00:25.961464Z"
    }
   }
  },
  {
   "cell_type": "code",
   "execution_count": 9,
   "outputs": [
    {
     "data": {
      "text/plain": "<Figure size 640x480 with 2 Axes>",
      "image/png": "[encoded data removed]"
     },
     "metadata": {},
     "output_type": "display_data"
    }
   ],
   "source": [
    "from sklearn.metrics import ConfusionMatrixDisplay\n",
    "#ConfusionMatrixDisplay.from_estimator(clf, testing_inputs, testing_classes).plot()\n",
    "cm_display=ConfusionMatrixDisplay(confusion_matrix=cm)\n",
    "cm_display.plot(cmap = 'Blues')\n",
    "plt.show()"
   ],
   "metadata": {
    "collapsed": false,
    "ExecuteTime": {
     "end_time": "2023-05-15T09:00:26.332413Z",
     "start_time": "2023-05-15T09:00:25.971138Z"
    }
   }
  },
  {
   "cell_type": "code",
   "execution_count": 10,
   "metadata": {
    "ExecuteTime": {
     "end_time": "2023-05-15T09:00:53.388331Z",
     "start_time": "2023-05-15T09:00:26.336860Z"
    }
   },
   "outputs": [
    {
     "name": "stdout",
     "output_type": "stream",
     "text": [
      "              precision    recall  f1-score   support\n",
      "\n",
      "           0       0.94      0.97      0.95      6602\n",
      "           1       0.58      0.41      0.48       701\n",
      "\n",
      "    accuracy                           0.91      7303\n",
      "   macro avg       0.76      0.69      0.72      7303\n",
      "weighted avg       0.90      0.91      0.91      7303\n",
      "\n"
     ]
    }
   ],
   "source": [
    "improved_clf = MLPClassifier(activation='logistic', alpha=0.001, hidden_layer_sizes=50, max_iter=700)\n",
    "\n",
    "# Train the classifier on the training set\n",
    "improved_clf.fit(training_inputs, training_classes)\n",
    "new_predictions = improved_clf.predict(testing_inputs)\n",
    "print(classification_report(testing_classes, new_predictions))"
   ]
  },
  {
   "cell_type": "code",
   "execution_count": 11,
   "metadata": {
    "ExecuteTime": {
     "end_time": "2023-05-15T09:01:19.245150Z",
     "start_time": "2023-05-15T09:00:53.393058Z"
    }
   },
   "outputs": [
    {
     "data": {
      "text/plain": "Text(0.5, 1.0, 'Average score: 0.8997261211913727')"
     },
     "execution_count": 11,
     "metadata": {},
     "output_type": "execute_result"
    },
    {
     "data": {
      "text/plain": "<Figure size 640x480 with 1 Axes>",
      "image/png": "[encoded data removed]"
     },
     "metadata": {},
     "output_type": "display_data"
    }
   ],
   "source": [
    "from sklearn.model_selection import cross_val_score\n",
    "\n",
    "cv_scores = cross_val_score(clf, all_inputs, all_labels, cv=10)\n",
    "plt.hist(cv_scores)\n",
    "plt.title('Average score: {}'.format(np.mean(cv_scores)))"
   ]
  },
  {
   "cell_type": "code",
   "execution_count": 12,
   "metadata": {
    "ExecuteTime": {
     "end_time": "2023-05-15T09:48:51.965183Z",
     "start_time": "2023-05-15T09:01:19.249724Z"
    }
   },
   "outputs": [
    {
     "name": "stdout",
     "output_type": "stream",
     "text": [
      "Fitting 10 folds for each of 18 candidates, totalling 180 fits\n",
      "[CV 1/10] END activation=tanh, alpha=0.0001, hidden_layer_sizes=10, max_iter=700, solver=adam;, score=0.904 total time=   4.4s\n",
      "[CV 2/10] END activation=tanh, alpha=0.0001, hidden_layer_sizes=10, max_iter=700, solver=adam;, score=0.901 total time=   3.0s\n",
      "[CV 3/10] END activation=tanh, alpha=0.0001, hidden_layer_sizes=10, max_iter=700, solver=adam;, score=0.901 total time=   3.4s\n",
      "[CV 4/10] END activation=tanh, alpha=0.0001, hidden_layer_sizes=10, max_iter=700, solver=adam;, score=0.901 total time=   2.3s\n",
      "[CV 5/10] END activation=tanh, alpha=0.0001, hidden_layer_sizes=10, max_iter=700, solver=adam;, score=0.901 total time=   3.0s\n",
      "[CV 6/10] END activation=tanh, alpha=0.0001, hidden_layer_sizes=10, max_iter=700, solver=adam;, score=0.901 total time=   4.8s\n",
      "[CV 7/10] END activation=tanh, alpha=0.0001, hidden_layer_sizes=10, max_iter=700, solver=adam;, score=0.901 total time=   5.3s\n",
      "[CV 8/10] END activation=tanh, alpha=0.0001, hidden_layer_sizes=10, max_iter=700, solver=adam;, score=0.901 total time=   4.7s\n",
      "[CV 9/10] END activation=tanh, alpha=0.0001, hidden_layer_sizes=10, max_iter=700, solver=adam;, score=0.901 total time=   3.7s\n",
      "[CV 10/10] END activation=tanh, alpha=0.0001, hidden_layer_sizes=10, max_iter=700, solver=adam;, score=0.900 total time=   3.2s\n",
      "[CV 1/10] END activation=tanh, alpha=0.0001, hidden_layer_sizes=50, max_iter=700, solver=adam;, score=0.906 total time=   5.5s\n",
      "[CV 2/10] END activation=tanh, alpha=0.0001, hidden_layer_sizes=50, max_iter=700, solver=adam;, score=0.902 total time=   6.8s\n",
      "[CV 3/10] END activation=tanh, alpha=0.0001, hidden_layer_sizes=50, max_iter=700, solver=adam;, score=0.901 total time=   8.5s\n",
      "[CV 4/10] END activation=tanh, alpha=0.0001, hidden_layer_sizes=50, max_iter=700, solver=adam;, score=0.903 total time=   6.0s\n",
      "[CV 5/10] END activation=tanh, alpha=0.0001, hidden_layer_sizes=50, max_iter=700, solver=adam;, score=0.904 total time=   7.8s\n",
      "[CV 6/10] END activation=tanh, alpha=0.0001, hidden_layer_sizes=50, max_iter=700, solver=adam;, score=0.903 total time=   7.4s\n",
      "[CV 7/10] END activation=tanh, alpha=0.0001, hidden_layer_sizes=50, max_iter=700, solver=adam;, score=0.900 total time=   8.2s\n",
      "[CV 8/10] END activation=tanh, alpha=0.0001, hidden_layer_sizes=50, max_iter=700, solver=adam;, score=0.899 total time=   5.5s\n",
      "[CV 9/10] END activation=tanh, alpha=0.0001, hidden_layer_sizes=50, max_iter=700, solver=adam;, score=0.902 total time=   5.9s\n",
      "[CV 10/10] END activation=tanh, alpha=0.0001, hidden_layer_sizes=50, max_iter=700, solver=adam;, score=0.899 total time=   6.7s\n",
      "[CV 1/10] END activation=tanh, alpha=0.0001, hidden_layer_sizes=100, max_iter=700, solver=adam;, score=0.899 total time=   8.2s\n",
      "[CV 2/10] END activation=tanh, alpha=0.0001, hidden_layer_sizes=100, max_iter=700, solver=adam;, score=0.901 total time=   6.2s\n",
      "[CV 3/10] END activation=tanh, alpha=0.0001, hidden_layer_sizes=100, max_iter=700, solver=adam;, score=0.903 total time=   5.2s\n",
      "[CV 4/10] END activation=tanh, alpha=0.0001, hidden_layer_sizes=100, max_iter=700, solver=adam;, score=0.901 total time=  15.4s\n",
      "[CV 5/10] END activation=tanh, alpha=0.0001, hidden_layer_sizes=100, max_iter=700, solver=adam;, score=0.907 total time=  22.5s\n",
      "[CV 6/10] END activation=tanh, alpha=0.0001, hidden_layer_sizes=100, max_iter=700, solver=adam;, score=0.899 total time=  27.0s\n",
      "[CV 7/10] END activation=tanh, alpha=0.0001, hidden_layer_sizes=100, max_iter=700, solver=adam;, score=0.890 total time=  25.5s\n",
      "[CV 8/10] END activation=tanh, alpha=0.0001, hidden_layer_sizes=100, max_iter=700, solver=adam;, score=0.899 total time=  26.6s\n",
      "[CV 9/10] END activation=tanh, alpha=0.0001, hidden_layer_sizes=100, max_iter=700, solver=adam;, score=0.901 total time=  17.6s\n",
      "[CV 10/10] END activation=tanh, alpha=0.0001, hidden_layer_sizes=100, max_iter=700, solver=adam;, score=0.904 total time=  48.3s\n",
      "[CV 1/10] END activation=tanh, alpha=0.001, hidden_layer_sizes=10, max_iter=700, solver=adam;, score=0.904 total time=  12.1s\n",
      "[CV 2/10] END activation=tanh, alpha=0.001, hidden_layer_sizes=10, max_iter=700, solver=adam;, score=0.902 total time=   9.5s\n",
      "[CV 3/10] END activation=tanh, alpha=0.001, hidden_layer_sizes=10, max_iter=700, solver=adam;, score=0.901 total time=  13.9s\n",
      "[CV 4/10] END activation=tanh, alpha=0.001, hidden_layer_sizes=10, max_iter=700, solver=adam;, score=0.900 total time=   9.4s\n",
      "[CV 5/10] END activation=tanh, alpha=0.001, hidden_layer_sizes=10, max_iter=700, solver=adam;, score=0.901 total time=  15.1s\n",
      "[CV 6/10] END activation=tanh, alpha=0.001, hidden_layer_sizes=10, max_iter=700, solver=adam;, score=0.901 total time=  14.2s\n",
      "[CV 7/10] END activation=tanh, alpha=0.001, hidden_layer_sizes=10, max_iter=700, solver=adam;, score=0.901 total time=  10.0s\n",
      "[CV 8/10] END activation=tanh, alpha=0.001, hidden_layer_sizes=10, max_iter=700, solver=adam;, score=0.901 total time=  12.1s\n",
      "[CV 9/10] END activation=tanh, alpha=0.001, hidden_layer_sizes=10, max_iter=700, solver=adam;, score=0.901 total time=  10.2s\n",
      "[CV 10/10] END activation=tanh, alpha=0.001, hidden_layer_sizes=10, max_iter=700, solver=adam;, score=0.901 total time=   7.8s\n",
      "[CV 1/10] END activation=tanh, alpha=0.001, hidden_layer_sizes=50, max_iter=700, solver=adam;, score=0.906 total time=  19.5s\n",
      "[CV 2/10] END activation=tanh, alpha=0.001, hidden_layer_sizes=50, max_iter=700, solver=adam;, score=0.903 total time=  29.1s\n",
      "[CV 3/10] END activation=tanh, alpha=0.001, hidden_layer_sizes=50, max_iter=700, solver=adam;, score=0.906 total time=  10.1s\n",
      "[CV 4/10] END activation=tanh, alpha=0.001, hidden_layer_sizes=50, max_iter=700, solver=adam;, score=0.904 total time=   6.2s\n",
      "[CV 5/10] END activation=tanh, alpha=0.001, hidden_layer_sizes=50, max_iter=700, solver=adam;, score=0.905 total time=   6.1s\n",
      "[CV 6/10] END activation=tanh, alpha=0.001, hidden_layer_sizes=50, max_iter=700, solver=adam;, score=0.900 total time=   8.2s\n",
      "[CV 7/10] END activation=tanh, alpha=0.001, hidden_layer_sizes=50, max_iter=700, solver=adam;, score=0.891 total time=   7.9s\n",
      "[CV 8/10] END activation=tanh, alpha=0.001, hidden_layer_sizes=50, max_iter=700, solver=adam;, score=0.900 total time=   7.2s\n",
      "[CV 9/10] END activation=tanh, alpha=0.001, hidden_layer_sizes=50, max_iter=700, solver=adam;, score=0.901 total time=   5.5s\n",
      "[CV 10/10] END activation=tanh, alpha=0.001, hidden_layer_sizes=50, max_iter=700, solver=adam;, score=0.905 total time=   7.7s\n",
      "[CV 1/10] END activation=tanh, alpha=0.001, hidden_layer_sizes=100, max_iter=700, solver=adam;, score=0.901 total time=   6.5s\n",
      "[CV 2/10] END activation=tanh, alpha=0.001, hidden_layer_sizes=100, max_iter=700, solver=adam;, score=0.900 total time=   8.2s\n",
      "[CV 3/10] END activation=tanh, alpha=0.001, hidden_layer_sizes=100, max_iter=700, solver=adam;, score=0.907 total time=   7.8s\n",
      "[CV 4/10] END activation=tanh, alpha=0.001, hidden_layer_sizes=100, max_iter=700, solver=adam;, score=0.903 total time=   9.3s\n",
      "[CV 5/10] END activation=tanh, alpha=0.001, hidden_layer_sizes=100, max_iter=700, solver=adam;, score=0.901 total time=   6.9s\n",
      "[CV 6/10] END activation=tanh, alpha=0.001, hidden_layer_sizes=100, max_iter=700, solver=adam;, score=0.903 total time=   7.4s\n",
      "[CV 7/10] END activation=tanh, alpha=0.001, hidden_layer_sizes=100, max_iter=700, solver=adam;, score=0.899 total time=   8.3s\n",
      "[CV 8/10] END activation=tanh, alpha=0.001, hidden_layer_sizes=100, max_iter=700, solver=adam;, score=0.902 total time=   7.2s\n",
      "[CV 9/10] END activation=tanh, alpha=0.001, hidden_layer_sizes=100, max_iter=700, solver=adam;, score=0.901 total time=   5.3s\n",
      "[CV 10/10] END activation=tanh, alpha=0.001, hidden_layer_sizes=100, max_iter=700, solver=adam;, score=0.907 total time=   9.3s\n",
      "[CV 1/10] END activation=tanh, alpha=0.01, hidden_layer_sizes=10, max_iter=700, solver=adam;, score=0.901 total time=   4.2s\n",
      "[CV 2/10] END activation=tanh, alpha=0.01, hidden_layer_sizes=10, max_iter=700, solver=adam;, score=0.901 total time=   3.3s\n",
      "[CV 3/10] END activation=tanh, alpha=0.01, hidden_layer_sizes=10, max_iter=700, solver=adam;, score=0.901 total time=   3.2s\n",
      "[CV 4/10] END activation=tanh, alpha=0.01, hidden_layer_sizes=10, max_iter=700, solver=adam;, score=0.901 total time=   7.3s\n",
      "[CV 5/10] END activation=tanh, alpha=0.01, hidden_layer_sizes=10, max_iter=700, solver=adam;, score=0.901 total time=   3.1s\n",
      "[CV 6/10] END activation=tanh, alpha=0.01, hidden_layer_sizes=10, max_iter=700, solver=adam;, score=0.901 total time=   5.1s\n",
      "[CV 7/10] END activation=tanh, alpha=0.01, hidden_layer_sizes=10, max_iter=700, solver=adam;, score=0.901 total time=   4.1s\n",
      "[CV 8/10] END activation=tanh, alpha=0.01, hidden_layer_sizes=10, max_iter=700, solver=adam;, score=0.901 total time=   8.0s\n",
      "[CV 9/10] END activation=tanh, alpha=0.01, hidden_layer_sizes=10, max_iter=700, solver=adam;, score=0.901 total time=   4.9s\n",
      "[CV 10/10] END activation=tanh, alpha=0.01, hidden_layer_sizes=10, max_iter=700, solver=adam;, score=0.901 total time=   4.7s\n",
      "[CV 1/10] END activation=tanh, alpha=0.01, hidden_layer_sizes=50, max_iter=700, solver=adam;, score=0.905 total time=   6.5s\n",
      "[CV 2/10] END activation=tanh, alpha=0.01, hidden_layer_sizes=50, max_iter=700, solver=adam;, score=0.902 total time=   5.0s\n",
      "[CV 3/10] END activation=tanh, alpha=0.01, hidden_layer_sizes=50, max_iter=700, solver=adam;, score=0.900 total time=   9.6s\n",
      "[CV 4/10] END activation=tanh, alpha=0.01, hidden_layer_sizes=50, max_iter=700, solver=adam;, score=0.901 total time=   9.0s\n",
      "[CV 5/10] END activation=tanh, alpha=0.01, hidden_layer_sizes=50, max_iter=700, solver=adam;, score=0.901 total time=   6.1s\n",
      "[CV 6/10] END activation=tanh, alpha=0.01, hidden_layer_sizes=50, max_iter=700, solver=adam;, score=0.904 total time=   4.8s\n",
      "[CV 7/10] END activation=tanh, alpha=0.01, hidden_layer_sizes=50, max_iter=700, solver=adam;, score=0.895 total time=  12.2s\n",
      "[CV 8/10] END activation=tanh, alpha=0.01, hidden_layer_sizes=50, max_iter=700, solver=adam;, score=0.896 total time=   9.2s\n",
      "[CV 9/10] END activation=tanh, alpha=0.01, hidden_layer_sizes=50, max_iter=700, solver=adam;, score=0.899 total time=  20.5s\n",
      "[CV 10/10] END activation=tanh, alpha=0.01, hidden_layer_sizes=50, max_iter=700, solver=adam;, score=0.904 total time=  13.0s\n",
      "[CV 1/10] END activation=tanh, alpha=0.01, hidden_layer_sizes=100, max_iter=700, solver=adam;, score=0.903 total time=  10.1s\n",
      "[CV 2/10] END activation=tanh, alpha=0.01, hidden_layer_sizes=100, max_iter=700, solver=adam;, score=0.899 total time=   7.7s\n",
      "[CV 3/10] END activation=tanh, alpha=0.01, hidden_layer_sizes=100, max_iter=700, solver=adam;, score=0.902 total time=  10.3s\n",
      "[CV 4/10] END activation=tanh, alpha=0.01, hidden_layer_sizes=100, max_iter=700, solver=adam;, score=0.902 total time=   6.0s\n",
      "[CV 5/10] END activation=tanh, alpha=0.01, hidden_layer_sizes=100, max_iter=700, solver=adam;, score=0.901 total time=  14.1s\n",
      "[CV 6/10] END activation=tanh, alpha=0.01, hidden_layer_sizes=100, max_iter=700, solver=adam;, score=0.901 total time=   9.7s\n",
      "[CV 7/10] END activation=tanh, alpha=0.01, hidden_layer_sizes=100, max_iter=700, solver=adam;, score=0.898 total time=   9.6s\n",
      "[CV 8/10] END activation=tanh, alpha=0.01, hidden_layer_sizes=100, max_iter=700, solver=adam;, score=0.897 total time=   6.2s\n",
      "[CV 9/10] END activation=tanh, alpha=0.01, hidden_layer_sizes=100, max_iter=700, solver=adam;, score=0.901 total time=   6.3s\n",
      "[CV 10/10] END activation=tanh, alpha=0.01, hidden_layer_sizes=100, max_iter=700, solver=adam;, score=0.906 total time=   5.3s\n",
      "[CV 1/10] END activation=logistic, alpha=0.0001, hidden_layer_sizes=10, max_iter=700, solver=adam;, score=0.901 total time=   4.0s\n",
      "[CV 2/10] END activation=logistic, alpha=0.0001, hidden_layer_sizes=10, max_iter=700, solver=adam;, score=0.901 total time=   4.0s\n",
      "[CV 3/10] END activation=logistic, alpha=0.0001, hidden_layer_sizes=10, max_iter=700, solver=adam;, score=0.910 total time=   3.9s\n",
      "[CV 4/10] END activation=logistic, alpha=0.0001, hidden_layer_sizes=10, max_iter=700, solver=adam;, score=0.901 total time=   2.9s\n",
      "[CV 5/10] END activation=logistic, alpha=0.0001, hidden_layer_sizes=10, max_iter=700, solver=adam;, score=0.905 total time=   1.9s\n",
      "[CV 6/10] END activation=logistic, alpha=0.0001, hidden_layer_sizes=10, max_iter=700, solver=adam;, score=0.900 total time=   3.1s\n",
      "[CV 7/10] END activation=logistic, alpha=0.0001, hidden_layer_sizes=10, max_iter=700, solver=adam;, score=0.901 total time=   3.2s\n",
      "[CV 8/10] END activation=logistic, alpha=0.0001, hidden_layer_sizes=10, max_iter=700, solver=adam;, score=0.901 total time=   2.9s\n",
      "[CV 9/10] END activation=logistic, alpha=0.0001, hidden_layer_sizes=10, max_iter=700, solver=adam;, score=0.901 total time=   2.8s\n",
      "[CV 10/10] END activation=logistic, alpha=0.0001, hidden_layer_sizes=10, max_iter=700, solver=adam;, score=0.901 total time=   2.0s\n",
      "[CV 1/10] END activation=logistic, alpha=0.0001, hidden_layer_sizes=50, max_iter=700, solver=adam;, score=0.904 total time=   4.4s\n",
      "[CV 2/10] END activation=logistic, alpha=0.0001, hidden_layer_sizes=50, max_iter=700, solver=adam;, score=0.904 total time=   5.3s\n",
      "[CV 3/10] END activation=logistic, alpha=0.0001, hidden_layer_sizes=50, max_iter=700, solver=adam;, score=0.904 total time=   4.5s\n",
      "[CV 4/10] END activation=logistic, alpha=0.0001, hidden_layer_sizes=50, max_iter=700, solver=adam;, score=0.904 total time=   4.8s\n",
      "[CV 5/10] END activation=logistic, alpha=0.0001, hidden_layer_sizes=50, max_iter=700, solver=adam;, score=0.904 total time=   7.5s\n",
      "[CV 6/10] END activation=logistic, alpha=0.0001, hidden_layer_sizes=50, max_iter=700, solver=adam;, score=0.903 total time=   6.6s\n",
      "[CV 7/10] END activation=logistic, alpha=0.0001, hidden_layer_sizes=50, max_iter=700, solver=adam;, score=0.900 total time=   7.0s\n",
      "[CV 8/10] END activation=logistic, alpha=0.0001, hidden_layer_sizes=50, max_iter=700, solver=adam;, score=0.899 total time=   8.7s\n",
      "[CV 9/10] END activation=logistic, alpha=0.0001, hidden_layer_sizes=50, max_iter=700, solver=adam;, score=0.906 total time=   8.4s\n",
      "[CV 10/10] END activation=logistic, alpha=0.0001, hidden_layer_sizes=50, max_iter=700, solver=adam;, score=0.902 total time=   6.8s\n",
      "[CV 1/10] END activation=logistic, alpha=0.0001, hidden_layer_sizes=100, max_iter=700, solver=adam;, score=0.905 total time=   8.3s\n",
      "[CV 2/10] END activation=logistic, alpha=0.0001, hidden_layer_sizes=100, max_iter=700, solver=adam;, score=0.904 total time=   5.4s\n",
      "[CV 3/10] END activation=logistic, alpha=0.0001, hidden_layer_sizes=100, max_iter=700, solver=adam;, score=0.904 total time=   9.8s\n",
      "[CV 4/10] END activation=logistic, alpha=0.0001, hidden_layer_sizes=100, max_iter=700, solver=adam;, score=0.906 total time=  20.4s\n",
      "[CV 5/10] END activation=logistic, alpha=0.0001, hidden_layer_sizes=100, max_iter=700, solver=adam;, score=0.906 total time=  24.5s\n",
      "[CV 6/10] END activation=logistic, alpha=0.0001, hidden_layer_sizes=100, max_iter=700, solver=adam;, score=0.901 total time=  46.8s\n",
      "[CV 7/10] END activation=logistic, alpha=0.0001, hidden_layer_sizes=100, max_iter=700, solver=adam;, score=0.903 total time=  28.9s\n",
      "[CV 8/10] END activation=logistic, alpha=0.0001, hidden_layer_sizes=100, max_iter=700, solver=adam;, score=0.899 total time=  32.7s\n",
      "[CV 9/10] END activation=logistic, alpha=0.0001, hidden_layer_sizes=100, max_iter=700, solver=adam;, score=0.900 total time=  27.7s\n",
      "[CV 10/10] END activation=logistic, alpha=0.0001, hidden_layer_sizes=100, max_iter=700, solver=adam;, score=0.905 total time=  31.0s\n",
      "[CV 1/10] END activation=logistic, alpha=0.001, hidden_layer_sizes=10, max_iter=700, solver=adam;, score=0.901 total time=   7.7s\n",
      "[CV 2/10] END activation=logistic, alpha=0.001, hidden_layer_sizes=10, max_iter=700, solver=adam;, score=0.906 total time=   6.1s\n",
      "[CV 3/10] END activation=logistic, alpha=0.001, hidden_layer_sizes=10, max_iter=700, solver=adam;, score=0.901 total time=   4.0s\n",
      "[CV 4/10] END activation=logistic, alpha=0.001, hidden_layer_sizes=10, max_iter=700, solver=adam;, score=0.901 total time=   6.1s\n",
      "[CV 5/10] END activation=logistic, alpha=0.001, hidden_layer_sizes=10, max_iter=700, solver=adam;, score=0.906 total time=  12.9s\n",
      "[CV 6/10] END activation=logistic, alpha=0.001, hidden_layer_sizes=10, max_iter=700, solver=adam;, score=0.901 total time=  13.5s\n",
      "[CV 7/10] END activation=logistic, alpha=0.001, hidden_layer_sizes=10, max_iter=700, solver=adam;, score=0.901 total time=   6.9s\n",
      "[CV 8/10] END activation=logistic, alpha=0.001, hidden_layer_sizes=10, max_iter=700, solver=adam;, score=0.901 total time=   7.5s\n",
      "[CV 9/10] END activation=logistic, alpha=0.001, hidden_layer_sizes=10, max_iter=700, solver=adam;, score=0.904 total time=  17.9s\n",
      "[CV 10/10] END activation=logistic, alpha=0.001, hidden_layer_sizes=10, max_iter=700, solver=adam;, score=0.907 total time=  14.5s\n",
      "[CV 1/10] END activation=logistic, alpha=0.001, hidden_layer_sizes=50, max_iter=700, solver=adam;, score=0.906 total time=  12.6s\n",
      "[CV 2/10] END activation=logistic, alpha=0.001, hidden_layer_sizes=50, max_iter=700, solver=adam;, score=0.905 total time=  15.4s\n",
      "[CV 3/10] END activation=logistic, alpha=0.001, hidden_layer_sizes=50, max_iter=700, solver=adam;, score=0.910 total time=  16.0s\n",
      "[CV 4/10] END activation=logistic, alpha=0.001, hidden_layer_sizes=50, max_iter=700, solver=adam;, score=0.904 total time=   6.1s\n",
      "[CV 5/10] END activation=logistic, alpha=0.001, hidden_layer_sizes=50, max_iter=700, solver=adam;, score=0.910 total time=   5.1s\n",
      "[CV 6/10] END activation=logistic, alpha=0.001, hidden_layer_sizes=50, max_iter=700, solver=adam;, score=0.901 total time=   5.0s\n",
      "[CV 7/10] END activation=logistic, alpha=0.001, hidden_layer_sizes=50, max_iter=700, solver=adam;, score=0.898 total time=   6.1s\n",
      "[CV 8/10] END activation=logistic, alpha=0.001, hidden_layer_sizes=50, max_iter=700, solver=adam;, score=0.902 total time=   3.9s\n",
      "[CV 9/10] END activation=logistic, alpha=0.001, hidden_layer_sizes=50, max_iter=700, solver=adam;, score=0.904 total time=   4.9s\n",
      "[CV 10/10] END activation=logistic, alpha=0.001, hidden_layer_sizes=50, max_iter=700, solver=adam;, score=0.902 total time=   4.1s\n",
      "[CV 1/10] END activation=logistic, alpha=0.001, hidden_layer_sizes=100, max_iter=700, solver=adam;, score=0.907 total time=   7.9s\n",
      "[CV 2/10] END activation=logistic, alpha=0.001, hidden_layer_sizes=100, max_iter=700, solver=adam;, score=0.906 total time=   4.6s\n",
      "[CV 3/10] END activation=logistic, alpha=0.001, hidden_layer_sizes=100, max_iter=700, solver=adam;, score=0.904 total time=   6.7s\n",
      "[CV 4/10] END activation=logistic, alpha=0.001, hidden_layer_sizes=100, max_iter=700, solver=adam;, score=0.905 total time=   8.1s\n",
      "[CV 5/10] END activation=logistic, alpha=0.001, hidden_layer_sizes=100, max_iter=700, solver=adam;, score=0.906 total time=  10.3s\n",
      "[CV 6/10] END activation=logistic, alpha=0.001, hidden_layer_sizes=100, max_iter=700, solver=adam;, score=0.901 total time=   5.0s\n",
      "[CV 7/10] END activation=logistic, alpha=0.001, hidden_layer_sizes=100, max_iter=700, solver=adam;, score=0.903 total time=   5.2s\n",
      "[CV 8/10] END activation=logistic, alpha=0.001, hidden_layer_sizes=100, max_iter=700, solver=adam;, score=0.897 total time=   7.7s\n",
      "[CV 9/10] END activation=logistic, alpha=0.001, hidden_layer_sizes=100, max_iter=700, solver=adam;, score=0.905 total time=   6.8s\n",
      "[CV 10/10] END activation=logistic, alpha=0.001, hidden_layer_sizes=100, max_iter=700, solver=adam;, score=0.908 total time=  10.8s\n",
      "[CV 1/10] END activation=logistic, alpha=0.01, hidden_layer_sizes=10, max_iter=700, solver=adam;, score=0.905 total time=   3.4s\n",
      "[CV 2/10] END activation=logistic, alpha=0.01, hidden_layer_sizes=10, max_iter=700, solver=adam;, score=0.901 total time=   5.0s\n",
      "[CV 3/10] END activation=logistic, alpha=0.01, hidden_layer_sizes=10, max_iter=700, solver=adam;, score=0.906 total time=   4.3s\n",
      "[CV 4/10] END activation=logistic, alpha=0.01, hidden_layer_sizes=10, max_iter=700, solver=adam;, score=0.901 total time=   2.7s\n",
      "[CV 5/10] END activation=logistic, alpha=0.01, hidden_layer_sizes=10, max_iter=700, solver=adam;, score=0.901 total time=   2.8s\n",
      "[CV 6/10] END activation=logistic, alpha=0.01, hidden_layer_sizes=10, max_iter=700, solver=adam;, score=0.901 total time=   3.6s\n",
      "[CV 7/10] END activation=logistic, alpha=0.01, hidden_layer_sizes=10, max_iter=700, solver=adam;, score=0.901 total time=   3.8s\n",
      "[CV 8/10] END activation=logistic, alpha=0.01, hidden_layer_sizes=10, max_iter=700, solver=adam;, score=0.903 total time=   2.7s\n",
      "[CV 9/10] END activation=logistic, alpha=0.01, hidden_layer_sizes=10, max_iter=700, solver=adam;, score=0.901 total time=   3.8s\n",
      "[CV 10/10] END activation=logistic, alpha=0.01, hidden_layer_sizes=10, max_iter=700, solver=adam;, score=0.901 total time=   3.0s\n",
      "[CV 1/10] END activation=logistic, alpha=0.01, hidden_layer_sizes=50, max_iter=700, solver=adam;, score=0.900 total time=   5.8s\n",
      "[CV 2/10] END activation=logistic, alpha=0.01, hidden_layer_sizes=50, max_iter=700, solver=adam;, score=0.901 total time=   4.2s\n",
      "[CV 3/10] END activation=logistic, alpha=0.01, hidden_layer_sizes=50, max_iter=700, solver=adam;, score=0.911 total time=   6.6s\n",
      "[CV 4/10] END activation=logistic, alpha=0.01, hidden_layer_sizes=50, max_iter=700, solver=adam;, score=0.900 total time=   7.7s\n",
      "[CV 5/10] END activation=logistic, alpha=0.01, hidden_layer_sizes=50, max_iter=700, solver=adam;, score=0.908 total time=   6.5s\n",
      "[CV 6/10] END activation=logistic, alpha=0.01, hidden_layer_sizes=50, max_iter=700, solver=adam;, score=0.906 total time=   5.1s\n",
      "[CV 7/10] END activation=logistic, alpha=0.01, hidden_layer_sizes=50, max_iter=700, solver=adam;, score=0.904 total time=   5.6s\n",
      "[CV 8/10] END activation=logistic, alpha=0.01, hidden_layer_sizes=50, max_iter=700, solver=adam;, score=0.900 total time=   4.8s\n",
      "[CV 9/10] END activation=logistic, alpha=0.01, hidden_layer_sizes=50, max_iter=700, solver=adam;, score=0.906 total time=   5.6s\n",
      "[CV 10/10] END activation=logistic, alpha=0.01, hidden_layer_sizes=50, max_iter=700, solver=adam;, score=0.906 total time=   3.9s\n",
      "[CV 1/10] END activation=logistic, alpha=0.01, hidden_layer_sizes=100, max_iter=700, solver=adam;, score=0.906 total time=   6.9s\n",
      "[CV 2/10] END activation=logistic, alpha=0.01, hidden_layer_sizes=100, max_iter=700, solver=adam;, score=0.904 total time=  13.2s\n",
      "[CV 3/10] END activation=logistic, alpha=0.01, hidden_layer_sizes=100, max_iter=700, solver=adam;, score=0.908 total time=   7.9s\n",
      "[CV 4/10] END activation=logistic, alpha=0.01, hidden_layer_sizes=100, max_iter=700, solver=adam;, score=0.901 total time= 2.5min\n",
      "[CV 5/10] END activation=logistic, alpha=0.01, hidden_layer_sizes=100, max_iter=700, solver=adam;, score=0.902 total time=  14.2s\n",
      "[CV 6/10] END activation=logistic, alpha=0.01, hidden_layer_sizes=100, max_iter=700, solver=adam;, score=0.903 total time= 1.4min\n",
      "[CV 7/10] END activation=logistic, alpha=0.01, hidden_layer_sizes=100, max_iter=700, solver=adam;, score=0.899 total time=   7.8s\n",
      "[CV 8/10] END activation=logistic, alpha=0.01, hidden_layer_sizes=100, max_iter=700, solver=adam;, score=0.898 total time= 1.6min\n",
      "[CV 9/10] END activation=logistic, alpha=0.01, hidden_layer_sizes=100, max_iter=700, solver=adam;, score=0.902 total time=  13.7s\n",
      "[CV 10/10] END activation=logistic, alpha=0.01, hidden_layer_sizes=100, max_iter=700, solver=adam;, score=0.908 total time=15.7min\n",
      "Best score: 0.9042451215337213\n",
      "Best parameters: {'activation': 'logistic', 'alpha': 0.01, 'hidden_layer_sizes': 50, 'max_iter': 700, 'solver': 'adam'}\n",
      "Best estimator: MLPClassifier(activation='logistic', alpha=0.01, hidden_layer_sizes=50,\n",
      "              max_iter=700)\n"
     ]
    }
   ],
   "source": [
    "from sklearn.model_selection import GridSearchCV\n",
    "from sklearn.model_selection import StratifiedKFold\n",
    "\n",
    "parameter_grid = {\n",
    "    'solver': ['adam'],\n",
    "    'activation' : ['tanh', 'logistic'],\n",
    "    'alpha': [0.0001, 0.001, 0.01], \n",
    "    'hidden_layer_sizes': [10, 50, 100],\n",
    "    'max_iter' : [700]}\n",
    "\n",
    "\n",
    "\n",
    "\n",
    "grid_search = GridSearchCV(\n",
    "    MLPClassifier(), \n",
    "    param_grid=parameter_grid, \n",
    "    cv=10,\n",
    "    verbose=3)\n",
    "\n",
    "grid_search.fit(all_inputs, all_labels)\n",
    "print('Best score: {}'.format(grid_search.best_score_))\n",
    "print('Best parameters: {}'.format(grid_search.best_params_))\n",
    "print('Best estimator: {}'.format(grid_search.best_estimator_))"
   ]
  },
  {
   "cell_type": "code",
   "execution_count": 12,
   "outputs": [],
   "source": [],
   "metadata": {
    "collapsed": false,
    "ExecuteTime": {
     "end_time": "2023-05-15T09:48:51.986996Z",
     "start_time": "2023-05-15T09:48:51.895865Z"
    }
   }
  }
 ],
 "metadata": {
  "kernelspec": {
   "display_name": "base",
   "language": "python",
   "name": "python3"
  },
  "language_info": {
   "codemirror_mode": {
    "name": "ipython",
    "version": 3
   },
   "file_extension": ".py",
   "mimetype": "text/x-python",
   "name": "python",
   "nbconvert_exporter": "python",
   "pygments_lexer": "ipython3",
   "version": "3.8.3"
  },
  "orig_nbformat": 4
 },
 "nbformat": 4,
 "nbformat_minor": 2
}
