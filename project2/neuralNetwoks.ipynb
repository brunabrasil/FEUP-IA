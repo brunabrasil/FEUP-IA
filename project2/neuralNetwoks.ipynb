{
 "cells": [
  {
   "cell_type": "code",
   "execution_count": 61,
   "metadata": {},
   "outputs": [],
   "source": [
    "import numpy as np\n",
    "import pandas as pd\n",
    "import seaborn as sns\n",
    "import matplotlib.pyplot as plt\n",
    "from sklearn.neural_network import MLPClassifier\n"
   ]
  },
  {
   "cell_type": "code",
   "execution_count": 62,
   "metadata": {},
   "outputs": [
    {
     "data": {
      "text/plain": [
       "customer_age                  float64\n",
       "job_type                       object\n",
       "marital                        object\n",
       "education                      object\n",
       "default                        object\n",
       "balance                       float64\n",
       "housing_loan                   object\n",
       "personal_loan                  object\n",
       "month                          object\n",
       "last_contact_duration         float64\n",
       "num_contacts_in_campaign      float64\n",
       "num_contacts_prev_campaign      int64\n",
       "prev_campaign_outcome          object\n",
       "term_deposit_subscribed         int64\n",
       "mid_month                       int64\n",
       "dtype: object"
      ]
     },
     "execution_count": 62,
     "metadata": {},
     "output_type": "execute_result"
    }
   ],
   "source": [
    "\n",
    "train_data = pd.read_csv('train-clean.csv',delimiter=\",\")\n",
    "# GETTING THE NULL VALUES\n",
    "train_data.dtypes"
   ]
  },
  {
   "cell_type": "code",
   "execution_count": 63,
   "metadata": {},
   "outputs": [],
   "source": [
    "input_names = list(train_data.columns)\n",
    "input_names.remove('term_deposit_subscribed')\n",
    "\n",
    "all_inputs = train_data[input_names].values\n",
    "all_labels = train_data['term_deposit_subscribed'].values"
   ]
  },
  {
   "cell_type": "code",
   "execution_count": 64,
   "metadata": {},
   "outputs": [],
   "source": [
    "from sklearn.preprocessing import StandardScaler, OneHotEncoder\n",
    "\n",
    "\"\"\" categorical_features = ['job_type', 'marital', 'education', 'default', 'housing_loan', 'personal_loan', 'month', 'prev_campaign_outcome']\n",
    "encoder = OneHotEncoder(handle_unknown='ignore')\n",
    "all_inputs_encoded = pd.DataFrame(encoder.fit_transform(all_inputs[categorical_features]).toarray())\n",
    "all_inputs_encoded.columns = encoder.get_feature_names(categorical_features)\n",
    "all_inputs_encoded.index = all_inputs.index\n",
    "all_inputs_encoded = pd.concat([all_inputs.drop(categorical_features, axis=1), all_inputs_encoded], axis=1) \"\"\"\n",
    "\n",
    "all_inputs_df = pd.DataFrame(all_inputs, columns=input_names)\n",
    "categorical_features = ['job_type', 'marital', 'education', 'default', 'housing_loan', 'personal_loan', 'month', 'prev_campaign_outcome']\n",
    "encoder = OneHotEncoder(handle_unknown='ignore')\n",
    "categorical_feature_indices = [all_inputs_df.columns.get_loc(col) for col in categorical_features]\n",
    "all_inputs_encoded = pd.DataFrame(encoder.fit_transform(all_inputs_df.iloc[:, categorical_feature_indices]).toarray())\n",
    "all_inputs_encoded.columns = encoder.get_feature_names(categorical_features)\n",
    "all_inputs_encoded.index = all_inputs_df.index\n",
    "all_inputs_encoded = pd.concat([all_inputs_df.drop(categorical_features, axis=1), all_inputs_encoded], axis=1)\n",
    "\n",
    "\n",
    "\n",
    "\n"
   ]
  },
  {
   "cell_type": "code",
   "execution_count": 65,
   "metadata": {},
   "outputs": [],
   "source": [
    "from sklearn.model_selection import train_test_split\n",
    "\n",
    "(training_inputs,\n",
    " testing_inputs,\n",
    " training_classes,\n",
    " testing_classes) = train_test_split(all_inputs_encoded.values, all_labels, test_size=0.25, random_state=1)\n",
    "# Split the encoded dataset into training and testing sets\n",
    "#(training_inputs, \n",
    "# testing_inputs,\n",
    "# training_classes,\n",
    "# testing_classes) = train_test_split(all_inputs_encoded.values, all_labels.values, test_size=0.25, random_state=1)\n",
    "\n"
   ]
  },
  {
   "cell_type": "code",
   "execution_count": 66,
   "metadata": {},
   "outputs": [
    {
     "data": {
      "text/plain": [
       "array([[-0.69280058, -0.31957411,  0.92288898, ..., -0.18931703,\n",
       "        -0.17624758, -2.22335309],\n",
       "       [ 1.18836903,  0.71799145, -0.52895821, ..., -0.18931703,\n",
       "        -0.17624758,  0.44977112],\n",
       "       [ 1.37648599,  4.29530713,  1.1735336 , ..., -0.18931703,\n",
       "        -0.17624758,  0.44977112],\n",
       "       ...,\n",
       "       [-0.69280058, -0.62702414, -0.44856277, ..., -0.18931703,\n",
       "        -0.17624758, -2.22335309],\n",
       "       [-2.10367779,  0.10121289,  1.14988788, ..., -0.18931703,\n",
       "        -0.17624758, -2.22335309],\n",
       "       [-0.22250818, -0.40097636, -0.24048043, ..., -0.18931703,\n",
       "        -0.17624758,  0.44977112]])"
      ]
     },
     "execution_count": 66,
     "metadata": {},
     "output_type": "execute_result"
    }
   ],
   "source": [
    "from sklearn.preprocessing import StandardScaler  \n",
    "\n",
    "scaler = StandardScaler()\n",
    "scaler.fit(training_inputs)\n",
    "training_inputs = scaler.transform(training_inputs)\n",
    "testing_inputs = scaler.transform(testing_inputs)  \n",
    "\n",
    "#scaler = StandardScaler()\n",
    "#training_inputs[:, :-32] = scaler.fit_transform(training_inputs[:, :-32])\n",
    "#testing_inputs[:, :-32] = scaler.transform(testing_inputs[:, :-32])\n",
    "\n",
    "training_inputs"
   ]
  },
  {
   "cell_type": "code",
   "execution_count": 71,
   "metadata": {},
   "outputs": [
    {
     "data": {
      "text/plain": [
       "0.9034643297275092"
      ]
     },
     "execution_count": 71,
     "metadata": {},
     "output_type": "execute_result"
    }
   ],
   "source": [
    "# Create the classifier\n",
    "clf = MLPClassifier(max_iter=700)\n",
    "\n",
    "# Train the classifier on the training set\n",
    "clf.fit(training_inputs, training_classes)\n",
    "\n",
    "# Validate the classifier on the testing set using classification accuracy\n",
    "clf.score(testing_inputs, testing_classes)"
   ]
  },
  {
   "cell_type": "code",
   "execution_count": 73,
   "metadata": {},
   "outputs": [
    {
     "name": "stdout",
     "output_type": "stream",
     "text": [
      "              precision    recall  f1-score   support\n",
      "\n",
      "           0       0.95      0.95      0.95      6602\n",
      "           1       0.50      0.51      0.50       701\n",
      "\n",
      "    accuracy                           0.90      7303\n",
      "   macro avg       0.72      0.73      0.72      7303\n",
      "weighted avg       0.90      0.90      0.90      7303\n",
      "\n"
     ]
    }
   ],
   "source": [
    "from sklearn.metrics import classification_report, confusion_matrix\n",
    "\n",
    "predictions = clf.predict(testing_inputs)\n",
    "print(classification_report(testing_classes, predictions))"
   ]
  },
  {
   "cell_type": "code",
   "execution_count": 70,
   "metadata": {},
   "outputs": [
    {
     "name": "stdout",
     "output_type": "stream",
     "text": [
      "              precision    recall  f1-score   support\n",
      "\n",
      "           0       0.95      0.95      0.95      6602\n",
      "           1       0.51      0.49      0.49       701\n",
      "\n",
      "    accuracy                           0.90      7303\n",
      "   macro avg       0.73      0.72      0.72      7303\n",
      "weighted avg       0.90      0.90      0.90      7303\n",
      "\n"
     ]
    }
   ],
   "source": [
    "improved_clf = MLPClassifier(activation='logistic', alpha=0.001, hidden_layer_sizes=50, max_iter=700)\n",
    "\n",
    "# Train the classifier on the training set\n",
    "improved_clf.fit(training_inputs, training_classes)\n",
    "new_predictions = improved_clf.predict(testing_inputs)\n",
    "print(classification_report(testing_classes, new_predictions))"
   ]
  },
  {
   "cell_type": "code",
   "execution_count": 75,
   "metadata": {},
   "outputs": [
    {
     "data": {
      "text/plain": [
       "Text(0.5, 1.0, 'Average score: 0.9082163642588155')"
      ]
     },
     "execution_count": 75,
     "metadata": {},
     "output_type": "execute_result"
    },
    {
     "data": {
      "image/png": "[encoded data removed]",
      "text/plain": [
       "<Figure size 432x288 with 1 Axes>"
      ]
     },
     "metadata": {
      "needs_background": "light"
     },
     "output_type": "display_data"
    }
   ],
   "source": [
    "from sklearn.model_selection import cross_val_score\n",
    "\n",
    "cv_scores = cross_val_score(clf, all_inputs_encoded, all_labels, cv=10)\n",
    "plt.hist(cv_scores)\n",
    "plt.title('Average score: {}'.format(np.mean(cv_scores)))"
   ]
  },
  {
   "cell_type": "code",
   "execution_count": 76,
   "metadata": {},
   "outputs": [
    {
     "name": "stdout",
     "output_type": "stream",
     "text": [
      "Fitting 5 folds for each of 18 candidates, totalling 90 fits\n",
      "[CV] activation=tanh, alpha=0.0001, hidden_layer_sizes=10, max_iter=500, solver=adam \n"
     ]
    },
    {
     "name": "stderr",
     "output_type": "stream",
     "text": [
      "[Parallel(n_jobs=1)]: Using backend SequentialBackend with 1 concurrent workers.\n"
     ]
    },
    {
     "name": "stdout",
     "output_type": "stream",
     "text": [
      "[CV]  activation=tanh, alpha=0.0001, hidden_layer_sizes=10, max_iter=500, solver=adam, score=0.901, total=   3.3s\n",
      "[CV] activation=tanh, alpha=0.0001, hidden_layer_sizes=10, max_iter=500, solver=adam \n"
     ]
    },
    {
     "name": "stderr",
     "output_type": "stream",
     "text": [
      "[Parallel(n_jobs=1)]: Done   1 out of   1 | elapsed:    3.3s remaining:    0.0s\n"
     ]
    },
    {
     "name": "stdout",
     "output_type": "stream",
     "text": [
      "[CV]  activation=tanh, alpha=0.0001, hidden_layer_sizes=10, max_iter=500, solver=adam, score=0.908, total=   3.6s\n",
      "[CV] activation=tanh, alpha=0.0001, hidden_layer_sizes=10, max_iter=500, solver=adam \n"
     ]
    },
    {
     "name": "stderr",
     "output_type": "stream",
     "text": [
      "[Parallel(n_jobs=1)]: Done   2 out of   2 | elapsed:    6.9s remaining:    0.0s\n"
     ]
    },
    {
     "name": "stdout",
     "output_type": "stream",
     "text": [
      "[CV]  activation=tanh, alpha=0.0001, hidden_layer_sizes=10, max_iter=500, solver=adam, score=0.898, total=   3.9s\n",
      "[CV] activation=tanh, alpha=0.0001, hidden_layer_sizes=10, max_iter=500, solver=adam \n",
      "[CV]  activation=tanh, alpha=0.0001, hidden_layer_sizes=10, max_iter=500, solver=adam, score=0.901, total=   3.3s\n",
      "[CV] activation=tanh, alpha=0.0001, hidden_layer_sizes=10, max_iter=500, solver=adam \n",
      "[CV]  activation=tanh, alpha=0.0001, hidden_layer_sizes=10, max_iter=500, solver=adam, score=0.900, total=   3.6s\n",
      "[CV] activation=tanh, alpha=0.0001, hidden_layer_sizes=50, max_iter=500, solver=adam \n",
      "[CV]  activation=tanh, alpha=0.0001, hidden_layer_sizes=50, max_iter=500, solver=adam, score=0.893, total=   5.3s\n",
      "[CV] activation=tanh, alpha=0.0001, hidden_layer_sizes=50, max_iter=500, solver=adam \n",
      "[CV]  activation=tanh, alpha=0.0001, hidden_layer_sizes=50, max_iter=500, solver=adam, score=0.907, total=   6.9s\n",
      "[CV] activation=tanh, alpha=0.0001, hidden_layer_sizes=50, max_iter=500, solver=adam \n",
      "[CV]  activation=tanh, alpha=0.0001, hidden_layer_sizes=50, max_iter=500, solver=adam, score=0.907, total=   4.8s\n",
      "[CV] activation=tanh, alpha=0.0001, hidden_layer_sizes=50, max_iter=500, solver=adam \n",
      "[CV]  activation=tanh, alpha=0.0001, hidden_layer_sizes=50, max_iter=500, solver=adam, score=0.904, total=   5.9s\n",
      "[CV] activation=tanh, alpha=0.0001, hidden_layer_sizes=50, max_iter=500, solver=adam \n",
      "[CV]  activation=tanh, alpha=0.0001, hidden_layer_sizes=50, max_iter=500, solver=adam, score=0.911, total=   8.9s\n",
      "[CV] activation=tanh, alpha=0.0001, hidden_layer_sizes=100, max_iter=500, solver=adam \n",
      "[CV]  activation=tanh, alpha=0.0001, hidden_layer_sizes=100, max_iter=500, solver=adam, score=0.910, total=   6.9s\n",
      "[CV] activation=tanh, alpha=0.0001, hidden_layer_sizes=100, max_iter=500, solver=adam \n",
      "[CV]  activation=tanh, alpha=0.0001, hidden_layer_sizes=100, max_iter=500, solver=adam, score=0.908, total=   6.5s\n",
      "[CV] activation=tanh, alpha=0.0001, hidden_layer_sizes=100, max_iter=500, solver=adam \n",
      "[CV]  activation=tanh, alpha=0.0001, hidden_layer_sizes=100, max_iter=500, solver=adam, score=0.909, total=   5.1s\n",
      "[CV] activation=tanh, alpha=0.0001, hidden_layer_sizes=100, max_iter=500, solver=adam \n",
      "[CV]  activation=tanh, alpha=0.0001, hidden_layer_sizes=100, max_iter=500, solver=adam, score=0.912, total=   9.0s\n",
      "[CV] activation=tanh, alpha=0.0001, hidden_layer_sizes=100, max_iter=500, solver=adam \n",
      "[CV]  activation=tanh, alpha=0.0001, hidden_layer_sizes=100, max_iter=500, solver=adam, score=0.904, total=   5.3s\n",
      "[CV] activation=tanh, alpha=0.001, hidden_layer_sizes=10, max_iter=500, solver=adam \n",
      "[CV]  activation=tanh, alpha=0.001, hidden_layer_sizes=10, max_iter=500, solver=adam, score=0.901, total=   3.6s\n",
      "[CV] activation=tanh, alpha=0.001, hidden_layer_sizes=10, max_iter=500, solver=adam \n",
      "[CV]  activation=tanh, alpha=0.001, hidden_layer_sizes=10, max_iter=500, solver=adam, score=0.904, total=   6.2s\n",
      "[CV] activation=tanh, alpha=0.001, hidden_layer_sizes=10, max_iter=500, solver=adam \n",
      "[CV]  activation=tanh, alpha=0.001, hidden_layer_sizes=10, max_iter=500, solver=adam, score=0.894, total=   6.8s\n",
      "[CV] activation=tanh, alpha=0.001, hidden_layer_sizes=10, max_iter=500, solver=adam \n",
      "[CV]  activation=tanh, alpha=0.001, hidden_layer_sizes=10, max_iter=500, solver=adam, score=0.900, total=   4.6s\n",
      "[CV] activation=tanh, alpha=0.001, hidden_layer_sizes=10, max_iter=500, solver=adam \n",
      "[CV]  activation=tanh, alpha=0.001, hidden_layer_sizes=10, max_iter=500, solver=adam, score=0.902, total=   4.7s\n",
      "[CV] activation=tanh, alpha=0.001, hidden_layer_sizes=50, max_iter=500, solver=adam \n",
      "[CV]  activation=tanh, alpha=0.001, hidden_layer_sizes=50, max_iter=500, solver=adam, score=0.904, total=   4.3s\n",
      "[CV] activation=tanh, alpha=0.001, hidden_layer_sizes=50, max_iter=500, solver=adam \n",
      "[CV]  activation=tanh, alpha=0.001, hidden_layer_sizes=50, max_iter=500, solver=adam, score=0.910, total=   5.8s\n",
      "[CV] activation=tanh, alpha=0.001, hidden_layer_sizes=50, max_iter=500, solver=adam \n",
      "[CV]  activation=tanh, alpha=0.001, hidden_layer_sizes=50, max_iter=500, solver=adam, score=0.909, total=   4.7s\n",
      "[CV] activation=tanh, alpha=0.001, hidden_layer_sizes=50, max_iter=500, solver=adam \n",
      "[CV]  activation=tanh, alpha=0.001, hidden_layer_sizes=50, max_iter=500, solver=adam, score=0.912, total=   7.5s\n",
      "[CV] activation=tanh, alpha=0.001, hidden_layer_sizes=50, max_iter=500, solver=adam \n",
      "[CV]  activation=tanh, alpha=0.001, hidden_layer_sizes=50, max_iter=500, solver=adam, score=0.903, total=   5.3s\n",
      "[CV] activation=tanh, alpha=0.001, hidden_layer_sizes=100, max_iter=500, solver=adam \n",
      "[CV]  activation=tanh, alpha=0.001, hidden_layer_sizes=100, max_iter=500, solver=adam, score=0.915, total=  10.6s\n",
      "[CV] activation=tanh, alpha=0.001, hidden_layer_sizes=100, max_iter=500, solver=adam \n",
      "[CV]  activation=tanh, alpha=0.001, hidden_layer_sizes=100, max_iter=500, solver=adam, score=0.912, total=   5.1s\n",
      "[CV] activation=tanh, alpha=0.001, hidden_layer_sizes=100, max_iter=500, solver=adam \n",
      "[CV]  activation=tanh, alpha=0.001, hidden_layer_sizes=100, max_iter=500, solver=adam, score=0.907, total=   7.0s\n",
      "[CV] activation=tanh, alpha=0.001, hidden_layer_sizes=100, max_iter=500, solver=adam \n",
      "[CV]  activation=tanh, alpha=0.001, hidden_layer_sizes=100, max_iter=500, solver=adam, score=0.902, total=  12.3s\n",
      "[CV] activation=tanh, alpha=0.001, hidden_layer_sizes=100, max_iter=500, solver=adam \n"
     ]
    },
    {
     "name": "stderr",
     "output_type": "stream",
     "text": [
      "/Users/sofiagoncalves/opt/anaconda3/lib/python3.8/site-packages/sklearn/neural_network/_multilayer_perceptron.py:587: UserWarning: Training interrupted by user.\n",
      "  warnings.warn(\"Training interrupted by user.\")\n"
     ]
    },
    {
     "name": "stdout",
     "output_type": "stream",
     "text": [
      "[CV]  activation=tanh, alpha=0.001, hidden_layer_sizes=100, max_iter=500, solver=adam, score=0.905, total=   8.5s\n",
      "[CV] activation=tanh, alpha=0.01, hidden_layer_sizes=10, max_iter=500, solver=adam \n",
      "[CV]  activation=tanh, alpha=0.01, hidden_layer_sizes=10, max_iter=500, solver=adam, score=0.901, total=   7.7s\n",
      "[CV] activation=tanh, alpha=0.01, hidden_layer_sizes=10, max_iter=500, solver=adam \n",
      "[CV]  activation=tanh, alpha=0.01, hidden_layer_sizes=10, max_iter=500, solver=adam, score=0.901, total=   6.3s\n",
      "[CV] activation=tanh, alpha=0.01, hidden_layer_sizes=10, max_iter=500, solver=adam \n",
      "[CV]  activation=tanh, alpha=0.01, hidden_layer_sizes=10, max_iter=500, solver=adam, score=0.901, total=   7.2s\n",
      "[CV] activation=tanh, alpha=0.01, hidden_layer_sizes=10, max_iter=500, solver=adam \n",
      "[CV]  activation=tanh, alpha=0.01, hidden_layer_sizes=10, max_iter=500, solver=adam, score=0.880, total=   6.6s\n",
      "[CV] activation=tanh, alpha=0.01, hidden_layer_sizes=10, max_iter=500, solver=adam \n",
      "[CV]  activation=tanh, alpha=0.01, hidden_layer_sizes=10, max_iter=500, solver=adam, score=0.900, total=   5.5s\n",
      "[CV] activation=tanh, alpha=0.01, hidden_layer_sizes=50, max_iter=500, solver=adam \n",
      "[CV]  activation=tanh, alpha=0.01, hidden_layer_sizes=50, max_iter=500, solver=adam, score=0.901, total=   7.4s\n",
      "[CV] activation=tanh, alpha=0.01, hidden_layer_sizes=50, max_iter=500, solver=adam \n",
      "[CV]  activation=tanh, alpha=0.01, hidden_layer_sizes=50, max_iter=500, solver=adam, score=0.903, total=   6.4s\n",
      "[CV] activation=tanh, alpha=0.01, hidden_layer_sizes=50, max_iter=500, solver=adam \n",
      "[CV]  activation=tanh, alpha=0.01, hidden_layer_sizes=50, max_iter=500, solver=adam, score=0.908, total=   6.8s\n",
      "[CV] activation=tanh, alpha=0.01, hidden_layer_sizes=50, max_iter=500, solver=adam \n",
      "[CV]  activation=tanh, alpha=0.01, hidden_layer_sizes=50, max_iter=500, solver=adam, score=0.900, total=   8.2s\n",
      "[CV] activation=tanh, alpha=0.01, hidden_layer_sizes=50, max_iter=500, solver=adam \n",
      "[CV]  activation=tanh, alpha=0.01, hidden_layer_sizes=50, max_iter=500, solver=adam, score=0.909, total=   4.2s\n",
      "[CV] activation=tanh, alpha=0.01, hidden_layer_sizes=100, max_iter=500, solver=adam \n",
      "[CV]  activation=tanh, alpha=0.01, hidden_layer_sizes=100, max_iter=500, solver=adam, score=0.911, total=   5.4s\n",
      "[CV] activation=tanh, alpha=0.01, hidden_layer_sizes=100, max_iter=500, solver=adam \n",
      "[CV]  activation=tanh, alpha=0.01, hidden_layer_sizes=100, max_iter=500, solver=adam, score=0.910, total=   6.5s\n",
      "[CV] activation=tanh, alpha=0.01, hidden_layer_sizes=100, max_iter=500, solver=adam \n",
      "[CV]  activation=tanh, alpha=0.01, hidden_layer_sizes=100, max_iter=500, solver=adam, score=0.908, total=   6.2s\n",
      "[CV] activation=tanh, alpha=0.01, hidden_layer_sizes=100, max_iter=500, solver=adam \n",
      "[CV]  activation=tanh, alpha=0.01, hidden_layer_sizes=100, max_iter=500, solver=adam, score=0.910, total=   6.4s\n",
      "[CV] activation=tanh, alpha=0.01, hidden_layer_sizes=100, max_iter=500, solver=adam \n",
      "[CV]  activation=tanh, alpha=0.01, hidden_layer_sizes=100, max_iter=500, solver=adam, score=0.907, total=   7.3s\n",
      "[CV] activation=logistic, alpha=0.0001, hidden_layer_sizes=10, max_iter=500, solver=adam \n",
      "[CV]  activation=logistic, alpha=0.0001, hidden_layer_sizes=10, max_iter=500, solver=adam, score=0.913, total=   4.8s\n",
      "[CV] activation=logistic, alpha=0.0001, hidden_layer_sizes=10, max_iter=500, solver=adam \n",
      "[CV]  activation=logistic, alpha=0.0001, hidden_layer_sizes=10, max_iter=500, solver=adam, score=0.914, total=   4.9s\n",
      "[CV] activation=logistic, alpha=0.0001, hidden_layer_sizes=10, max_iter=500, solver=adam \n",
      "[CV]  activation=logistic, alpha=0.0001, hidden_layer_sizes=10, max_iter=500, solver=adam, score=0.915, total=   8.6s\n",
      "[CV] activation=logistic, alpha=0.0001, hidden_layer_sizes=10, max_iter=500, solver=adam \n",
      "[CV]  activation=logistic, alpha=0.0001, hidden_layer_sizes=10, max_iter=500, solver=adam, score=0.915, total=   5.8s\n",
      "[CV] activation=logistic, alpha=0.0001, hidden_layer_sizes=10, max_iter=500, solver=adam \n",
      "[CV]  activation=logistic, alpha=0.0001, hidden_layer_sizes=10, max_iter=500, solver=adam, score=0.915, total=   4.8s\n",
      "[CV] activation=logistic, alpha=0.0001, hidden_layer_sizes=50, max_iter=500, solver=adam \n",
      "[CV]  activation=logistic, alpha=0.0001, hidden_layer_sizes=50, max_iter=500, solver=adam, score=0.912, total=   4.3s\n",
      "[CV] activation=logistic, alpha=0.0001, hidden_layer_sizes=50, max_iter=500, solver=adam \n",
      "[CV]  activation=logistic, alpha=0.0001, hidden_layer_sizes=50, max_iter=500, solver=adam, score=0.918, total=   4.6s\n",
      "[CV] activation=logistic, alpha=0.0001, hidden_layer_sizes=50, max_iter=500, solver=adam \n",
      "[CV]  activation=logistic, alpha=0.0001, hidden_layer_sizes=50, max_iter=500, solver=adam, score=0.916, total=   3.9s\n",
      "[CV] activation=logistic, alpha=0.0001, hidden_layer_sizes=50, max_iter=500, solver=adam \n",
      "[CV]  activation=logistic, alpha=0.0001, hidden_layer_sizes=50, max_iter=500, solver=adam, score=0.915, total=   4.1s\n",
      "[CV] activation=logistic, alpha=0.0001, hidden_layer_sizes=50, max_iter=500, solver=adam \n",
      "[CV]  activation=logistic, alpha=0.0001, hidden_layer_sizes=50, max_iter=500, solver=adam, score=0.911, total=   4.5s\n",
      "[CV] activation=logistic, alpha=0.0001, hidden_layer_sizes=100, max_iter=500, solver=adam \n",
      "[CV]  activation=logistic, alpha=0.0001, hidden_layer_sizes=100, max_iter=500, solver=adam, score=0.918, total=   7.5s\n",
      "[CV] activation=logistic, alpha=0.0001, hidden_layer_sizes=100, max_iter=500, solver=adam \n",
      "[CV]  activation=logistic, alpha=0.0001, hidden_layer_sizes=100, max_iter=500, solver=adam, score=0.915, total=   8.0s\n",
      "[CV] activation=logistic, alpha=0.0001, hidden_layer_sizes=100, max_iter=500, solver=adam \n",
      "[CV]  activation=logistic, alpha=0.0001, hidden_layer_sizes=100, max_iter=500, solver=adam, score=0.911, total=   8.0s\n",
      "[CV] activation=logistic, alpha=0.0001, hidden_layer_sizes=100, max_iter=500, solver=adam \n",
      "[CV]  activation=logistic, alpha=0.0001, hidden_layer_sizes=100, max_iter=500, solver=adam, score=0.911, total=   6.9s\n",
      "[CV] activation=logistic, alpha=0.0001, hidden_layer_sizes=100, max_iter=500, solver=adam \n",
      "[CV]  activation=logistic, alpha=0.0001, hidden_layer_sizes=100, max_iter=500, solver=adam, score=0.912, total=   5.9s\n",
      "[CV] activation=logistic, alpha=0.001, hidden_layer_sizes=10, max_iter=500, solver=adam \n",
      "[CV]  activation=logistic, alpha=0.001, hidden_layer_sizes=10, max_iter=500, solver=adam, score=0.915, total=   3.6s\n",
      "[CV] activation=logistic, alpha=0.001, hidden_layer_sizes=10, max_iter=500, solver=adam \n",
      "[CV]  activation=logistic, alpha=0.001, hidden_layer_sizes=10, max_iter=500, solver=adam, score=0.919, total=   3.6s\n",
      "[CV] activation=logistic, alpha=0.001, hidden_layer_sizes=10, max_iter=500, solver=adam \n",
      "[CV]  activation=logistic, alpha=0.001, hidden_layer_sizes=10, max_iter=500, solver=adam, score=0.913, total=   5.2s\n",
      "[CV] activation=logistic, alpha=0.001, hidden_layer_sizes=10, max_iter=500, solver=adam \n",
      "[CV]  activation=logistic, alpha=0.001, hidden_layer_sizes=10, max_iter=500, solver=adam, score=0.901, total=   1.5s\n",
      "[CV] activation=logistic, alpha=0.001, hidden_layer_sizes=10, max_iter=500, solver=adam \n",
      "[CV]  activation=logistic, alpha=0.001, hidden_layer_sizes=10, max_iter=500, solver=adam, score=0.912, total=   3.1s\n",
      "[CV] activation=logistic, alpha=0.001, hidden_layer_sizes=50, max_iter=500, solver=adam \n",
      "[CV]  activation=logistic, alpha=0.001, hidden_layer_sizes=50, max_iter=500, solver=adam, score=0.908, total=   6.6s\n",
      "[CV] activation=logistic, alpha=0.001, hidden_layer_sizes=50, max_iter=500, solver=adam \n",
      "[CV]  activation=logistic, alpha=0.001, hidden_layer_sizes=50, max_iter=500, solver=adam, score=0.914, total=   4.7s\n",
      "[CV] activation=logistic, alpha=0.001, hidden_layer_sizes=50, max_iter=500, solver=adam \n",
      "[CV]  activation=logistic, alpha=0.001, hidden_layer_sizes=50, max_iter=500, solver=adam, score=0.912, total=   4.9s\n",
      "[CV] activation=logistic, alpha=0.001, hidden_layer_sizes=50, max_iter=500, solver=adam \n",
      "[CV]  activation=logistic, alpha=0.001, hidden_layer_sizes=50, max_iter=500, solver=adam, score=0.913, total=   5.0s\n",
      "[CV] activation=logistic, alpha=0.001, hidden_layer_sizes=50, max_iter=500, solver=adam \n",
      "[CV]  activation=logistic, alpha=0.001, hidden_layer_sizes=50, max_iter=500, solver=adam, score=0.910, total=   4.7s\n",
      "[CV] activation=logistic, alpha=0.001, hidden_layer_sizes=100, max_iter=500, solver=adam \n",
      "[CV]  activation=logistic, alpha=0.001, hidden_layer_sizes=100, max_iter=500, solver=adam, score=0.915, total=   7.5s\n",
      "[CV] activation=logistic, alpha=0.001, hidden_layer_sizes=100, max_iter=500, solver=adam \n",
      "[CV]  activation=logistic, alpha=0.001, hidden_layer_sizes=100, max_iter=500, solver=adam, score=0.919, total=   6.3s\n",
      "[CV] activation=logistic, alpha=0.001, hidden_layer_sizes=100, max_iter=500, solver=adam \n",
      "[CV]  activation=logistic, alpha=0.001, hidden_layer_sizes=100, max_iter=500, solver=adam, score=0.912, total=   5.0s\n",
      "[CV] activation=logistic, alpha=0.001, hidden_layer_sizes=100, max_iter=500, solver=adam \n",
      "[CV]  activation=logistic, alpha=0.001, hidden_layer_sizes=100, max_iter=500, solver=adam, score=0.910, total=   7.3s\n",
      "[CV] activation=logistic, alpha=0.001, hidden_layer_sizes=100, max_iter=500, solver=adam \n",
      "[CV]  activation=logistic, alpha=0.001, hidden_layer_sizes=100, max_iter=500, solver=adam, score=0.913, total=  11.7s\n",
      "[CV] activation=logistic, alpha=0.01, hidden_layer_sizes=10, max_iter=500, solver=adam \n",
      "[CV]  activation=logistic, alpha=0.01, hidden_layer_sizes=10, max_iter=500, solver=adam, score=0.911, total=   3.7s\n",
      "[CV] activation=logistic, alpha=0.01, hidden_layer_sizes=10, max_iter=500, solver=adam \n",
      "[CV]  activation=logistic, alpha=0.01, hidden_layer_sizes=10, max_iter=500, solver=adam, score=0.911, total=   4.1s\n",
      "[CV] activation=logistic, alpha=0.01, hidden_layer_sizes=10, max_iter=500, solver=adam \n",
      "[CV]  activation=logistic, alpha=0.01, hidden_layer_sizes=10, max_iter=500, solver=adam, score=0.910, total=   4.1s\n",
      "[CV] activation=logistic, alpha=0.01, hidden_layer_sizes=10, max_iter=500, solver=adam \n",
      "[CV]  activation=logistic, alpha=0.01, hidden_layer_sizes=10, max_iter=500, solver=adam, score=0.912, total=   5.6s\n",
      "[CV] activation=logistic, alpha=0.01, hidden_layer_sizes=10, max_iter=500, solver=adam \n",
      "[CV]  activation=logistic, alpha=0.01, hidden_layer_sizes=10, max_iter=500, solver=adam, score=0.901, total=   3.6s\n",
      "[CV] activation=logistic, alpha=0.01, hidden_layer_sizes=50, max_iter=500, solver=adam \n",
      "[CV]  activation=logistic, alpha=0.01, hidden_layer_sizes=50, max_iter=500, solver=adam, score=0.912, total=   3.9s\n",
      "[CV] activation=logistic, alpha=0.01, hidden_layer_sizes=50, max_iter=500, solver=adam \n",
      "[CV]  activation=logistic, alpha=0.01, hidden_layer_sizes=50, max_iter=500, solver=adam, score=0.912, total=   3.6s\n",
      "[CV] activation=logistic, alpha=0.01, hidden_layer_sizes=50, max_iter=500, solver=adam \n",
      "[CV]  activation=logistic, alpha=0.01, hidden_layer_sizes=50, max_iter=500, solver=adam, score=0.910, total=   4.8s\n",
      "[CV] activation=logistic, alpha=0.01, hidden_layer_sizes=50, max_iter=500, solver=adam \n",
      "[CV]  activation=logistic, alpha=0.01, hidden_layer_sizes=50, max_iter=500, solver=adam, score=0.911, total=   5.5s\n",
      "[CV] activation=logistic, alpha=0.01, hidden_layer_sizes=50, max_iter=500, solver=adam \n",
      "[CV]  activation=logistic, alpha=0.01, hidden_layer_sizes=50, max_iter=500, solver=adam, score=0.911, total=   3.4s\n",
      "[CV] activation=logistic, alpha=0.01, hidden_layer_sizes=100, max_iter=500, solver=adam \n",
      "[CV]  activation=logistic, alpha=0.01, hidden_layer_sizes=100, max_iter=500, solver=adam, score=0.915, total=   3.7s\n",
      "[CV] activation=logistic, alpha=0.01, hidden_layer_sizes=100, max_iter=500, solver=adam \n",
      "[CV]  activation=logistic, alpha=0.01, hidden_layer_sizes=100, max_iter=500, solver=adam, score=0.919, total=   5.5s\n",
      "[CV] activation=logistic, alpha=0.01, hidden_layer_sizes=100, max_iter=500, solver=adam \n",
      "[CV]  activation=logistic, alpha=0.01, hidden_layer_sizes=100, max_iter=500, solver=adam, score=0.912, total=   6.1s\n",
      "[CV] activation=logistic, alpha=0.01, hidden_layer_sizes=100, max_iter=500, solver=adam \n",
      "[CV]  activation=logistic, alpha=0.01, hidden_layer_sizes=100, max_iter=500, solver=adam, score=0.913, total=   4.8s\n",
      "[CV] activation=logistic, alpha=0.01, hidden_layer_sizes=100, max_iter=500, solver=adam \n",
      "[CV]  activation=logistic, alpha=0.01, hidden_layer_sizes=100, max_iter=500, solver=adam, score=0.910, total=   4.0s\n"
     ]
    },
    {
     "name": "stderr",
     "output_type": "stream",
     "text": [
      "[Parallel(n_jobs=1)]: Done  90 out of  90 | elapsed:  8.5min finished\n"
     ]
    },
    {
     "name": "stdout",
     "output_type": "stream",
     "text": [
      "Best score: 0.9142759328996919\n",
      "Best parameters: {'activation': 'logistic', 'alpha': 0.0001, 'hidden_layer_sizes': 50, 'max_iter': 500, 'solver': 'adam'}\n",
      "Best estimator: MLPClassifier(activation='logistic', hidden_layer_sizes=50, max_iter=500)\n"
     ]
    }
   ],
   "source": [
    "from sklearn.model_selection import GridSearchCV\n",
    "from sklearn.model_selection import StratifiedKFold\n",
    "\n",
    "parameter_grid = {\n",
    "    'solver': ['adam'],\n",
    "    'activation' : ['tanh', 'logistic'],\n",
    "    'alpha': [0.0001, 0.001, 0.01], \n",
    "    'hidden_layer_sizes': [10, 50, 100],\n",
    "    'max_iter' : [700]}\n",
    "\n",
    "\n",
    "cross_validation = StratifiedKFold(n_splits=5)\n",
    "\n",
    "grid_search = GridSearchCV(\n",
    "    MLPClassifier(), \n",
    "    param_grid=parameter_grid, \n",
    "    cv=cross_validation,\n",
    "    verbose=3)\n",
    "\n",
    "grid_search.fit(all_inputs_encoded, all_labels)\n",
    "print('Best score: {}'.format(grid_search.best_score_))\n",
    "print('Best parameters: {}'.format(grid_search.best_params_))\n",
    "print('Best estimator: {}'.format(grid_search.best_estimator_))"
   ]
  }
 ],
 "metadata": {
  "kernelspec": {
   "display_name": "base",
   "language": "python",
   "name": "python3"
  },
  "language_info": {
   "codemirror_mode": {
    "name": "ipython",
    "version": 3
   },
   "file_extension": ".py",
   "mimetype": "text/x-python",
   "name": "python",
   "nbconvert_exporter": "python",
   "pygments_lexer": "ipython3",
   "version": "3.8.3"
  },
  "orig_nbformat": 4
 },
 "nbformat": 4,
 "nbformat_minor": 2
}
