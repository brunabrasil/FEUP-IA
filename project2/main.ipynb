{
 "cells": [
  {
   "cell_type": "code",
   "execution_count": 2,
   "outputs": [
    {
     "data": {
      "text/plain": "\"\\nAbout this file\\nAttribute Information:\\nInput variables (Feature):\\n\\nNumeric:\\n\\n1-Id\\n2-Age\\n3-Balance: The bank balance of the customer.\\n4-Day_of_Month: The day of the month on which communication took place\\n5-Duration: States the duration of the call (in sec) regarding the campaign. This is an important\\nfeature as this attribute highly affects the target label (e.g., if duration=0 then y='no'). Thus, this input will be included for benchmark purposes and will be discarded if the intention is to have a realistic predictive model.\\n6-Num_contacts_in_campaign: Number of contacts performed during the campaign with the client for subscription\\n7-Days_since_prev_campaign_contact: Gap (in number of days) between two contacts\\n8-Num_contacts_prev_campaign: Number of contacts performed for promoting the campaign beforehand\\n\\nCategorical:\\n9-Job_type\\n10-Marital: States the marital status of the customer\\n11-Education\\n12-Default: Is the customer a defaulter or not?\\n{'yes', 'no', 'unknown'}\\n13-Housing_loan: Has a housing loan or not?\\n14-Personal_loan: Has a personal loan or not?\\n15-Communication_type: Mode of communication during the campaign\\n16-Month: Month in which contact with the customer took place for the campaign\\n17-Prev_campaign_outcome: The outcome of promotional contact with the client beforehand for attending/interest in the campaign\\n\\nOutput variable (Label):\\n18-Term_deposit_subscribed: Categorical target label to be predicted {'0, '1'}\\n\""
     },
     "execution_count": 2,
     "metadata": {},
     "output_type": "execute_result"
    }
   ],
   "source": [
    "import numpy as np\n",
    "import pandas as pd\n",
    "import seaborn as sns\n",
    "import matplotlib.pyplot as plt\n",
    "\"\"\"\n",
    "About this file\n",
    "Attribute Information:\n",
    "Input variables (Feature):\n",
    "\n",
    "Numeric:\n",
    "\n",
    "1-Id\n",
    "2-Age\n",
    "3-Balance: The bank balance of the customer.\n",
    "4-Day_of_Month: The day of the month on which communication took place\n",
    "5-Duration: States the duration of the call (in sec) regarding the campaign. This is an important\n",
    "feature as this attribute highly affects the target label (e.g., if duration=0 then y='no'). Thus, this input will be included for benchmark purposes and will be discarded if the intention is to have a realistic predictive model.\n",
    "6-Num_contacts_in_campaign: Number of contacts performed during the campaign with the client for subscription\n",
    "7-Days_since_prev_campaign_contact: Gap (in number of days) between two contacts\n",
    "8-Num_contacts_prev_campaign: Number of contacts performed for promoting the campaign beforehand\n",
    "\n",
    "Categorical:\n",
    "9-Job_type\n",
    "10-Marital: States the marital status of the customer\n",
    "11-Education\n",
    "12-Default: Is the customer a defaulter or not?\n",
    "{'yes', 'no', 'unknown'}\n",
    "13-Housing_loan: Has a housing loan or not?\n",
    "14-Personal_loan: Has a personal loan or not?\n",
    "15-Communication_type: Mode of communication during the campaign\n",
    "16-Month: Month in which contact with the customer took place for the campaign\n",
    "17-Prev_campaign_outcome: The outcome of promotional contact with the client beforehand for attending/interest in the campaign\n",
    "\n",
    "Output variable (Label):\n",
    "18-Term_deposit_subscribed: Categorical target label to be predicted {'0, '1'}\n",
    "\"\"\""
   ],
   "metadata": {
    "collapsed": false,
    "ExecuteTime": {
     "end_time": "2023-05-11T15:21:20.992112Z",
     "start_time": "2023-05-11T15:21:20.533313Z"
    }
   }
  },
  {
   "cell_type": "code",
   "execution_count": 3,
   "metadata": {
    "ExecuteTime": {
     "end_time": "2023-05-11T15:21:21.064651Z",
     "start_time": "2023-05-11T15:21:20.553020Z"
    }
   },
   "outputs": [
    {
     "ename": "ImportError",
     "evalue": "Missing optional dependency 'openpyxl'.  Use pip or conda to install openpyxl.",
     "output_type": "error",
     "traceback": [
      "\u001B[0;31m---------------------------------------------------------------------------\u001B[0m",
      "\u001B[0;31mModuleNotFoundError\u001B[0m                       Traceback (most recent call last)",
      "File \u001B[0;32m~/Desktop/Projeto 1 IA/venv/lib/python3.8/site-packages/pandas/compat/_optional.py:142\u001B[0m, in \u001B[0;36mimport_optional_dependency\u001B[0;34m(name, extra, errors, min_version)\u001B[0m\n\u001B[1;32m    141\u001B[0m \u001B[38;5;28;01mtry\u001B[39;00m:\n\u001B[0;32m--> 142\u001B[0m     module \u001B[38;5;241m=\u001B[39m \u001B[43mimportlib\u001B[49m\u001B[38;5;241;43m.\u001B[39;49m\u001B[43mimport_module\u001B[49m\u001B[43m(\u001B[49m\u001B[43mname\u001B[49m\u001B[43m)\u001B[49m\n\u001B[1;32m    143\u001B[0m \u001B[38;5;28;01mexcept\u001B[39;00m \u001B[38;5;167;01mImportError\u001B[39;00m:\n",
      "File \u001B[0;32m/Applications/Xcode.app/Contents/Developer/Library/Frameworks/Python3.framework/Versions/3.8/lib/python3.8/importlib/__init__.py:127\u001B[0m, in \u001B[0;36mimport_module\u001B[0;34m(name, package)\u001B[0m\n\u001B[1;32m    126\u001B[0m         level \u001B[38;5;241m+\u001B[39m\u001B[38;5;241m=\u001B[39m \u001B[38;5;241m1\u001B[39m\n\u001B[0;32m--> 127\u001B[0m \u001B[38;5;28;01mreturn\u001B[39;00m \u001B[43m_bootstrap\u001B[49m\u001B[38;5;241;43m.\u001B[39;49m\u001B[43m_gcd_import\u001B[49m\u001B[43m(\u001B[49m\u001B[43mname\u001B[49m\u001B[43m[\u001B[49m\u001B[43mlevel\u001B[49m\u001B[43m:\u001B[49m\u001B[43m]\u001B[49m\u001B[43m,\u001B[49m\u001B[43m \u001B[49m\u001B[43mpackage\u001B[49m\u001B[43m,\u001B[49m\u001B[43m \u001B[49m\u001B[43mlevel\u001B[49m\u001B[43m)\u001B[49m\n",
      "File \u001B[0;32m<frozen importlib._bootstrap>:1014\u001B[0m, in \u001B[0;36m_gcd_import\u001B[0;34m(name, package, level)\u001B[0m\n",
      "File \u001B[0;32m<frozen importlib._bootstrap>:991\u001B[0m, in \u001B[0;36m_find_and_load\u001B[0;34m(name, import_)\u001B[0m\n",
      "File \u001B[0;32m<frozen importlib._bootstrap>:973\u001B[0m, in \u001B[0;36m_find_and_load_unlocked\u001B[0;34m(name, import_)\u001B[0m\n",
      "\u001B[0;31mModuleNotFoundError\u001B[0m: No module named 'openpyxl'",
      "\nDuring handling of the above exception, another exception occurred:\n",
      "\u001B[0;31mImportError\u001B[0m                               Traceback (most recent call last)",
      "Cell \u001B[0;32mIn[3], line 2\u001B[0m\n\u001B[1;32m      1\u001B[0m path1 \u001B[38;5;241m=\u001B[39m \u001B[38;5;124m'\u001B[39m\u001B[38;5;124mTrain.xlsx\u001B[39m\u001B[38;5;124m'\u001B[39m\n\u001B[0;32m----> 2\u001B[0m train_data \u001B[38;5;241m=\u001B[39m \u001B[43mpd\u001B[49m\u001B[38;5;241;43m.\u001B[39;49m\u001B[43mread_excel\u001B[49m\u001B[43m(\u001B[49m\u001B[43mpath1\u001B[49m\u001B[43m)\u001B[49m\n\u001B[1;32m      3\u001B[0m train_data\u001B[38;5;241m.\u001B[39minfo()\n",
      "File \u001B[0;32m~/Desktop/Projeto 1 IA/venv/lib/python3.8/site-packages/pandas/io/excel/_base.py:478\u001B[0m, in \u001B[0;36mread_excel\u001B[0;34m(io, sheet_name, header, names, index_col, usecols, dtype, engine, converters, true_values, false_values, skiprows, nrows, na_values, keep_default_na, na_filter, verbose, parse_dates, date_parser, date_format, thousands, decimal, comment, skipfooter, storage_options, dtype_backend)\u001B[0m\n\u001B[1;32m    476\u001B[0m \u001B[38;5;28;01mif\u001B[39;00m \u001B[38;5;129;01mnot\u001B[39;00m \u001B[38;5;28misinstance\u001B[39m(io, ExcelFile):\n\u001B[1;32m    477\u001B[0m     should_close \u001B[38;5;241m=\u001B[39m \u001B[38;5;28;01mTrue\u001B[39;00m\n\u001B[0;32m--> 478\u001B[0m     io \u001B[38;5;241m=\u001B[39m \u001B[43mExcelFile\u001B[49m\u001B[43m(\u001B[49m\u001B[43mio\u001B[49m\u001B[43m,\u001B[49m\u001B[43m \u001B[49m\u001B[43mstorage_options\u001B[49m\u001B[38;5;241;43m=\u001B[39;49m\u001B[43mstorage_options\u001B[49m\u001B[43m,\u001B[49m\u001B[43m \u001B[49m\u001B[43mengine\u001B[49m\u001B[38;5;241;43m=\u001B[39;49m\u001B[43mengine\u001B[49m\u001B[43m)\u001B[49m\n\u001B[1;32m    479\u001B[0m \u001B[38;5;28;01melif\u001B[39;00m engine \u001B[38;5;129;01mand\u001B[39;00m engine \u001B[38;5;241m!=\u001B[39m io\u001B[38;5;241m.\u001B[39mengine:\n\u001B[1;32m    480\u001B[0m     \u001B[38;5;28;01mraise\u001B[39;00m \u001B[38;5;167;01mValueError\u001B[39;00m(\n\u001B[1;32m    481\u001B[0m         \u001B[38;5;124m\"\u001B[39m\u001B[38;5;124mEngine should not be specified when passing \u001B[39m\u001B[38;5;124m\"\u001B[39m\n\u001B[1;32m    482\u001B[0m         \u001B[38;5;124m\"\u001B[39m\u001B[38;5;124man ExcelFile - ExcelFile already has the engine set\u001B[39m\u001B[38;5;124m\"\u001B[39m\n\u001B[1;32m    483\u001B[0m     )\n",
      "File \u001B[0;32m~/Desktop/Projeto 1 IA/venv/lib/python3.8/site-packages/pandas/io/excel/_base.py:1513\u001B[0m, in \u001B[0;36mExcelFile.__init__\u001B[0;34m(self, path_or_buffer, engine, storage_options)\u001B[0m\n\u001B[1;32m   1510\u001B[0m \u001B[38;5;28mself\u001B[39m\u001B[38;5;241m.\u001B[39mengine \u001B[38;5;241m=\u001B[39m engine\n\u001B[1;32m   1511\u001B[0m \u001B[38;5;28mself\u001B[39m\u001B[38;5;241m.\u001B[39mstorage_options \u001B[38;5;241m=\u001B[39m storage_options\n\u001B[0;32m-> 1513\u001B[0m \u001B[38;5;28mself\u001B[39m\u001B[38;5;241m.\u001B[39m_reader \u001B[38;5;241m=\u001B[39m \u001B[38;5;28;43mself\u001B[39;49m\u001B[38;5;241;43m.\u001B[39;49m\u001B[43m_engines\u001B[49m\u001B[43m[\u001B[49m\u001B[43mengine\u001B[49m\u001B[43m]\u001B[49m\u001B[43m(\u001B[49m\u001B[38;5;28;43mself\u001B[39;49m\u001B[38;5;241;43m.\u001B[39;49m\u001B[43m_io\u001B[49m\u001B[43m,\u001B[49m\u001B[43m \u001B[49m\u001B[43mstorage_options\u001B[49m\u001B[38;5;241;43m=\u001B[39;49m\u001B[43mstorage_options\u001B[49m\u001B[43m)\u001B[49m\n",
      "File \u001B[0;32m~/Desktop/Projeto 1 IA/venv/lib/python3.8/site-packages/pandas/io/excel/_openpyxl.py:548\u001B[0m, in \u001B[0;36mOpenpyxlReader.__init__\u001B[0;34m(self, filepath_or_buffer, storage_options)\u001B[0m\n\u001B[1;32m    533\u001B[0m \u001B[38;5;129m@doc\u001B[39m(storage_options\u001B[38;5;241m=\u001B[39m_shared_docs[\u001B[38;5;124m\"\u001B[39m\u001B[38;5;124mstorage_options\u001B[39m\u001B[38;5;124m\"\u001B[39m])\n\u001B[1;32m    534\u001B[0m \u001B[38;5;28;01mdef\u001B[39;00m \u001B[38;5;21m__init__\u001B[39m(\n\u001B[1;32m    535\u001B[0m     \u001B[38;5;28mself\u001B[39m,\n\u001B[1;32m    536\u001B[0m     filepath_or_buffer: FilePath \u001B[38;5;241m|\u001B[39m ReadBuffer[\u001B[38;5;28mbytes\u001B[39m],\n\u001B[1;32m    537\u001B[0m     storage_options: StorageOptions \u001B[38;5;241m=\u001B[39m \u001B[38;5;28;01mNone\u001B[39;00m,\n\u001B[1;32m    538\u001B[0m ) \u001B[38;5;241m-\u001B[39m\u001B[38;5;241m>\u001B[39m \u001B[38;5;28;01mNone\u001B[39;00m:\n\u001B[1;32m    539\u001B[0m \u001B[38;5;250m    \u001B[39m\u001B[38;5;124;03m\"\"\"\u001B[39;00m\n\u001B[1;32m    540\u001B[0m \u001B[38;5;124;03m    Reader using openpyxl engine.\u001B[39;00m\n\u001B[1;32m    541\u001B[0m \n\u001B[0;32m   (...)\u001B[0m\n\u001B[1;32m    546\u001B[0m \u001B[38;5;124;03m    {storage_options}\u001B[39;00m\n\u001B[1;32m    547\u001B[0m \u001B[38;5;124;03m    \"\"\"\u001B[39;00m\n\u001B[0;32m--> 548\u001B[0m     \u001B[43mimport_optional_dependency\u001B[49m\u001B[43m(\u001B[49m\u001B[38;5;124;43m\"\u001B[39;49m\u001B[38;5;124;43mopenpyxl\u001B[39;49m\u001B[38;5;124;43m\"\u001B[39;49m\u001B[43m)\u001B[49m\n\u001B[1;32m    549\u001B[0m     \u001B[38;5;28msuper\u001B[39m()\u001B[38;5;241m.\u001B[39m\u001B[38;5;21m__init__\u001B[39m(filepath_or_buffer, storage_options\u001B[38;5;241m=\u001B[39mstorage_options)\n",
      "File \u001B[0;32m~/Desktop/Projeto 1 IA/venv/lib/python3.8/site-packages/pandas/compat/_optional.py:145\u001B[0m, in \u001B[0;36mimport_optional_dependency\u001B[0;34m(name, extra, errors, min_version)\u001B[0m\n\u001B[1;32m    143\u001B[0m \u001B[38;5;28;01mexcept\u001B[39;00m \u001B[38;5;167;01mImportError\u001B[39;00m:\n\u001B[1;32m    144\u001B[0m     \u001B[38;5;28;01mif\u001B[39;00m errors \u001B[38;5;241m==\u001B[39m \u001B[38;5;124m\"\u001B[39m\u001B[38;5;124mraise\u001B[39m\u001B[38;5;124m\"\u001B[39m:\n\u001B[0;32m--> 145\u001B[0m         \u001B[38;5;28;01mraise\u001B[39;00m \u001B[38;5;167;01mImportError\u001B[39;00m(msg)\n\u001B[1;32m    146\u001B[0m     \u001B[38;5;28;01mreturn\u001B[39;00m \u001B[38;5;28;01mNone\u001B[39;00m\n\u001B[1;32m    148\u001B[0m \u001B[38;5;66;03m# Handle submodules: if we have submodule, grab parent module from sys.modules\u001B[39;00m\n",
      "\u001B[0;31mImportError\u001B[0m: Missing optional dependency 'openpyxl'.  Use pip or conda to install openpyxl."
     ]
    }
   ],
   "source": [
    "path1 = 'Train.xlsx'\n",
    "train_data = pd.read_excel(path1)\n",
    "train_data.info()"
   ]
  },
  {
   "cell_type": "code",
   "execution_count": null,
   "metadata": {
    "ExecuteTime": {
     "start_time": "2023-05-11T15:21:20.986674Z"
    }
   },
   "outputs": [],
   "source": [
    "duplicate = train_data[train_data.duplicated(keep='first')]\n",
    "print(\"DUPLICATE ROWS IN TRAINING DATASET:\",duplicate.shape)"
   ]
  },
  {
   "cell_type": "code",
   "execution_count": null,
   "metadata": {
    "ExecuteTime": {
     "start_time": "2023-05-11T15:21:20.992700Z"
    }
   },
   "outputs": [],
   "source": [
    "# GETTING THE NULL VALUES\n",
    "train_data.isnull().sum()"
   ]
  },
  {
   "cell_type": "code",
   "execution_count": null,
   "metadata": {
    "ExecuteTime": {
     "start_time": "2023-05-11T15:21:20.997290Z"
    }
   },
   "outputs": [],
   "source": [
    "# DROPPING COLUMN 'id' SiNCE IT DOES NOT CONTRIBUTE TO THE TARGET VARIABLE \n",
    "\n",
    "# SINCE OUR DATA SAMPLE ARE INDEPENDENT AND IDENTICALLY DISTRIBUTED (IID), THUS WE REMOVE THE id COLUMN, \n",
    "# GIVEN THAT ALL SAMPLES COME FROM OR REFER TO THE SAME SOURCE/OBJECT AND THEY DON'T SOMEHOW IDENTIFY THE SAMPLE CLASS.\n",
    "train_data.drop('id', axis=1, inplace=True)"
   ]
  },
  {
   "cell_type": "code",
   "execution_count": null,
   "metadata": {
    "ExecuteTime": {
     "start_time": "2023-05-11T15:21:21.002918Z"
    }
   },
   "outputs": [],
   "source": [
    "# DROPPING COLUMN 'days_since_prev_campaign_contact' SINCE IT HAS 80% NULL VALUE.\n",
    "train_data.drop(['days_since_prev_campaign_contact'], axis=1, inplace=True)\n",
    "train_data"
   ]
  },
  {
   "cell_type": "code",
   "execution_count": null,
   "metadata": {
    "ExecuteTime": {
     "start_time": "2023-05-11T15:21:21.008690Z"
    }
   },
   "outputs": [],
   "source": [
    "# GETTING NULL VALUES\n",
    "train_data.isnull().sum()"
   ]
  },
  {
   "cell_type": "code",
   "execution_count": null,
   "metadata": {
    "ExecuteTime": {
     "start_time": "2023-05-11T15:21:21.014682Z"
    }
   },
   "outputs": [],
   "source": [
    "obj = train_data.select_dtypes(include='object')\n",
    "obj.isna().sum()"
   ]
  },
  {
   "cell_type": "code",
   "execution_count": null,
   "metadata": {
    "ExecuteTime": {
     "start_time": "2023-05-11T15:21:21.020911Z"
    }
   },
   "outputs": [],
   "source": [
    "# GETTING MODE VALUE OF MARITAL STATUS\n",
    "x = train_data['marital'].mode()\n",
    "x"
   ]
  },
  {
   "cell_type": "code",
   "execution_count": null,
   "metadata": {
    "ExecuteTime": {
     "start_time": "2023-05-11T15:21:21.027960Z"
    }
   },
   "outputs": [],
   "source": [
    "# FILLING NULL VALUES WITH MODE IN marital\n",
    "train_data['marital'].fillna(x[0], inplace=True)"
   ]
  },
  {
   "cell_type": "code",
   "execution_count": null,
   "metadata": {
    "ExecuteTime": {
     "start_time": "2023-05-11T15:21:21.033841Z"
    }
   },
   "outputs": [],
   "source": [
    "# GETTING MODE VALUE OF personal_loan\n",
    "x = train_data['personal_loan'].mode()\n",
    "x"
   ]
  },
  {
   "cell_type": "code",
   "execution_count": null,
   "metadata": {
    "ExecuteTime": {
     "start_time": "2023-05-11T15:21:21.040362Z"
    }
   },
   "outputs": [],
   "source": [
    "# FILLING NULL VALUES WITH MODE IN personal_loan\n",
    "train_data['personal_loan'].fillna(x[0], inplace=True)"
   ]
  },
  {
   "cell_type": "code",
   "execution_count": null,
   "metadata": {
    "ExecuteTime": {
     "start_time": "2023-05-11T15:21:21.048575Z"
    }
   },
   "outputs": [],
   "source": [
    "float_cols = train_data.select_dtypes(include='float64')\n",
    "float_cols.isna().sum()"
   ]
  },
  {
   "cell_type": "code",
   "execution_count": null,
   "metadata": {
    "ExecuteTime": {
     "start_time": "2023-05-11T15:21:21.056002Z"
    }
   },
   "outputs": [],
   "source": [
    "fig, axes = plt.subplots(1, 4, figsize=(28, 7), sharey=True)\n",
    "sns.boxplot(train_data['customer_age'], ax=axes[0], color='r')\n",
    "sns.boxplot(train_data['balance'], ax=axes[1], color='b')\n",
    "sns.boxplot(train_data['num_contacts_prev_campaign'], ax=axes[2], color='y')\n",
    "sns.boxplot(train_data['last_contact_duration'], ax=axes[3], color='cyan')"
   ]
  },
  {
   "cell_type": "code",
   "execution_count": null,
   "metadata": {
    "ExecuteTime": {
     "start_time": "2023-05-11T15:21:21.063297Z"
    }
   },
   "outputs": [],
   "source": [
    "Q1 = train_data.quantile(0.10)\n",
    "Q3 = train_data.quantile(0.90)\n",
    "IQR = Q3 - Q1\n",
    "\n",
    "train_data = train_data[~((train_data < (Q1 - 1.5 * IQR)) |(train_data > (Q3 + 1.5 * IQR))).any(axis=1)]"
   ]
  },
  {
   "cell_type": "code",
   "execution_count": null,
   "metadata": {},
   "outputs": [],
   "source": [
    "fig, axes = plt.subplots(1, 4, figsize=(28, 7), sharey=True)\n",
    "sns.boxplot(train_data['customer_age'], ax=axes[0], color='r')\n",
    "sns.boxplot(train_data['balance'], ax=axes[1], color='b')\n",
    "sns.boxplot(train_data['num_contacts_prev_campaign'], ax=axes[2], color='y')\n",
    "sns.boxplot(train_data['last_contact_duration'], ax=axes[3], color='cyan')"
   ]
  },
  {
   "cell_type": "code",
   "execution_count": null,
   "metadata": {},
   "outputs": [],
   "source": [
    "# GETTING MEDIAN AGE AS AGE IS FLOATING VALUE\n",
    "x = train_data['customer_age'].median()\n",
    "x"
   ]
  },
  {
   "cell_type": "code",
   "execution_count": null,
   "metadata": {},
   "outputs": [],
   "source": [
    "# FILLING NULL VALUES IN customer_age COLUMN WITH MEDIAN\n",
    "train_data['customer_age'].fillna(x, inplace=True)"
   ]
  },
  {
   "cell_type": "code",
   "execution_count": null,
   "metadata": {},
   "outputs": [],
   "source": [
    "# GETTING MEDIAN BALANCE VALUE\n",
    "x = train_data['balance'].median()\n",
    "x"
   ]
  },
  {
   "cell_type": "code",
   "execution_count": null,
   "metadata": {},
   "outputs": [],
   "source": [
    "# FILLING NULL VALUES IN balance COLUMN WITH MEDIAN\n",
    "train_data['balance'].fillna(x, inplace=True)"
   ]
  },
  {
   "cell_type": "code",
   "execution_count": null,
   "metadata": {},
   "outputs": [],
   "source": [
    "# GETTING MEDIAN VALUE OF last_call_duration COLUMN\n",
    "x = train_data['last_contact_duration'].median()\n",
    "x"
   ]
  },
  {
   "cell_type": "code",
   "execution_count": null,
   "metadata": {},
   "outputs": [],
   "source": [
    "# FILLING NULL VALUES IN last_contact_duration COLUMN WITH MEDIAN\n",
    "train_data['last_contact_duration'].fillna(x, inplace=True)"
   ]
  },
  {
   "cell_type": "code",
   "execution_count": null,
   "metadata": {},
   "outputs": [],
   "source": [
    "# GETTING MEDIAN VALUE OF num_contact_in_campaign COLUMN\n",
    "x = train_data['num_contacts_in_campaign'].median()\n",
    "x"
   ]
  },
  {
   "cell_type": "code",
   "execution_count": null,
   "metadata": {},
   "outputs": [],
   "source": [
    "# FILLING NULL VALUES IN num_contacts_in_campaign COLUMN WITH MEDIAN AS MEAN VALUE CAN BE INFLUENCED BY OUTLIER, BUT MEDIAN WILL NOT\n",
    "train_data['num_contacts_in_campaign'].fillna(x, inplace=True)"
   ]
  },
  {
   "cell_type": "code",
   "execution_count": null,
   "metadata": {},
   "outputs": [],
   "source": [
    "train_data.isnull().sum()"
   ]
  },
  {
   "cell_type": "code",
   "execution_count": null,
   "metadata": {},
   "outputs": [],
   "source": [
    "# create the mid_month column\n",
    "train_data['mid_month'] = train_data['day_of_month'].apply(lambda x: 1 if x > 15 else 0)\n",
    "\n",
    "# delete the day_of_month column\n",
    "train_data.drop('day_of_month', axis=1, inplace=True)\n",
    "\n",
    "train_data"
   ]
  },
  {
   "cell_type": "code",
   "execution_count": null,
   "metadata": {},
   "outputs": [],
   "source": [
    "train_data[\"communication_type\"].value_counts()"
   ]
  },
  {
   "cell_type": "code",
   "execution_count": null,
   "metadata": {},
   "outputs": [],
   "source": [
    "\n",
    "# deleting the column since there is a huge amount of \"cellular\" (64%) and we think that it is not correlated with what we are studying\n",
    "train_data.drop('communication_type', axis=1, inplace=True)"
   ]
  },
  {
   "cell_type": "code",
   "execution_count": null,
   "metadata": {},
   "outputs": [],
   "source": [
    "# GETTING THE NULL VALUES\n",
    "train_data.isnull().sum()"
   ]
  },
  {
   "cell_type": "code",
   "execution_count": null,
   "metadata": {},
   "outputs": [],
   "source": [
    "obj = train_data.select_dtypes(include='object')\n",
    "obj.isna().sum()"
   ]
  },
  {
   "cell_type": "code",
   "execution_count": null,
   "metadata": {},
   "outputs": [],
   "source": [
    "from sklearn.preprocessing import LabelEncoder\n",
    "\n",
    "le = LabelEncoder()\n",
    "\n",
    "obj_cols = train_data.select_dtypes(include='object').columns"
   ]
  },
  {
   "cell_type": "code",
   "execution_count": null,
   "metadata": {},
   "outputs": [],
   "source": [
    "for col in obj_cols:\n",
    "    train_data[col] = le.fit_transform(train_data[col])\n",
    "\n",
    "train_data.head(10)"
   ]
  },
  {
   "cell_type": "code",
   "execution_count": null,
   "metadata": {},
   "outputs": [],
   "source": [
    "train_data.to_csv('train-clean.csv', index=False)\n",
    "train_data.to_excel('train-clean.xlsx', index=False)"
   ]
  },
  {
   "cell_type": "code",
   "execution_count": null,
   "outputs": [],
   "source": [
    "# Example data\n",
    "algorithms = ['Neural Networks', 'Decision Tree', 'KNN']\n",
    "accuracy_scores = [0.9164726824592633, 0.893057647542106, 0.8940161577433932]\n",
    "precision_scores = [0.82, 0.88, 0.75]\n",
    "\n",
    "# Create the graph\n",
    "plt.figure(figsize=(8, 6))\n",
    "plt.bar(algorithms, accuracy_scores, label='Accuracy')\n",
    "plt.plot(algorithms, precision_scores, marker='o', label='Precision')\n",
    "\n",
    "# Customize the graph\n",
    "plt.xlabel('Algorithms')\n",
    "plt.ylabel('Scores')\n",
    "plt.title('Performance Comparison of Different Algorithms')\n",
    "plt.legend()\n",
    "\n",
    "# Display or save the graph\n",
    "plt.show()"
   ],
   "metadata": {
    "collapsed": false
   }
  },
  {
   "cell_type": "code",
   "execution_count": null,
   "outputs": [],
   "source": [],
   "metadata": {
    "collapsed": false
   }
  }
 ],
 "metadata": {
  "kernelspec": {
   "display_name": "base",
   "language": "python",
   "name": "python3"
  },
  "language_info": {
   "codemirror_mode": {
    "name": "ipython",
    "version": 3
   },
   "file_extension": ".py",
   "mimetype": "text/x-python",
   "name": "python",
   "nbconvert_exporter": "python",
   "pygments_lexer": "ipython3",
   "version": "3.8.3"
  },
  "orig_nbformat": 4
 },
 "nbformat": 4,
 "nbformat_minor": 2
}
