{
 "cells": [
  {
   "cell_type": "code",
   "execution_count": 273,
   "metadata": {
    "is_executing": true
   },
   "outputs": [
    {
     "data": {
      "text/plain": [
       "\" \\nAbout this file\\nAttribute Information:\\nInput variables (Feature):\\n\\nNumeric:\\n\\n1-Id\\n2-Age\\n3-Balance: The bank balance of the customer.\\n4-Day_of_Month: The day of the month on which communication took place\\n5-Duration: States the duration of the call (in sec) regarding the campaign. This is an important\\nfeature as this attribute highly affects the target label (e.g., if duration=0 then y='no'). Thus, this input will be included for benchmark purposes and will be discarded if the intention is to have a realistic predictive model.\\n6-Num_contacts_in_campaign: Number of contacts performed during the campaign with the client for subscription\\n7-Days_since_prev_campaign_contact: Gap (in number of days) between two contacts\\n8-Num_contacts_prev_campaign: Number of contacts performed for promoting the campaign beforehand\\n\\nCategorical:\\n9-Job_type\\n10-Marital: States the marital status of the customer\\n11-Education\\n12-Default: Is the customer a defaulter or not?\\n{'yes', 'no', 'unknown'}\\n13-Housing_loan: Has a housing loan or not?\\n14-Personal_loan: Has a personal loan or not?\\n15-Communication_type: Mode of communication during the campaign\\n16-Month: Month in which contact with the customer took place for the campaign\\n17-Prev_campaign_outcome: The outcome of promotional contact with the client beforehand for attending/interest in the campaign\\n\\nOutput variable (Label):\\n18-Term_deposit_subscribed: Categorical target label to be predicted {'0, '1'}\\n\""
      ]
     },
     "execution_count": 273,
     "metadata": {},
     "output_type": "execute_result"
    }
   ],
   "source": [
    "import numpy as np\n",
    "import pandas as pd\n",
    "import seaborn as sns\n",
    "import matplotlib.pyplot as plt\n",
    "\"\"\" \n",
    "About this file\n",
    "Attribute Information:\n",
    "Input variables (Feature):\n",
    "\n",
    "Numeric:\n",
    "\n",
    "1-Id\n",
    "2-Age\n",
    "3-Balance: The bank balance of the customer.\n",
    "4-Day_of_Month: The day of the month on which communication took place\n",
    "5-Duration: States the duration of the call (in sec) regarding the campaign. This is an important\n",
    "feature as this attribute highly affects the target label (e.g., if duration=0 then y='no'). Thus, this input will be included for benchmark purposes and will be discarded if the intention is to have a realistic predictive model.\n",
    "6-Num_contacts_in_campaign: Number of contacts performed during the campaign with the client for subscription\n",
    "7-Days_since_prev_campaign_contact: Gap (in number of days) between two contacts\n",
    "8-Num_contacts_prev_campaign: Number of contacts performed for promoting the campaign beforehand\n",
    "\n",
    "Categorical:\n",
    "9-Job_type\n",
    "10-Marital: States the marital status of the customer\n",
    "11-Education\n",
    "12-Default: Is the customer a defaulter or not?\n",
    "{'yes', 'no', 'unknown'}\n",
    "13-Housing_loan: Has a housing loan or not?\n",
    "14-Personal_loan: Has a personal loan or not?\n",
    "15-Communication_type: Mode of communication during the campaign\n",
    "16-Month: Month in which contact with the customer took place for the campaign\n",
    "17-Prev_campaign_outcome: The outcome of promotional contact with the client beforehand for attending/interest in the campaign\n",
    "\n",
    "Output variable (Label):\n",
    "18-Term_deposit_subscribed: Categorical target label to be predicted {'0, '1'}\n",
    "\"\"\""
   ]
  },
  {
   "cell_type": "code",
   "execution_count": 274,
   "metadata": {},
   "outputs": [
    {
     "name": "stdout",
     "output_type": "stream",
     "text": [
      "<class 'pandas.core.frame.DataFrame'>\n",
      "RangeIndex: 31647 entries, 0 to 31646\n",
      "Data columns (total 18 columns):\n",
      " #   Column                            Non-Null Count  Dtype  \n",
      "---  ------                            --------------  -----  \n",
      " 0   id                                31647 non-null  object \n",
      " 1   customer_age                      31028 non-null  float64\n",
      " 2   job_type                          31647 non-null  object \n",
      " 3   marital                           31497 non-null  object \n",
      " 4   education                         31647 non-null  object \n",
      " 5   default                           31647 non-null  object \n",
      " 6   balance                           31248 non-null  float64\n",
      " 7   housing_loan                      31647 non-null  object \n",
      " 8   personal_loan                     31498 non-null  object \n",
      " 9   communication_type                31647 non-null  object \n",
      " 10  day_of_month                      31647 non-null  int64  \n",
      " 11  month                             31647 non-null  object \n",
      " 12  last_contact_duration             31336 non-null  float64\n",
      " 13  num_contacts_in_campaign          31535 non-null  float64\n",
      " 14  days_since_prev_campaign_contact  5816 non-null   float64\n",
      " 15  num_contacts_prev_campaign        31647 non-null  int64  \n",
      " 16  prev_campaign_outcome             31647 non-null  object \n",
      " 17  term_deposit_subscribed           31647 non-null  int64  \n",
      "dtypes: float64(5), int64(3), object(10)\n",
      "memory usage: 4.3+ MB\n"
     ]
    }
   ],
   "source": [
    "path1 = 'Train.xlsx'\n",
    "train_data = pd.read_excel(path1)\n",
    "train_data.info()"
   ]
  },
  {
   "cell_type": "code",
   "execution_count": 275,
   "metadata": {},
   "outputs": [
    {
     "name": "stdout",
     "output_type": "stream",
     "text": [
      "DUPLICATE ROWS IN TRAINING DATASET: (0, 18)\n"
     ]
    }
   ],
   "source": [
    "duplicate = train_data[train_data.duplicated(keep='first')]\n",
    "print(\"DUPLICATE ROWS IN TRAINING DATASET:\",duplicate.shape)"
   ]
  },
  {
   "cell_type": "code",
   "execution_count": 276,
   "metadata": {},
   "outputs": [
    {
     "data": {
      "text/plain": [
       "id                                      0\n",
       "customer_age                          619\n",
       "job_type                                0\n",
       "marital                               150\n",
       "education                               0\n",
       "default                                 0\n",
       "balance                               399\n",
       "housing_loan                            0\n",
       "personal_loan                         149\n",
       "communication_type                      0\n",
       "day_of_month                            0\n",
       "month                                   0\n",
       "last_contact_duration                 311\n",
       "num_contacts_in_campaign              112\n",
       "days_since_prev_campaign_contact    25831\n",
       "num_contacts_prev_campaign              0\n",
       "prev_campaign_outcome                   0\n",
       "term_deposit_subscribed                 0\n",
       "dtype: int64"
      ]
     },
     "execution_count": 276,
     "metadata": {},
     "output_type": "execute_result"
    }
   ],
   "source": [
    "# GETTING THE NULL VALUES\n",
    "train_data.isnull().sum()"
   ]
  },
  {
   "cell_type": "code",
   "execution_count": 277,
   "metadata": {},
   "outputs": [],
   "source": [
    "# DROPPING COLUMN 'id' SiNCE IT DOES NOT CONTRIBUTE TO THE TARGET VARIABLE \n",
    "\n",
    "# SINCE OUR DATA SAMPLE ARE INDEPENDENT AND IDENTICALLY DISTRIBUTED (IID), THUS WE REMOVE THE id COLUMN, \n",
    "# GIVEN THAT ALL SAMPLES COME FROM OR REFER TO THE SAME SOURCE/OBJECT AND THEY DON'T SOMEHOW IDENTIFY THE SAMPLE CLASS.\n",
    "train_data.drop('id', axis=1, inplace=True)"
   ]
  },
  {
   "cell_type": "code",
   "execution_count": 278,
   "metadata": {},
   "outputs": [
    {
     "data": {
      "text/html": [
       "<div>\n",
       "<style scoped>\n",
       "    .dataframe tbody tr th:only-of-type {\n",
       "        vertical-align: middle;\n",
       "    }\n",
       "\n",
       "    .dataframe tbody tr th {\n",
       "        vertical-align: top;\n",
       "    }\n",
       "\n",
       "    .dataframe thead th {\n",
       "        text-align: right;\n",
       "    }\n",
       "</style>\n",
       "<table border=\"1\" class=\"dataframe\">\n",
       "  <thead>\n",
       "    <tr style=\"text-align: right;\">\n",
       "      <th></th>\n",
       "      <th>customer_age</th>\n",
       "      <th>job_type</th>\n",
       "      <th>marital</th>\n",
       "      <th>education</th>\n",
       "      <th>default</th>\n",
       "      <th>balance</th>\n",
       "      <th>housing_loan</th>\n",
       "      <th>personal_loan</th>\n",
       "      <th>communication_type</th>\n",
       "      <th>day_of_month</th>\n",
       "      <th>month</th>\n",
       "      <th>last_contact_duration</th>\n",
       "      <th>num_contacts_in_campaign</th>\n",
       "      <th>num_contacts_prev_campaign</th>\n",
       "      <th>prev_campaign_outcome</th>\n",
       "      <th>term_deposit_subscribed</th>\n",
       "    </tr>\n",
       "  </thead>\n",
       "  <tbody>\n",
       "    <tr>\n",
       "      <th>0</th>\n",
       "      <td>28.0</td>\n",
       "      <td>management</td>\n",
       "      <td>single</td>\n",
       "      <td>tertiary</td>\n",
       "      <td>no</td>\n",
       "      <td>285.0</td>\n",
       "      <td>yes</td>\n",
       "      <td>no</td>\n",
       "      <td>unknown</td>\n",
       "      <td>26</td>\n",
       "      <td>jun</td>\n",
       "      <td>303.0</td>\n",
       "      <td>4.0</td>\n",
       "      <td>0</td>\n",
       "      <td>unknown</td>\n",
       "      <td>0</td>\n",
       "    </tr>\n",
       "    <tr>\n",
       "      <th>1</th>\n",
       "      <td>34.0</td>\n",
       "      <td>blue-collar</td>\n",
       "      <td>married</td>\n",
       "      <td>secondary</td>\n",
       "      <td>no</td>\n",
       "      <td>934.0</td>\n",
       "      <td>no</td>\n",
       "      <td>yes</td>\n",
       "      <td>cellular</td>\n",
       "      <td>18</td>\n",
       "      <td>nov</td>\n",
       "      <td>143.0</td>\n",
       "      <td>2.0</td>\n",
       "      <td>1</td>\n",
       "      <td>other</td>\n",
       "      <td>0</td>\n",
       "    </tr>\n",
       "    <tr>\n",
       "      <th>2</th>\n",
       "      <td>46.0</td>\n",
       "      <td>technician</td>\n",
       "      <td>married</td>\n",
       "      <td>secondary</td>\n",
       "      <td>no</td>\n",
       "      <td>656.0</td>\n",
       "      <td>no</td>\n",
       "      <td>no</td>\n",
       "      <td>cellular</td>\n",
       "      <td>5</td>\n",
       "      <td>feb</td>\n",
       "      <td>101.0</td>\n",
       "      <td>4.0</td>\n",
       "      <td>0</td>\n",
       "      <td>unknown</td>\n",
       "      <td>0</td>\n",
       "    </tr>\n",
       "    <tr>\n",
       "      <th>3</th>\n",
       "      <td>34.0</td>\n",
       "      <td>services</td>\n",
       "      <td>single</td>\n",
       "      <td>secondary</td>\n",
       "      <td>no</td>\n",
       "      <td>2.0</td>\n",
       "      <td>yes</td>\n",
       "      <td>no</td>\n",
       "      <td>unknown</td>\n",
       "      <td>20</td>\n",
       "      <td>may</td>\n",
       "      <td>127.0</td>\n",
       "      <td>3.0</td>\n",
       "      <td>0</td>\n",
       "      <td>unknown</td>\n",
       "      <td>0</td>\n",
       "    </tr>\n",
       "    <tr>\n",
       "      <th>4</th>\n",
       "      <td>41.0</td>\n",
       "      <td>blue-collar</td>\n",
       "      <td>married</td>\n",
       "      <td>primary</td>\n",
       "      <td>no</td>\n",
       "      <td>1352.0</td>\n",
       "      <td>yes</td>\n",
       "      <td>no</td>\n",
       "      <td>cellular</td>\n",
       "      <td>13</td>\n",
       "      <td>may</td>\n",
       "      <td>49.0</td>\n",
       "      <td>2.0</td>\n",
       "      <td>0</td>\n",
       "      <td>unknown</td>\n",
       "      <td>0</td>\n",
       "    </tr>\n",
       "    <tr>\n",
       "      <th>...</th>\n",
       "      <td>...</td>\n",
       "      <td>...</td>\n",
       "      <td>...</td>\n",
       "      <td>...</td>\n",
       "      <td>...</td>\n",
       "      <td>...</td>\n",
       "      <td>...</td>\n",
       "      <td>...</td>\n",
       "      <td>...</td>\n",
       "      <td>...</td>\n",
       "      <td>...</td>\n",
       "      <td>...</td>\n",
       "      <td>...</td>\n",
       "      <td>...</td>\n",
       "      <td>...</td>\n",
       "      <td>...</td>\n",
       "    </tr>\n",
       "    <tr>\n",
       "      <th>31642</th>\n",
       "      <td>58.0</td>\n",
       "      <td>admin.</td>\n",
       "      <td>married</td>\n",
       "      <td>secondary</td>\n",
       "      <td>no</td>\n",
       "      <td>567.0</td>\n",
       "      <td>yes</td>\n",
       "      <td>no</td>\n",
       "      <td>cellular</td>\n",
       "      <td>2</td>\n",
       "      <td>feb</td>\n",
       "      <td>99.0</td>\n",
       "      <td>2.0</td>\n",
       "      <td>3</td>\n",
       "      <td>other</td>\n",
       "      <td>0</td>\n",
       "    </tr>\n",
       "    <tr>\n",
       "      <th>31643</th>\n",
       "      <td>51.0</td>\n",
       "      <td>management</td>\n",
       "      <td>married</td>\n",
       "      <td>tertiary</td>\n",
       "      <td>no</td>\n",
       "      <td>1072.0</td>\n",
       "      <td>no</td>\n",
       "      <td>no</td>\n",
       "      <td>unknown</td>\n",
       "      <td>20</td>\n",
       "      <td>jun</td>\n",
       "      <td>31.0</td>\n",
       "      <td>7.0</td>\n",
       "      <td>0</td>\n",
       "      <td>unknown</td>\n",
       "      <td>0</td>\n",
       "    </tr>\n",
       "    <tr>\n",
       "      <th>31644</th>\n",
       "      <td>41.0</td>\n",
       "      <td>unemployed</td>\n",
       "      <td>married</td>\n",
       "      <td>primary</td>\n",
       "      <td>no</td>\n",
       "      <td>242.0</td>\n",
       "      <td>yes</td>\n",
       "      <td>no</td>\n",
       "      <td>unknown</td>\n",
       "      <td>23</td>\n",
       "      <td>may</td>\n",
       "      <td>89.0</td>\n",
       "      <td>2.0</td>\n",
       "      <td>0</td>\n",
       "      <td>unknown</td>\n",
       "      <td>0</td>\n",
       "    </tr>\n",
       "    <tr>\n",
       "      <th>31645</th>\n",
       "      <td>48.0</td>\n",
       "      <td>services</td>\n",
       "      <td>married</td>\n",
       "      <td>secondary</td>\n",
       "      <td>no</td>\n",
       "      <td>2699.0</td>\n",
       "      <td>no</td>\n",
       "      <td>no</td>\n",
       "      <td>cellular</td>\n",
       "      <td>11</td>\n",
       "      <td>aug</td>\n",
       "      <td>216.0</td>\n",
       "      <td>6.0</td>\n",
       "      <td>0</td>\n",
       "      <td>unknown</td>\n",
       "      <td>0</td>\n",
       "    </tr>\n",
       "    <tr>\n",
       "      <th>31646</th>\n",
       "      <td>38.0</td>\n",
       "      <td>technician</td>\n",
       "      <td>single</td>\n",
       "      <td>tertiary</td>\n",
       "      <td>no</td>\n",
       "      <td>1045.0</td>\n",
       "      <td>no</td>\n",
       "      <td>no</td>\n",
       "      <td>cellular</td>\n",
       "      <td>18</td>\n",
       "      <td>aug</td>\n",
       "      <td>183.0</td>\n",
       "      <td>10.0</td>\n",
       "      <td>0</td>\n",
       "      <td>unknown</td>\n",
       "      <td>0</td>\n",
       "    </tr>\n",
       "  </tbody>\n",
       "</table>\n",
       "<p>31647 rows × 16 columns</p>\n",
       "</div>"
      ],
      "text/plain": [
       "       customer_age     job_type  marital  education default  balance  \\\n",
       "0              28.0   management   single   tertiary      no    285.0   \n",
       "1              34.0  blue-collar  married  secondary      no    934.0   \n",
       "2              46.0   technician  married  secondary      no    656.0   \n",
       "3              34.0     services   single  secondary      no      2.0   \n",
       "4              41.0  blue-collar  married    primary      no   1352.0   \n",
       "...             ...          ...      ...        ...     ...      ...   \n",
       "31642          58.0       admin.  married  secondary      no    567.0   \n",
       "31643          51.0   management  married   tertiary      no   1072.0   \n",
       "31644          41.0   unemployed  married    primary      no    242.0   \n",
       "31645          48.0     services  married  secondary      no   2699.0   \n",
       "31646          38.0   technician   single   tertiary      no   1045.0   \n",
       "\n",
       "      housing_loan personal_loan communication_type  day_of_month month  \\\n",
       "0              yes            no            unknown            26   jun   \n",
       "1               no           yes           cellular            18   nov   \n",
       "2               no            no           cellular             5   feb   \n",
       "3              yes            no            unknown            20   may   \n",
       "4              yes            no           cellular            13   may   \n",
       "...            ...           ...                ...           ...   ...   \n",
       "31642          yes            no           cellular             2   feb   \n",
       "31643           no            no            unknown            20   jun   \n",
       "31644          yes            no            unknown            23   may   \n",
       "31645           no            no           cellular            11   aug   \n",
       "31646           no            no           cellular            18   aug   \n",
       "\n",
       "       last_contact_duration  num_contacts_in_campaign  \\\n",
       "0                      303.0                       4.0   \n",
       "1                      143.0                       2.0   \n",
       "2                      101.0                       4.0   \n",
       "3                      127.0                       3.0   \n",
       "4                       49.0                       2.0   \n",
       "...                      ...                       ...   \n",
       "31642                   99.0                       2.0   \n",
       "31643                   31.0                       7.0   \n",
       "31644                   89.0                       2.0   \n",
       "31645                  216.0                       6.0   \n",
       "31646                  183.0                      10.0   \n",
       "\n",
       "       num_contacts_prev_campaign prev_campaign_outcome  \\\n",
       "0                               0               unknown   \n",
       "1                               1                 other   \n",
       "2                               0               unknown   \n",
       "3                               0               unknown   \n",
       "4                               0               unknown   \n",
       "...                           ...                   ...   \n",
       "31642                           3                 other   \n",
       "31643                           0               unknown   \n",
       "31644                           0               unknown   \n",
       "31645                           0               unknown   \n",
       "31646                           0               unknown   \n",
       "\n",
       "       term_deposit_subscribed  \n",
       "0                            0  \n",
       "1                            0  \n",
       "2                            0  \n",
       "3                            0  \n",
       "4                            0  \n",
       "...                        ...  \n",
       "31642                        0  \n",
       "31643                        0  \n",
       "31644                        0  \n",
       "31645                        0  \n",
       "31646                        0  \n",
       "\n",
       "[31647 rows x 16 columns]"
      ]
     },
     "execution_count": 278,
     "metadata": {},
     "output_type": "execute_result"
    }
   ],
   "source": [
    "# DROPPING COLUMN 'days_since_prev_campaign_contact' SINCE IT HAS 80% NULL VALUE.\n",
    "train_data.drop(['days_since_prev_campaign_contact'], axis=1, inplace=True)\n",
    "train_data"
   ]
  },
  {
   "cell_type": "code",
   "execution_count": 279,
   "metadata": {},
   "outputs": [
    {
     "data": {
      "text/plain": [
       "customer_age                  619\n",
       "job_type                        0\n",
       "marital                       150\n",
       "education                       0\n",
       "default                         0\n",
       "balance                       399\n",
       "housing_loan                    0\n",
       "personal_loan                 149\n",
       "communication_type              0\n",
       "day_of_month                    0\n",
       "month                           0\n",
       "last_contact_duration         311\n",
       "num_contacts_in_campaign      112\n",
       "num_contacts_prev_campaign      0\n",
       "prev_campaign_outcome           0\n",
       "term_deposit_subscribed         0\n",
       "dtype: int64"
      ]
     },
     "execution_count": 279,
     "metadata": {},
     "output_type": "execute_result"
    }
   ],
   "source": [
    "# GETTING NULL VALUES\n",
    "train_data.isnull().sum()"
   ]
  },
  {
   "cell_type": "code",
   "execution_count": 280,
   "metadata": {},
   "outputs": [
    {
     "data": {
      "text/plain": [
       "job_type                   0\n",
       "marital                  150\n",
       "education                  0\n",
       "default                    0\n",
       "housing_loan               0\n",
       "personal_loan            149\n",
       "communication_type         0\n",
       "month                      0\n",
       "prev_campaign_outcome      0\n",
       "dtype: int64"
      ]
     },
     "execution_count": 280,
     "metadata": {},
     "output_type": "execute_result"
    }
   ],
   "source": [
    "obj = train_data.select_dtypes(include='object')\n",
    "obj.isna().sum()"
   ]
  },
  {
   "cell_type": "code",
   "execution_count": 281,
   "metadata": {},
   "outputs": [
    {
     "data": {
      "text/plain": [
       "0    married\n",
       "dtype: object"
      ]
     },
     "execution_count": 281,
     "metadata": {},
     "output_type": "execute_result"
    }
   ],
   "source": [
    "# GETTING MODE VALUE OF MARITAL STATUS\n",
    "x = train_data['marital'].mode()\n",
    "x"
   ]
  },
  {
   "cell_type": "code",
   "execution_count": 282,
   "metadata": {},
   "outputs": [],
   "source": [
    "# FILLING NULL VALUES WITH MODE IN marital\n",
    "train_data['marital'].fillna(x[0], inplace=True)"
   ]
  },
  {
   "cell_type": "code",
   "execution_count": 283,
   "metadata": {},
   "outputs": [
    {
     "data": {
      "text/plain": [
       "0    no\n",
       "dtype: object"
      ]
     },
     "execution_count": 283,
     "metadata": {},
     "output_type": "execute_result"
    }
   ],
   "source": [
    "# GETTING MODE VALUE OF personal_loan\n",
    "x = train_data['personal_loan'].mode()\n",
    "x"
   ]
  },
  {
   "cell_type": "code",
   "execution_count": 284,
   "metadata": {},
   "outputs": [],
   "source": [
    "# FILLING NULL VALUES WITH MODE IN personal_loan\n",
    "train_data['personal_loan'].fillna(x[0], inplace=True)"
   ]
  },
  {
   "cell_type": "code",
   "execution_count": 285,
   "metadata": {},
   "outputs": [
    {
     "data": {
      "text/plain": [
       "customer_age                619\n",
       "balance                     399\n",
       "last_contact_duration       311\n",
       "num_contacts_in_campaign    112\n",
       "dtype: int64"
      ]
     },
     "execution_count": 285,
     "metadata": {},
     "output_type": "execute_result"
    }
   ],
   "source": [
    "float_cols = train_data.select_dtypes(include='float64')\n",
    "float_cols.isna().sum()"
   ]
  },
  {
   "cell_type": "code",
   "execution_count": 286,
   "metadata": {},
   "outputs": [
    {
     "data": {
      "text/plain": [
       "<matplotlib.axes._subplots.AxesSubplot at 0x7f959fd3b3d0>"
      ]
     },
     "execution_count": 286,
     "metadata": {},
     "output_type": "execute_result"
    },
    {
     "data": {
      "image/png": "[encoded data removed]",
      "text/plain": [
       "<Figure size 2016x504 with 4 Axes>"
      ]
     },
     "metadata": {
      "needs_background": "light"
     },
     "output_type": "display_data"
    }
   ],
   "source": [
    "fig, axes = plt.subplots(1, 4, figsize=(28, 7), sharey=True)\n",
    "sns.boxplot(train_data['customer_age'], ax=axes[0], color='r')\n",
    "sns.boxplot(train_data['balance'], ax=axes[1], color='b')\n",
    "sns.boxplot(train_data['num_contacts_prev_campaign'], ax=axes[2], color='y')\n",
    "sns.boxplot(train_data['last_contact_duration'], ax=axes[3], color='cyan')"
   ]
  },
  {
   "cell_type": "code",
   "execution_count": 287,
   "metadata": {},
   "outputs": [],
   "source": [
    "Q1 = train_data.quantile(0.10)\n",
    "Q3 = train_data.quantile(0.90)\n",
    "IQR = Q3 - Q1\n",
    "\n",
    "train_data = train_data[~((train_data < (Q1 - 1.5 * IQR)) |(train_data > (Q3 + 1.5 * IQR))).any(axis=1)]"
   ]
  },
  {
   "cell_type": "code",
   "execution_count": 288,
   "metadata": {},
   "outputs": [
    {
     "data": {
      "text/plain": [
       "<matplotlib.axes._subplots.AxesSubplot at 0x7f95ae7e1d30>"
      ]
     },
     "execution_count": 288,
     "metadata": {},
     "output_type": "execute_result"
    },
    {
     "data": {
      "image/png": "[encoded data removed]",
      "text/plain": [
       "<Figure size 2016x504 with 4 Axes>"
      ]
     },
     "metadata": {
      "needs_background": "light"
     },
     "output_type": "display_data"
    }
   ],
   "source": [
    "fig, axes = plt.subplots(1, 4, figsize=(28, 7), sharey=True)\n",
    "sns.boxplot(train_data['customer_age'], ax=axes[0], color='r')\n",
    "sns.boxplot(train_data['balance'], ax=axes[1], color='b')\n",
    "sns.boxplot(train_data['num_contacts_prev_campaign'], ax=axes[2], color='y')\n",
    "sns.boxplot(train_data['last_contact_duration'], ax=axes[3], color='cyan')"
   ]
  },
  {
   "cell_type": "code",
   "execution_count": 289,
   "metadata": {},
   "outputs": [
    {
     "data": {
      "text/plain": [
       "38.0"
      ]
     },
     "execution_count": 289,
     "metadata": {},
     "output_type": "execute_result"
    }
   ],
   "source": [
    "# GETTING MEDIAN AGE AS AGE IS FLOATING VALUE\n",
    "x = train_data['customer_age'].median()\n",
    "x"
   ]
  },
  {
   "cell_type": "code",
   "execution_count": 290,
   "metadata": {},
   "outputs": [
    {
     "name": "stderr",
     "output_type": "stream",
     "text": [
      "/Users/sofiagoncalves/opt/anaconda3/lib/python3.8/site-packages/pandas/core/generic.py:6245: SettingWithCopyWarning: \n",
      "A value is trying to be set on a copy of a slice from a DataFrame\n",
      "\n",
      "See the caveats in the documentation: https://pandas.pydata.org/pandas-docs/stable/user_guide/indexing.html#returning-a-view-versus-a-copy\n",
      "  self._update_inplace(new_data)\n"
     ]
    }
   ],
   "source": [
    "# FILLING NULL VALUES IN customer_age COLUMN WITH MEDIAN\n",
    "train_data['customer_age'].fillna(x, inplace=True)"
   ]
  },
  {
   "cell_type": "code",
   "execution_count": 291,
   "metadata": {},
   "outputs": [
    {
     "data": {
      "text/plain": [
       "425.0"
      ]
     },
     "execution_count": 291,
     "metadata": {},
     "output_type": "execute_result"
    }
   ],
   "source": [
    "# GETTING MEDIAN BALANCE VALUE\n",
    "x = train_data['balance'].median()\n",
    "x"
   ]
  },
  {
   "cell_type": "code",
   "execution_count": 292,
   "metadata": {},
   "outputs": [],
   "source": [
    "# FILLING NULL VALUES IN balance COLUMN WITH MEDIAN\n",
    "train_data['balance'].fillna(x, inplace=True)"
   ]
  },
  {
   "cell_type": "code",
   "execution_count": 293,
   "metadata": {},
   "outputs": [
    {
     "data": {
      "text/plain": [
       "180.0"
      ]
     },
     "execution_count": 293,
     "metadata": {},
     "output_type": "execute_result"
    }
   ],
   "source": [
    "# GETTING MEDIAN VALUE OF last_call_duration COLUMN\n",
    "x = train_data['last_contact_duration'].median()\n",
    "x"
   ]
  },
  {
   "cell_type": "code",
   "execution_count": 294,
   "metadata": {},
   "outputs": [],
   "source": [
    "# FILLING NULL VALUES IN last_contact_duration COLUMN WITH MEDIAN\n",
    "train_data['last_contact_duration'].fillna(x, inplace=True)"
   ]
  },
  {
   "cell_type": "code",
   "execution_count": 295,
   "metadata": {},
   "outputs": [
    {
     "data": {
      "text/plain": [
       "2.0"
      ]
     },
     "execution_count": 295,
     "metadata": {},
     "output_type": "execute_result"
    }
   ],
   "source": [
    "# GETTING MEDIAN VALUE OF num_contact_in_campaign COLUMN\n",
    "x = train_data['num_contacts_in_campaign'].median()\n",
    "x"
   ]
  },
  {
   "cell_type": "code",
   "execution_count": 296,
   "metadata": {},
   "outputs": [],
   "source": [
    "# FILLING NULL VALUES IN num_contacts_in_campaign COLUMN WITH MEDIAN AS MEAN VALUE CAN BE INFLUENCED BY OUTLIER, BUT MEDIAN WILL NOT\n",
    "train_data['num_contacts_in_campaign'].fillna(x, inplace=True)"
   ]
  },
  {
   "cell_type": "code",
   "execution_count": 297,
   "metadata": {},
   "outputs": [
    {
     "data": {
      "text/plain": [
       "customer_age                  0\n",
       "job_type                      0\n",
       "marital                       0\n",
       "education                     0\n",
       "default                       0\n",
       "balance                       0\n",
       "housing_loan                  0\n",
       "personal_loan                 0\n",
       "communication_type            0\n",
       "day_of_month                  0\n",
       "month                         0\n",
       "last_contact_duration         0\n",
       "num_contacts_in_campaign      0\n",
       "num_contacts_prev_campaign    0\n",
       "prev_campaign_outcome         0\n",
       "term_deposit_subscribed       0\n",
       "dtype: int64"
      ]
     },
     "execution_count": 297,
     "metadata": {},
     "output_type": "execute_result"
    }
   ],
   "source": [
    "train_data.isnull().sum()"
   ]
  },
  {
   "cell_type": "code",
   "execution_count": 298,
   "metadata": {},
   "outputs": [
    {
     "name": "stderr",
     "output_type": "stream",
     "text": [
      "<ipython-input-298-ae38881e387f>:2: SettingWithCopyWarning: \n",
      "A value is trying to be set on a copy of a slice from a DataFrame.\n",
      "Try using .loc[row_indexer,col_indexer] = value instead\n",
      "\n",
      "See the caveats in the documentation: https://pandas.pydata.org/pandas-docs/stable/user_guide/indexing.html#returning-a-view-versus-a-copy\n",
      "  train_data['mid_month'] = train_data['day_of_month'].apply(lambda x: 1 if x > 15 else 0)\n",
      "/Users/sofiagoncalves/opt/anaconda3/lib/python3.8/site-packages/pandas/core/frame.py:3990: SettingWithCopyWarning: \n",
      "A value is trying to be set on a copy of a slice from a DataFrame\n",
      "\n",
      "See the caveats in the documentation: https://pandas.pydata.org/pandas-docs/stable/user_guide/indexing.html#returning-a-view-versus-a-copy\n",
      "  return super().drop(\n"
     ]
    },
    {
     "data": {
      "text/html": [
       "<div>\n",
       "<style scoped>\n",
       "    .dataframe tbody tr th:only-of-type {\n",
       "        vertical-align: middle;\n",
       "    }\n",
       "\n",
       "    .dataframe tbody tr th {\n",
       "        vertical-align: top;\n",
       "    }\n",
       "\n",
       "    .dataframe thead th {\n",
       "        text-align: right;\n",
       "    }\n",
       "</style>\n",
       "<table border=\"1\" class=\"dataframe\">\n",
       "  <thead>\n",
       "    <tr style=\"text-align: right;\">\n",
       "      <th></th>\n",
       "      <th>customer_age</th>\n",
       "      <th>job_type</th>\n",
       "      <th>marital</th>\n",
       "      <th>education</th>\n",
       "      <th>default</th>\n",
       "      <th>balance</th>\n",
       "      <th>housing_loan</th>\n",
       "      <th>personal_loan</th>\n",
       "      <th>communication_type</th>\n",
       "      <th>month</th>\n",
       "      <th>last_contact_duration</th>\n",
       "      <th>num_contacts_in_campaign</th>\n",
       "      <th>num_contacts_prev_campaign</th>\n",
       "      <th>prev_campaign_outcome</th>\n",
       "      <th>term_deposit_subscribed</th>\n",
       "      <th>mid_month</th>\n",
       "    </tr>\n",
       "  </thead>\n",
       "  <tbody>\n",
       "    <tr>\n",
       "      <th>0</th>\n",
       "      <td>28.0</td>\n",
       "      <td>management</td>\n",
       "      <td>single</td>\n",
       "      <td>tertiary</td>\n",
       "      <td>no</td>\n",
       "      <td>285.0</td>\n",
       "      <td>yes</td>\n",
       "      <td>no</td>\n",
       "      <td>unknown</td>\n",
       "      <td>jun</td>\n",
       "      <td>303.0</td>\n",
       "      <td>4.0</td>\n",
       "      <td>0</td>\n",
       "      <td>unknown</td>\n",
       "      <td>0</td>\n",
       "      <td>1</td>\n",
       "    </tr>\n",
       "    <tr>\n",
       "      <th>1</th>\n",
       "      <td>34.0</td>\n",
       "      <td>blue-collar</td>\n",
       "      <td>married</td>\n",
       "      <td>secondary</td>\n",
       "      <td>no</td>\n",
       "      <td>934.0</td>\n",
       "      <td>no</td>\n",
       "      <td>yes</td>\n",
       "      <td>cellular</td>\n",
       "      <td>nov</td>\n",
       "      <td>143.0</td>\n",
       "      <td>2.0</td>\n",
       "      <td>1</td>\n",
       "      <td>other</td>\n",
       "      <td>0</td>\n",
       "      <td>1</td>\n",
       "    </tr>\n",
       "    <tr>\n",
       "      <th>2</th>\n",
       "      <td>46.0</td>\n",
       "      <td>technician</td>\n",
       "      <td>married</td>\n",
       "      <td>secondary</td>\n",
       "      <td>no</td>\n",
       "      <td>656.0</td>\n",
       "      <td>no</td>\n",
       "      <td>no</td>\n",
       "      <td>cellular</td>\n",
       "      <td>feb</td>\n",
       "      <td>101.0</td>\n",
       "      <td>4.0</td>\n",
       "      <td>0</td>\n",
       "      <td>unknown</td>\n",
       "      <td>0</td>\n",
       "      <td>0</td>\n",
       "    </tr>\n",
       "    <tr>\n",
       "      <th>3</th>\n",
       "      <td>34.0</td>\n",
       "      <td>services</td>\n",
       "      <td>single</td>\n",
       "      <td>secondary</td>\n",
       "      <td>no</td>\n",
       "      <td>2.0</td>\n",
       "      <td>yes</td>\n",
       "      <td>no</td>\n",
       "      <td>unknown</td>\n",
       "      <td>may</td>\n",
       "      <td>127.0</td>\n",
       "      <td>3.0</td>\n",
       "      <td>0</td>\n",
       "      <td>unknown</td>\n",
       "      <td>0</td>\n",
       "      <td>1</td>\n",
       "    </tr>\n",
       "    <tr>\n",
       "      <th>4</th>\n",
       "      <td>41.0</td>\n",
       "      <td>blue-collar</td>\n",
       "      <td>married</td>\n",
       "      <td>primary</td>\n",
       "      <td>no</td>\n",
       "      <td>1352.0</td>\n",
       "      <td>yes</td>\n",
       "      <td>no</td>\n",
       "      <td>cellular</td>\n",
       "      <td>may</td>\n",
       "      <td>49.0</td>\n",
       "      <td>2.0</td>\n",
       "      <td>0</td>\n",
       "      <td>unknown</td>\n",
       "      <td>0</td>\n",
       "      <td>0</td>\n",
       "    </tr>\n",
       "    <tr>\n",
       "      <th>...</th>\n",
       "      <td>...</td>\n",
       "      <td>...</td>\n",
       "      <td>...</td>\n",
       "      <td>...</td>\n",
       "      <td>...</td>\n",
       "      <td>...</td>\n",
       "      <td>...</td>\n",
       "      <td>...</td>\n",
       "      <td>...</td>\n",
       "      <td>...</td>\n",
       "      <td>...</td>\n",
       "      <td>...</td>\n",
       "      <td>...</td>\n",
       "      <td>...</td>\n",
       "      <td>...</td>\n",
       "      <td>...</td>\n",
       "    </tr>\n",
       "    <tr>\n",
       "      <th>31642</th>\n",
       "      <td>58.0</td>\n",
       "      <td>admin.</td>\n",
       "      <td>married</td>\n",
       "      <td>secondary</td>\n",
       "      <td>no</td>\n",
       "      <td>567.0</td>\n",
       "      <td>yes</td>\n",
       "      <td>no</td>\n",
       "      <td>cellular</td>\n",
       "      <td>feb</td>\n",
       "      <td>99.0</td>\n",
       "      <td>2.0</td>\n",
       "      <td>3</td>\n",
       "      <td>other</td>\n",
       "      <td>0</td>\n",
       "      <td>0</td>\n",
       "    </tr>\n",
       "    <tr>\n",
       "      <th>31643</th>\n",
       "      <td>51.0</td>\n",
       "      <td>management</td>\n",
       "      <td>married</td>\n",
       "      <td>tertiary</td>\n",
       "      <td>no</td>\n",
       "      <td>1072.0</td>\n",
       "      <td>no</td>\n",
       "      <td>no</td>\n",
       "      <td>unknown</td>\n",
       "      <td>jun</td>\n",
       "      <td>31.0</td>\n",
       "      <td>7.0</td>\n",
       "      <td>0</td>\n",
       "      <td>unknown</td>\n",
       "      <td>0</td>\n",
       "      <td>1</td>\n",
       "    </tr>\n",
       "    <tr>\n",
       "      <th>31644</th>\n",
       "      <td>41.0</td>\n",
       "      <td>unemployed</td>\n",
       "      <td>married</td>\n",
       "      <td>primary</td>\n",
       "      <td>no</td>\n",
       "      <td>242.0</td>\n",
       "      <td>yes</td>\n",
       "      <td>no</td>\n",
       "      <td>unknown</td>\n",
       "      <td>may</td>\n",
       "      <td>89.0</td>\n",
       "      <td>2.0</td>\n",
       "      <td>0</td>\n",
       "      <td>unknown</td>\n",
       "      <td>0</td>\n",
       "      <td>1</td>\n",
       "    </tr>\n",
       "    <tr>\n",
       "      <th>31645</th>\n",
       "      <td>48.0</td>\n",
       "      <td>services</td>\n",
       "      <td>married</td>\n",
       "      <td>secondary</td>\n",
       "      <td>no</td>\n",
       "      <td>2699.0</td>\n",
       "      <td>no</td>\n",
       "      <td>no</td>\n",
       "      <td>cellular</td>\n",
       "      <td>aug</td>\n",
       "      <td>216.0</td>\n",
       "      <td>6.0</td>\n",
       "      <td>0</td>\n",
       "      <td>unknown</td>\n",
       "      <td>0</td>\n",
       "      <td>0</td>\n",
       "    </tr>\n",
       "    <tr>\n",
       "      <th>31646</th>\n",
       "      <td>38.0</td>\n",
       "      <td>technician</td>\n",
       "      <td>single</td>\n",
       "      <td>tertiary</td>\n",
       "      <td>no</td>\n",
       "      <td>1045.0</td>\n",
       "      <td>no</td>\n",
       "      <td>no</td>\n",
       "      <td>cellular</td>\n",
       "      <td>aug</td>\n",
       "      <td>183.0</td>\n",
       "      <td>10.0</td>\n",
       "      <td>0</td>\n",
       "      <td>unknown</td>\n",
       "      <td>0</td>\n",
       "      <td>1</td>\n",
       "    </tr>\n",
       "  </tbody>\n",
       "</table>\n",
       "<p>29210 rows × 16 columns</p>\n",
       "</div>"
      ],
      "text/plain": [
       "       customer_age     job_type  marital  education default  balance  \\\n",
       "0              28.0   management   single   tertiary      no    285.0   \n",
       "1              34.0  blue-collar  married  secondary      no    934.0   \n",
       "2              46.0   technician  married  secondary      no    656.0   \n",
       "3              34.0     services   single  secondary      no      2.0   \n",
       "4              41.0  blue-collar  married    primary      no   1352.0   \n",
       "...             ...          ...      ...        ...     ...      ...   \n",
       "31642          58.0       admin.  married  secondary      no    567.0   \n",
       "31643          51.0   management  married   tertiary      no   1072.0   \n",
       "31644          41.0   unemployed  married    primary      no    242.0   \n",
       "31645          48.0     services  married  secondary      no   2699.0   \n",
       "31646          38.0   technician   single   tertiary      no   1045.0   \n",
       "\n",
       "      housing_loan personal_loan communication_type month  \\\n",
       "0              yes            no            unknown   jun   \n",
       "1               no           yes           cellular   nov   \n",
       "2               no            no           cellular   feb   \n",
       "3              yes            no            unknown   may   \n",
       "4              yes            no           cellular   may   \n",
       "...            ...           ...                ...   ...   \n",
       "31642          yes            no           cellular   feb   \n",
       "31643           no            no            unknown   jun   \n",
       "31644          yes            no            unknown   may   \n",
       "31645           no            no           cellular   aug   \n",
       "31646           no            no           cellular   aug   \n",
       "\n",
       "       last_contact_duration  num_contacts_in_campaign  \\\n",
       "0                      303.0                       4.0   \n",
       "1                      143.0                       2.0   \n",
       "2                      101.0                       4.0   \n",
       "3                      127.0                       3.0   \n",
       "4                       49.0                       2.0   \n",
       "...                      ...                       ...   \n",
       "31642                   99.0                       2.0   \n",
       "31643                   31.0                       7.0   \n",
       "31644                   89.0                       2.0   \n",
       "31645                  216.0                       6.0   \n",
       "31646                  183.0                      10.0   \n",
       "\n",
       "       num_contacts_prev_campaign prev_campaign_outcome  \\\n",
       "0                               0               unknown   \n",
       "1                               1                 other   \n",
       "2                               0               unknown   \n",
       "3                               0               unknown   \n",
       "4                               0               unknown   \n",
       "...                           ...                   ...   \n",
       "31642                           3                 other   \n",
       "31643                           0               unknown   \n",
       "31644                           0               unknown   \n",
       "31645                           0               unknown   \n",
       "31646                           0               unknown   \n",
       "\n",
       "       term_deposit_subscribed  mid_month  \n",
       "0                            0          1  \n",
       "1                            0          1  \n",
       "2                            0          0  \n",
       "3                            0          1  \n",
       "4                            0          0  \n",
       "...                        ...        ...  \n",
       "31642                        0          0  \n",
       "31643                        0          1  \n",
       "31644                        0          1  \n",
       "31645                        0          0  \n",
       "31646                        0          1  \n",
       "\n",
       "[29210 rows x 16 columns]"
      ]
     },
     "execution_count": 298,
     "metadata": {},
     "output_type": "execute_result"
    }
   ],
   "source": [
    "# create the mid_month column\n",
    "train_data['mid_month'] = train_data['day_of_month'].apply(lambda x: 1 if x > 15 else 0)\n",
    "\n",
    "# delete the day_of_month column\n",
    "train_data.drop('day_of_month', axis=1, inplace=True)\n",
    "\n",
    "train_data"
   ]
  },
  {
   "cell_type": "code",
   "execution_count": 299,
   "metadata": {},
   "outputs": [
    {
     "data": {
      "text/plain": [
       "cellular     18776\n",
       "unknown       8656\n",
       "telephone     1778\n",
       "Name: communication_type, dtype: int64"
      ]
     },
     "execution_count": 299,
     "metadata": {},
     "output_type": "execute_result"
    }
   ],
   "source": [
    "train_data[\"communication_type\"].value_counts()"
   ]
  },
  {
   "cell_type": "code",
   "execution_count": 300,
   "metadata": {},
   "outputs": [
    {
     "name": "stderr",
     "output_type": "stream",
     "text": [
      "/Users/sofiagoncalves/opt/anaconda3/lib/python3.8/site-packages/pandas/core/frame.py:3990: SettingWithCopyWarning: \n",
      "A value is trying to be set on a copy of a slice from a DataFrame\n",
      "\n",
      "See the caveats in the documentation: https://pandas.pydata.org/pandas-docs/stable/user_guide/indexing.html#returning-a-view-versus-a-copy\n",
      "  return super().drop(\n"
     ]
    }
   ],
   "source": [
    "\n",
    "# deleting the column since there is a huge amount of \"cellular\" (64%) and we think that it is not correlated with what we are studying\n",
    "train_data.drop('communication_type', axis=1, inplace=True)"
   ]
  },
  {
   "cell_type": "code",
   "execution_count": 301,
   "metadata": {},
   "outputs": [
    {
     "data": {
      "text/plain": [
       "customer_age                  0\n",
       "job_type                      0\n",
       "marital                       0\n",
       "education                     0\n",
       "default                       0\n",
       "balance                       0\n",
       "housing_loan                  0\n",
       "personal_loan                 0\n",
       "month                         0\n",
       "last_contact_duration         0\n",
       "num_contacts_in_campaign      0\n",
       "num_contacts_prev_campaign    0\n",
       "prev_campaign_outcome         0\n",
       "term_deposit_subscribed       0\n",
       "mid_month                     0\n",
       "dtype: int64"
      ]
     },
     "execution_count": 301,
     "metadata": {},
     "output_type": "execute_result"
    }
   ],
   "source": [
    "# GETTING THE NULL VALUES\n",
    "train_data.isnull().sum()"
   ]
  },
  {
   "cell_type": "code",
   "execution_count": 302,
   "metadata": {},
   "outputs": [
    {
     "data": {
      "text/plain": [
       "job_type                 0\n",
       "marital                  0\n",
       "education                0\n",
       "default                  0\n",
       "housing_loan             0\n",
       "personal_loan            0\n",
       "month                    0\n",
       "prev_campaign_outcome    0\n",
       "dtype: int64"
      ]
     },
     "execution_count": 302,
     "metadata": {},
     "output_type": "execute_result"
    }
   ],
   "source": [
    "obj = train_data.select_dtypes(include='object')\n",
    "obj.isna().sum()"
   ]
  },
  {
   "cell_type": "code",
   "execution_count": 305,
   "metadata": {},
   "outputs": [],
   "source": [
    "from sklearn.preprocessing import LabelEncoder\n",
    "\n",
    "le = LabelEncoder()\n",
    "\n",
    "obj_cols = train_data.select_dtypes(include='object').columns"
   ]
  },
  {
   "cell_type": "code",
   "execution_count": 306,
   "metadata": {},
   "outputs": [
    {
     "name": "stderr",
     "output_type": "stream",
     "text": [
      "<ipython-input-306-c320283434c9>:2: SettingWithCopyWarning: \n",
      "A value is trying to be set on a copy of a slice from a DataFrame.\n",
      "Try using .loc[row_indexer,col_indexer] = value instead\n",
      "\n",
      "See the caveats in the documentation: https://pandas.pydata.org/pandas-docs/stable/user_guide/indexing.html#returning-a-view-versus-a-copy\n",
      "  train_data[col] = le.fit_transform(train_data[col])\n"
     ]
    },
    {
     "data": {
      "text/html": [
       "<div>\n",
       "<style scoped>\n",
       "    .dataframe tbody tr th:only-of-type {\n",
       "        vertical-align: middle;\n",
       "    }\n",
       "\n",
       "    .dataframe tbody tr th {\n",
       "        vertical-align: top;\n",
       "    }\n",
       "\n",
       "    .dataframe thead th {\n",
       "        text-align: right;\n",
       "    }\n",
       "</style>\n",
       "<table border=\"1\" class=\"dataframe\">\n",
       "  <thead>\n",
       "    <tr style=\"text-align: right;\">\n",
       "      <th></th>\n",
       "      <th>customer_age</th>\n",
       "      <th>job_type</th>\n",
       "      <th>marital</th>\n",
       "      <th>education</th>\n",
       "      <th>default</th>\n",
       "      <th>balance</th>\n",
       "      <th>housing_loan</th>\n",
       "      <th>personal_loan</th>\n",
       "      <th>month</th>\n",
       "      <th>last_contact_duration</th>\n",
       "      <th>num_contacts_in_campaign</th>\n",
       "      <th>num_contacts_prev_campaign</th>\n",
       "      <th>prev_campaign_outcome</th>\n",
       "      <th>term_deposit_subscribed</th>\n",
       "      <th>mid_month</th>\n",
       "    </tr>\n",
       "  </thead>\n",
       "  <tbody>\n",
       "    <tr>\n",
       "      <th>0</th>\n",
       "      <td>28.0</td>\n",
       "      <td>4</td>\n",
       "      <td>2</td>\n",
       "      <td>2</td>\n",
       "      <td>0</td>\n",
       "      <td>285.0</td>\n",
       "      <td>1</td>\n",
       "      <td>0</td>\n",
       "      <td>6</td>\n",
       "      <td>303.0</td>\n",
       "      <td>4.0</td>\n",
       "      <td>0</td>\n",
       "      <td>3</td>\n",
       "      <td>0</td>\n",
       "      <td>1</td>\n",
       "    </tr>\n",
       "    <tr>\n",
       "      <th>1</th>\n",
       "      <td>34.0</td>\n",
       "      <td>1</td>\n",
       "      <td>1</td>\n",
       "      <td>1</td>\n",
       "      <td>0</td>\n",
       "      <td>934.0</td>\n",
       "      <td>0</td>\n",
       "      <td>1</td>\n",
       "      <td>9</td>\n",
       "      <td>143.0</td>\n",
       "      <td>2.0</td>\n",
       "      <td>1</td>\n",
       "      <td>1</td>\n",
       "      <td>0</td>\n",
       "      <td>1</td>\n",
       "    </tr>\n",
       "    <tr>\n",
       "      <th>2</th>\n",
       "      <td>46.0</td>\n",
       "      <td>9</td>\n",
       "      <td>1</td>\n",
       "      <td>1</td>\n",
       "      <td>0</td>\n",
       "      <td>656.0</td>\n",
       "      <td>0</td>\n",
       "      <td>0</td>\n",
       "      <td>3</td>\n",
       "      <td>101.0</td>\n",
       "      <td>4.0</td>\n",
       "      <td>0</td>\n",
       "      <td>3</td>\n",
       "      <td>0</td>\n",
       "      <td>0</td>\n",
       "    </tr>\n",
       "    <tr>\n",
       "      <th>3</th>\n",
       "      <td>34.0</td>\n",
       "      <td>7</td>\n",
       "      <td>2</td>\n",
       "      <td>1</td>\n",
       "      <td>0</td>\n",
       "      <td>2.0</td>\n",
       "      <td>1</td>\n",
       "      <td>0</td>\n",
       "      <td>8</td>\n",
       "      <td>127.0</td>\n",
       "      <td>3.0</td>\n",
       "      <td>0</td>\n",
       "      <td>3</td>\n",
       "      <td>0</td>\n",
       "      <td>1</td>\n",
       "    </tr>\n",
       "    <tr>\n",
       "      <th>4</th>\n",
       "      <td>41.0</td>\n",
       "      <td>1</td>\n",
       "      <td>1</td>\n",
       "      <td>0</td>\n",
       "      <td>0</td>\n",
       "      <td>1352.0</td>\n",
       "      <td>1</td>\n",
       "      <td>0</td>\n",
       "      <td>8</td>\n",
       "      <td>49.0</td>\n",
       "      <td>2.0</td>\n",
       "      <td>0</td>\n",
       "      <td>3</td>\n",
       "      <td>0</td>\n",
       "      <td>0</td>\n",
       "    </tr>\n",
       "    <tr>\n",
       "      <th>5</th>\n",
       "      <td>65.0</td>\n",
       "      <td>5</td>\n",
       "      <td>1</td>\n",
       "      <td>0</td>\n",
       "      <td>0</td>\n",
       "      <td>2880.0</td>\n",
       "      <td>0</td>\n",
       "      <td>0</td>\n",
       "      <td>0</td>\n",
       "      <td>163.0</td>\n",
       "      <td>1.0</td>\n",
       "      <td>0</td>\n",
       "      <td>3</td>\n",
       "      <td>1</td>\n",
       "      <td>1</td>\n",
       "    </tr>\n",
       "    <tr>\n",
       "      <th>6</th>\n",
       "      <td>57.0</td>\n",
       "      <td>1</td>\n",
       "      <td>1</td>\n",
       "      <td>0</td>\n",
       "      <td>0</td>\n",
       "      <td>495.0</td>\n",
       "      <td>0</td>\n",
       "      <td>0</td>\n",
       "      <td>1</td>\n",
       "      <td>687.0</td>\n",
       "      <td>4.0</td>\n",
       "      <td>0</td>\n",
       "      <td>3</td>\n",
       "      <td>1</td>\n",
       "      <td>1</td>\n",
       "    </tr>\n",
       "    <tr>\n",
       "      <th>7</th>\n",
       "      <td>37.0</td>\n",
       "      <td>4</td>\n",
       "      <td>1</td>\n",
       "      <td>2</td>\n",
       "      <td>0</td>\n",
       "      <td>650.0</td>\n",
       "      <td>1</td>\n",
       "      <td>0</td>\n",
       "      <td>8</td>\n",
       "      <td>210.0</td>\n",
       "      <td>1.0</td>\n",
       "      <td>0</td>\n",
       "      <td>3</td>\n",
       "      <td>0</td>\n",
       "      <td>1</td>\n",
       "    </tr>\n",
       "    <tr>\n",
       "      <th>8</th>\n",
       "      <td>29.0</td>\n",
       "      <td>9</td>\n",
       "      <td>1</td>\n",
       "      <td>1</td>\n",
       "      <td>0</td>\n",
       "      <td>265.0</td>\n",
       "      <td>1</td>\n",
       "      <td>0</td>\n",
       "      <td>1</td>\n",
       "      <td>160.0</td>\n",
       "      <td>2.0</td>\n",
       "      <td>0</td>\n",
       "      <td>3</td>\n",
       "      <td>0</td>\n",
       "      <td>1</td>\n",
       "    </tr>\n",
       "    <tr>\n",
       "      <th>9</th>\n",
       "      <td>50.0</td>\n",
       "      <td>1</td>\n",
       "      <td>1</td>\n",
       "      <td>1</td>\n",
       "      <td>0</td>\n",
       "      <td>407.0</td>\n",
       "      <td>1</td>\n",
       "      <td>1</td>\n",
       "      <td>1</td>\n",
       "      <td>233.0</td>\n",
       "      <td>2.0</td>\n",
       "      <td>0</td>\n",
       "      <td>3</td>\n",
       "      <td>0</td>\n",
       "      <td>0</td>\n",
       "    </tr>\n",
       "  </tbody>\n",
       "</table>\n",
       "</div>"
      ],
      "text/plain": [
       "   customer_age  job_type  marital  education  default  balance  housing_loan  \\\n",
       "0          28.0         4        2          2        0    285.0             1   \n",
       "1          34.0         1        1          1        0    934.0             0   \n",
       "2          46.0         9        1          1        0    656.0             0   \n",
       "3          34.0         7        2          1        0      2.0             1   \n",
       "4          41.0         1        1          0        0   1352.0             1   \n",
       "5          65.0         5        1          0        0   2880.0             0   \n",
       "6          57.0         1        1          0        0    495.0             0   \n",
       "7          37.0         4        1          2        0    650.0             1   \n",
       "8          29.0         9        1          1        0    265.0             1   \n",
       "9          50.0         1        1          1        0    407.0             1   \n",
       "\n",
       "   personal_loan  month  last_contact_duration  num_contacts_in_campaign  \\\n",
       "0              0      6                  303.0                       4.0   \n",
       "1              1      9                  143.0                       2.0   \n",
       "2              0      3                  101.0                       4.0   \n",
       "3              0      8                  127.0                       3.0   \n",
       "4              0      8                   49.0                       2.0   \n",
       "5              0      0                  163.0                       1.0   \n",
       "6              0      1                  687.0                       4.0   \n",
       "7              0      8                  210.0                       1.0   \n",
       "8              0      1                  160.0                       2.0   \n",
       "9              1      1                  233.0                       2.0   \n",
       "\n",
       "   num_contacts_prev_campaign  prev_campaign_outcome  term_deposit_subscribed  \\\n",
       "0                           0                      3                        0   \n",
       "1                           1                      1                        0   \n",
       "2                           0                      3                        0   \n",
       "3                           0                      3                        0   \n",
       "4                           0                      3                        0   \n",
       "5                           0                      3                        1   \n",
       "6                           0                      3                        1   \n",
       "7                           0                      3                        0   \n",
       "8                           0                      3                        0   \n",
       "9                           0                      3                        0   \n",
       "\n",
       "   mid_month  \n",
       "0          1  \n",
       "1          1  \n",
       "2          0  \n",
       "3          1  \n",
       "4          0  \n",
       "5          1  \n",
       "6          1  \n",
       "7          1  \n",
       "8          1  \n",
       "9          0  "
      ]
     },
     "execution_count": 306,
     "metadata": {},
     "output_type": "execute_result"
    }
   ],
   "source": [
    "for col in obj_cols:\n",
    "    train_data[col] = le.fit_transform(train_data[col])\n",
    "\n",
    "train_data.head(10)"
   ]
  },
  {
   "cell_type": "code",
   "execution_count": 307,
   "metadata": {},
   "outputs": [],
   "source": [
    "train_data.to_csv('train-clean.csv', index=False)\n",
    "train_data.to_excel('train-clean.xlsx', index=False)"
   ]
  }
 ],
 "metadata": {
  "kernelspec": {
   "display_name": "base",
   "language": "python",
   "name": "python3"
  },
  "language_info": {
   "codemirror_mode": {
    "name": "ipython",
    "version": 3
   },
   "file_extension": ".py",
   "mimetype": "text/x-python",
   "name": "python",
   "nbconvert_exporter": "python",
   "pygments_lexer": "ipython3",
   "version": "3.8.3"
  },
  "orig_nbformat": 4
 },
 "nbformat": 4,
 "nbformat_minor": 2
}
