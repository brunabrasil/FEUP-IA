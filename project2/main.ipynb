{
 "cells": [
  {
   "cell_type": "code",
   "execution_count": null,
   "metadata": {},
   "outputs": [],
   "source": []
  },
  {
   "cell_type": "code",
   "execution_count": null,
   "metadata": {},
   "outputs": [],
   "source": [
    "train_data.drop('id', axis=1, inplace=True)"
   ]
  },
  {
   "cell_type": "code",
   "execution_count": 92,
   "metadata": {},
   "outputs": [
    {
     "data": {
      "text/plain": [
       "blue-collar      6385\n",
       "management       6045\n",
       "technician       4790\n",
       "admin.           3359\n",
       "services         2735\n",
       "retired          1466\n",
       "self-employed    1007\n",
       "entrepreneur      954\n",
       "unemployed        845\n",
       "housemaid         832\n",
       "student           608\n",
       "unknown           184\n",
       "Name: job_type, dtype: int64"
      ]
     },
     "execution_count": 92,
     "metadata": {},
     "output_type": "execute_result"
    }
   ],
   "source": [
    "train_data['job_type'].value_counts()"
   ]
  },
  {
   "cell_type": "code",
   "execution_count": null,
   "metadata": {},
   "outputs": [],
   "source": [
    "train_data['prev_campaign_outcome'].value_counts()"
   ]
  },
  {
   "cell_type": "code",
   "execution_count": null,
   "metadata": {},
   "outputs": [],
   "source": [
    "train_data.to_csv('train-clean.csv', index=False)\n",
    "train_data.to_excel('train-clean.xlsx', index=False)"
   ]
  },
  {
   "cell_type": "code",
   "execution_count": null,
   "metadata": {},
   "outputs": [],
   "source": [
    "import numpy as np\n",
    "import pandas as pd\n",
    "import seaborn as sns\n",
    "import matplotlib.pyplot as plt\n",
    "\"\"\" \n",
    "About this file\n",
    "Attribute Information:\n",
    "Input variables (Feature):\n",
    "\n",
    "Numeric:\n",
    "\n",
    "1-Id\n",
    "2-Age\n",
    "3-Balance: The bank balance of the customer.\n",
    "4-Day_of_Month: The day of the month on which communication took place\n",
    "5-Duration: States the duration of the call (in sec) regarding the campaign. This is an important\n",
    "feature as this attribute highly affects the target label (e.g., if duration=0 then y='no'). Thus, this input will be included for benchmark purposes and will be discarded if the intention is to have a realistic predictive model.\n",
    "6-Num_contacts_in_campaign: Number of contacts performed during the campaign with the client for subscription\n",
    "7-Days_since_prev_campaign_contact: Gap (in number of days) between two contacts\n",
    "8-Num_contacts_prev_campaign: Number of contacts performed for promoting the campaign beforehand\n",
    "\n",
    "Categorical:\n",
    "9-Job_type\n",
    "10-Marital: States the marital status of the customer\n",
    "11-Education\n",
    "12-Default: Is the customer a defaulter or not?\n",
    "{'yes', 'no', 'unknown'}\n",
    "13-Housing_loan: Has a housing loan or not?\n",
    "14-Personal_loan: Has a personal loan or not?\n",
    "15-Communication_type: Mode of communication during the campaign\n",
    "16-Month: Month in which contact with the customer took place for the campaign\n",
    "17-Prev_campaign_outcome: The outcome of promotional contact with the client beforehand for attending/interest in the campaign\n",
    "\n",
    "Output variable (Label):\n",
    "18-Term_deposit_subscribed: Categorical target label to be predicted {'0, '1'}\n",
    "\"\"\""
   ]
  },
  {
   "cell_type": "code",
   "execution_count": null,
   "metadata": {},
   "outputs": [],
   "source": [
    "path1 = 'Train.xlsx'\n",
    "train_data = pd.read_excel(path1)\n",
    "train_data.info()"
   ]
  },
  {
   "cell_type": "code",
   "execution_count": null,
   "metadata": {},
   "outputs": [],
   "source": [
    "duplicate = train_data[train_data.duplicated(keep='first')]\n",
    "print(\"DUPLICATE ROWS IN TRAINING DATASET:\",duplicate.shape)"
   ]
  },
  {
   "cell_type": "code",
   "execution_count": null,
   "metadata": {},
   "outputs": [],
   "source": [
    "# GETTING THE NULL VALUES\n",
    "train_data.isnull().sum()"
   ]
  },
  {
   "cell_type": "code",
   "execution_count": null,
   "metadata": {},
   "outputs": [],
   "source": [
    "# DROPPING COLUMN 'days_since_prev_campaign_contact' SINCE IT HAS 80% NULL VALUE.\n",
    "train_data.drop(['days_since_prev_campaign_contact'], axis=1, inplace=True)\n",
    "train_data"
   ]
  },
  {
   "cell_type": "code",
   "execution_count": null,
   "metadata": {},
   "outputs": [],
   "source": [
    "# GETTING NULL VALUES\n",
    "train_data.isnull().sum()"
   ]
  },
  {
   "cell_type": "code",
   "execution_count": null,
   "metadata": {},
   "outputs": [],
   "source": [
    "obj = train_data.select_dtypes(include='object')\n",
    "obj.isna().sum()"
   ]
  },
  {
   "cell_type": "code",
   "execution_count": null,
   "metadata": {},
   "outputs": [],
   "source": [
    "# GETTING MODE VALUE OF MARITAL STATUS\n",
    "x = train_data['marital'].mode()\n",
    "x"
   ]
  },
  {
   "cell_type": "code",
   "execution_count": null,
   "metadata": {},
   "outputs": [],
   "source": [
    "# FILLING NULL VALUES WITH MODE IN marital\n",
    "train_data['marital'].fillna(x[0], inplace=True)"
   ]
  },
  {
   "cell_type": "code",
   "execution_count": null,
   "metadata": {},
   "outputs": [],
   "source": [
    "# GETTING MODE VALUE OF personal_loan\n",
    "x = train_data['personal_loan'].mode()\n",
    "x"
   ]
  },
  {
   "cell_type": "code",
   "execution_count": null,
   "metadata": {},
   "outputs": [],
   "source": [
    "# FILLING NULL VALUES WITH MODE IN personal_loan\n",
    "train_data['personal_loan'].fillna(x[0], inplace=True)"
   ]
  },
  {
   "cell_type": "code",
   "execution_count": null,
   "metadata": {},
   "outputs": [],
   "source": [
    "float_cols = train_data.select_dtypes(include='float64')\n",
    "float_cols.isna().sum()"
   ]
  },
  {
   "cell_type": "code",
   "execution_count": null,
   "metadata": {},
   "outputs": [],
   "source": [
    "fig, axes = plt.subplots(1, 4, figsize=(28, 7), sharey=True)\n",
    "sns.boxplot(train_data['customer_age'], ax=axes[0], color='r')\n",
    "sns.boxplot(train_data['balance'], ax=axes[1], color='b')\n",
    "sns.boxplot(train_data['num_contacts_prev_campaign'], ax=axes[2], color='y')\n",
    "sns.boxplot(train_data['last_contact_duration'], ax=axes[3], color='cyan')"
   ]
  },
  {
   "cell_type": "code",
   "execution_count": null,
   "metadata": {},
   "outputs": [],
   "source": [
    "Q1 = train_data.quantile(0.10)\n",
    "Q3 = train_data.quantile(0.90)\n",
    "IQR = Q3 - Q1\n",
    "\n",
    "train_data = train_data[~((train_data < (Q1 - 1.5 * IQR)) |(train_data > (Q3 + 1.5 * IQR))).any(axis=1)]"
   ]
  },
  {
   "cell_type": "code",
   "execution_count": null,
   "metadata": {},
   "outputs": [],
   "source": [
    "fig, axes = plt.subplots(1, 4, figsize=(28, 7), sharey=True)\n",
    "sns.boxplot(train_data['customer_age'], ax=axes[0], color='r')\n",
    "sns.boxplot(train_data['balance'], ax=axes[1], color='b')\n",
    "sns.boxplot(train_data['num_contacts_prev_campaign'], ax=axes[2], color='y')\n",
    "sns.boxplot(train_data['last_contact_duration'], ax=axes[3], color='cyan')"
   ]
  },
  {
   "cell_type": "code",
   "execution_count": null,
   "metadata": {},
   "outputs": [],
   "source": [
    "# GETTING MEDIAN AGE AS AGE IS FLOATING VALUE\n",
    "x = train_data['customer_age'].median()\n",
    "x"
   ]
  },
  {
   "cell_type": "code",
   "execution_count": null,
   "metadata": {},
   "outputs": [],
   "source": [
    "# FILLING NULL VALUES IN customer_age COLUMN WITH MEDIAN\n",
    "train_data['customer_age'].fillna(x, inplace=True)"
   ]
  },
  {
   "cell_type": "code",
   "execution_count": null,
   "metadata": {},
   "outputs": [],
   "source": [
    "# GETTING MEDIAN BALANCE VALUE\n",
    "x = train_data['balance'].median()\n",
    "x"
   ]
  },
  {
   "cell_type": "code",
   "execution_count": null,
   "metadata": {},
   "outputs": [],
   "source": [
    "# FILLING NULL VALUES IN balance COLUMN WITH MEDIAN\n",
    "train_data['balance'].fillna(x, inplace=True)"
   ]
  },
  {
   "cell_type": "code",
   "execution_count": null,
   "metadata": {},
   "outputs": [],
   "source": [
    "# GETTING MEDIAN VALUE OF last_call_duration COLUMN\n",
    "x = train_data['last_contact_duration'].median()\n",
    "x"
   ]
  },
  {
   "cell_type": "code",
   "execution_count": null,
   "metadata": {},
   "outputs": [],
   "source": [
    "# FILLING NULL VALUES IN last_contact_duration COLUMN WITH MEDIAN\n",
    "train_data['last_contact_duration'].fillna(x, inplace=True)"
   ]
  },
  {
   "cell_type": "code",
   "execution_count": null,
   "metadata": {},
   "outputs": [],
   "source": [
    "# GETTING MEDIAN VALUE OF num_contact_in_campaign COLUMN\n",
    "x = train_data['num_contacts_in_campaign'].median()\n",
    "x"
   ]
  },
  {
   "cell_type": "code",
   "execution_count": null,
   "metadata": {},
   "outputs": [],
   "source": [
    "# FILLING NULL VALUES IN num_contacts_in_campaign COLUMN WITH MEDIAN AS MEAN VALUE CAN BE INFLUENCED BY OUTLIER, BUT MEDIAN WILL NOT\n",
    "train_data['num_contacts_in_campaign'].fillna(x, inplace=True)"
   ]
  },
  {
   "cell_type": "code",
   "execution_count": null,
   "metadata": {},
   "outputs": [],
   "source": [
    "train_data.isnull().sum()"
   ]
  },
  {
   "cell_type": "code",
   "execution_count": null,
   "metadata": {},
   "outputs": [],
   "source": [
    "# create the mid_month column\n",
    "train_data['mid_month'] = train_data['day_of_month'].apply(lambda x: 1 if x > 15 else 0)\n",
    "\n",
    "# delete the day_of_month column\n",
    "train_data.drop('day_of_month', axis=1, inplace=True)\n",
    "\n",
    "train_data"
   ]
  },
  {
   "cell_type": "code",
   "execution_count": null,
   "metadata": {},
   "outputs": [],
   "source": [
    "train_data[\"communication_type\"].value_counts()"
   ]
  },
  {
   "cell_type": "code",
   "execution_count": 85,
   "metadata": {},
   "outputs": [
    {
     "data": {
      "text/plain": [
       "blue-collar      6385\n",
       "management       6045\n",
       "technician       4790\n",
       "admin.           3359\n",
       "services         2735\n",
       "retired          1466\n",
       "self-employed    1007\n",
       "entrepreneur      954\n",
       "unemployed        845\n",
       "housemaid         832\n",
       "student           608\n",
       "unknown           184\n",
       "Name: job_type, dtype: int64"
      ]
     },
     "execution_count": 85,
     "metadata": {},
     "output_type": "execute_result"
    }
   ],
   "source": [
    "train_data[\"job_type\"].value_counts()"
   ]
  },
  {
   "cell_type": "code",
   "execution_count": null,
   "metadata": {},
   "outputs": [],
   "source": [
    "\n",
    "# deleting the column since there is a huge amount of \"cellular\" (64%) and we think that it is not correlated with what we are studying\n",
    "train_data.drop('communication_type', axis=1, inplace=True)"
   ]
  },
  {
   "cell_type": "code",
   "execution_count": null,
   "metadata": {},
   "outputs": [],
   "source": [
    "import numpy as np\n",
    "import pandas as pd\n",
    "import seaborn as sns\n",
    "import matplotlib.pyplot as plt\n",
    "\"\"\" \n",
    "About this file\n",
    "Attribute Information:\n",
    "Input variables (Feature):\n",
    "\n",
    "Numeric:\n",
    "\n",
    "1-Id\n",
    "2-Age\n",
    "3-Balance: The bank balance of the customer.\n",
    "4-Day_of_Month: The day of the month on which communication took place\n",
    "5-Duration: States the duration of the call (in sec) regarding the campaign. This is an important\n",
    "feature as this attribute highly affects the target label (e.g., if duration=0 then y='no'). Thus, this input will be included for benchmark purposes and will be discarded if the intention is to have a realistic predictive model.\n",
    "6-Num_contacts_in_campaign: Number of contacts performed during the campaign with the client for subscription\n",
    "7-Days_since_prev_campaign_contact: Gap (in number of days) between two contacts\n",
    "8-Num_contacts_prev_campaign: Number of contacts performed for promoting the campaign beforehand\n",
    "\n",
    "Categorical:\n",
    "9-Job_type\n",
    "10-Marital: States the marital status of the customer\n",
    "11-Education\n",
    "12-Default: Is the customer a defaulter or not?\n",
    "{'yes', 'no', 'unknown'}\n",
    "13-Housing_loan: Has a housing loan or not?\n",
    "14-Personal_loan: Has a personal loan or not?\n",
    "15-Communication_type: Mode of communication during the campaign\n",
    "16-Month: Month in which contact with the customer took place for the campaign\n",
    "17-Prev_campaign_outcome: The outcome of promotional contact with the client beforehand for attending/interest in the campaign\n",
    "\n",
    "Output variable (Label):\n",
    "18-Term_deposit_subscribed: Categorical target label to be predicted {'0, '1'}\n",
    "\"\"\""
   ]
  }
 ],
 "metadata": {
  "kernelspec": {
   "display_name": "base",
   "language": "python",
   "name": "python3"
  },
  "language_info": {
   "codemirror_mode": {
    "name": "ipython",
    "version": 3
   },
   "file_extension": ".py",
   "mimetype": "text/x-python",
   "name": "python",
   "nbconvert_exporter": "python",
   "pygments_lexer": "ipython3",
   "version": "3.8.3"
  },
  "orig_nbformat": 4
 },
 "nbformat": 4,
 "nbformat_minor": 2
}
