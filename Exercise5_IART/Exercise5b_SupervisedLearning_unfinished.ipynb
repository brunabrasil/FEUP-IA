{
 "cells": [
  {
   "attachments": {},
   "cell_type": "markdown",
   "metadata": {},
   "source": [
    "Continuing with the Iris dataset, suppose that we have Iris already identified in the 3 classes but now we also have the Iris packed in different types of packages: “Simple – 0”, “Gift – 1” and “Luxury – 2”. We also have a new variable “price” with three possibilities: “Low”, “Medium”, “High”.\n",
    "\n",
    "We now have a different classification problem in which we want to predict the “price” classification based on the remaining characteristics: sepal_length_cm, sepal_width_cm, petal_length_cm, petal_width_cm, iris_type, and package.\n",
    "a) Create a new notebook and start by importing the needed libraries."
   ]
  },
  {
   "cell_type": "code",
   "execution_count": 1,
   "metadata": {},
   "outputs": [],
   "source": [
    "import pandas as pd\n",
    "import numpy as np\n",
    "import matplotlib.pyplot as plt\n",
    "from sklearn.model_selection import train_test_split, GridSearchCV, cross_val_score\n",
    "from sklearn.tree import DecisionTreeClassifier\n",
    "from sklearn.metrics import accuracy_score, classification_report, confusion_matrix\n"
   ]
  },
  {
   "attachments": {},
   "cell_type": "markdown",
   "metadata": {},
   "source": [
    "b) Read the data from the CSV file and check the data using the head(), describe(), and other\n",
    "Pandas commands."
   ]
  },
  {
   "cell_type": "code",
   "execution_count": 2,
   "metadata": {},
   "outputs": [
    {
     "name": "stdout",
     "output_type": "stream",
     "text": [
      "   sepal_length_cm  sepal_width_cm  petal_length_cm  petal_width_cm  \\\n",
      "0              5.1             3.5              1.4             0.2   \n",
      "1              4.9             3.0              1.4             0.2   \n",
      "2              4.7             3.2              1.3             0.2   \n",
      "3              4.6             3.1              1.5             0.2   \n",
      "4              5.0             3.6              1.4             0.2   \n",
      "\n",
      "     iris_type  package   price  \n",
      "0  Iris-setosa        2  Medium  \n",
      "1  Iris-setosa        1     Low  \n",
      "2  Iris-setosa        0     Low  \n",
      "3  Iris-setosa        0     Low  \n",
      "4  Iris-setosa        0     Low  \n",
      "       sepal_length_cm  sepal_width_cm  petal_length_cm  petal_width_cm  \\\n",
      "count       149.000000      149.000000       149.000000      149.000000   \n",
      "mean          5.847651        3.059732         3.775168        1.209732   \n",
      "std           0.799542        0.430104         1.758720        0.762191   \n",
      "min           4.400000        2.000000         1.000000        0.100000   \n",
      "25%           5.100000        2.800000         1.600000        0.300000   \n",
      "50%           5.800000        3.000000         4.400000        1.300000   \n",
      "75%           6.400000        3.300000         5.100000        1.800000   \n",
      "max           7.900000        4.400000         6.900000        2.500000   \n",
      "\n",
      "          package  \n",
      "count  149.000000  \n",
      "mean     0.442953  \n",
      "std      0.710753  \n",
      "min      0.000000  \n",
      "25%      0.000000  \n",
      "50%      0.000000  \n",
      "75%      1.000000  \n",
      "max      2.000000  \n",
      "sepal_length_cm    float64\n",
      "sepal_width_cm     float64\n",
      "petal_length_cm    float64\n",
      "petal_width_cm     float64\n",
      "iris_type           object\n",
      "package              int64\n",
      "price               object\n",
      "dtype: object\n"
     ]
    }
   ],
   "source": [
    "iris_data = pd.read_csv('iris-data-new2.csv')\n",
    "\n",
    "# View the first few rows\n",
    "print(iris_data.head())\n",
    "\n",
    "# Get summary statistics for the dataset\n",
    "print(iris_data.describe())\n",
    "\n",
    "# Check the data types of each column\n",
    "print(iris_data.dtypes)"
   ]
  },
  {
   "attachments": {},
   "cell_type": "markdown",
   "metadata": {},
   "source": [
    "c) Using only the attribute sepal_length_cm, sepal_width_cm, petal_length_cm,\n",
    "petal_width_cm, fit a simple decision tree model to the data, using holdout, with 75% for\n",
    "training."
   ]
  },
  {
   "cell_type": "code",
   "execution_count": 9,
   "metadata": {},
   "outputs": [
    {
     "name": "stdout",
     "output_type": "stream",
     "text": [
      "Accuracy: 0.82\n"
     ]
    }
   ],
   "source": [
    "# Extract the features and labels from the DataFrame\n",
    "X = iris_data[['sepal_length_cm', 'sepal_width_cm', 'petal_length_cm', 'petal_width_cm']]\n",
    "y = iris_data['price']\n",
    "\n",
    "# Split the data into training and testing sets\n",
    "X_train, X_test, y_train, y_test = train_test_split(X, y, test_size=0.25)\n",
    "\n",
    "# Fit a decision tree classifier on the training set\n",
    "tree = DecisionTreeClassifier()\n",
    "tree.fit(X_train, y_train)\n",
    "\n",
    "# Evaluate the performance of the classifier on the testing set\n",
    "accuracy = tree.score(X_test, y_test)\n",
    "print('Accuracy: {:.2f}'.format(accuracy))"
   ]
  },
  {
   "attachments": {},
   "cell_type": "markdown",
   "metadata": {},
   "source": [
    "d) Analyze the accuracy, precision, recall and f-measure achieved."
   ]
  },
  {
   "cell_type": "code",
   "execution_count": 10,
   "metadata": {},
   "outputs": [
    {
     "name": "stdout",
     "output_type": "stream",
     "text": [
      "              precision    recall  f1-score   support\n",
      "\n",
      "        High       1.00      0.67      0.80         3\n",
      "         Low       0.86      0.83      0.84        23\n",
      "      Medium       0.71      0.83      0.77        12\n",
      "\n",
      "    accuracy                           0.82        38\n",
      "   macro avg       0.86      0.78      0.80        38\n",
      "weighted avg       0.83      0.82      0.82        38\n",
      "\n"
     ]
    }
   ],
   "source": [
    "# make predictions on testing data\n",
    "y_pred = tree.predict(X_test)\n",
    "\n",
    "# print classification report\n",
    "print(classification_report(y_test, y_pred))"
   ]
  }
 ],
 "metadata": {
  "kernelspec": {
   "display_name": "Python 3",
   "language": "python",
   "name": "python3"
  },
  "language_info": {
   "codemirror_mode": {
    "name": "ipython",
    "version": 3
   },
   "file_extension": ".py",
   "mimetype": "text/x-python",
   "name": "python",
   "nbconvert_exporter": "python",
   "pygments_lexer": "ipython3",
   "version": "3.10.6"
  },
  "orig_nbformat": 4
 },
 "nbformat": 4,
 "nbformat_minor": 2
}
